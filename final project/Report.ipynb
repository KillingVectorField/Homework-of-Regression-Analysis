{
 "cells": [
  {
   "cell_type": "markdown",
   "metadata": {},
   "source": [
    "# 初步分析\n",
    "\n",
    "一共86个案例，其中自变量21个，因变量18个。"
   ]
  },
  {
   "cell_type": "code",
   "execution_count": 1,
   "metadata": {
    "scrolled": true
   },
   "outputs": [
    {
     "data": {
      "text/html": [
       "<table>\n",
       "<thead><tr><th></th><th scope=col>Treatment</th><th scope=col>PP1</th><th scope=col>PP6</th><th scope=col>PP7</th><th scope=col>PP8</th><th scope=col>PP9</th><th scope=col>PP10</th><th scope=col>PP11</th><th scope=col>PP12</th><th scope=col>PP13</th><th scope=col>...</th><th scope=col>O14</th><th scope=col>O15</th><th scope=col>O16</th><th scope=col>O17</th><th scope=col>O18</th><th scope=col>PP2</th><th scope=col>PP3</th><th scope=col>PP4</th><th scope=col>PP5</th><th scope=col></th></tr></thead>\n",
       "<tbody>\n",
       "\t<tr><th scope=row>54</th><td>1  </td><td>1  </td><td>1  </td><td>1  </td><td>1  </td><td>1  </td><td>1  </td><td>1  </td><td>1  </td><td>1  </td><td>...</td><td>1  </td><td>1  </td><td>1  </td><td>1  </td><td>1  </td><td>1  </td><td>1  </td><td> 1 </td><td> 1 </td><td> 0 </td></tr>\n",
       "\t<tr><th scope=row> 2</th><td>1  </td><td>1  </td><td>1  </td><td>1  </td><td>1  </td><td>1  </td><td>1  </td><td>1  </td><td>1  </td><td>1  </td><td>...</td><td>1  </td><td>1  </td><td>1  </td><td>1  </td><td>1  </td><td>0  </td><td>0  </td><td> 1 </td><td> 1 </td><td> 2 </td></tr>\n",
       "\t<tr><th scope=row>26</th><td>1  </td><td>1  </td><td>1  </td><td>1  </td><td>1  </td><td>1  </td><td>1  </td><td>1  </td><td>1  </td><td>1  </td><td>...</td><td>1  </td><td>1  </td><td>1  </td><td>1  </td><td>1  </td><td>1  </td><td>1  </td><td> 0 </td><td> 0 </td><td> 2 </td></tr>\n",
       "\t<tr><th scope=row> 4</th><td>1  </td><td>1  </td><td>1  </td><td>1  </td><td>1  </td><td>1  </td><td>1  </td><td>1  </td><td>1  </td><td>1  </td><td>...</td><td>1  </td><td>1  </td><td>1  </td><td>1  </td><td>1  </td><td>0  </td><td>0  </td><td> 0 </td><td> 0 </td><td> 4 </td></tr>\n",
       "\t<tr><th scope=row></th><td>0  </td><td>0  </td><td>0  </td><td>0  </td><td>0  </td><td>0  </td><td>0  </td><td>0  </td><td>0  </td><td>0  </td><td>...</td><td>0  </td><td>0  </td><td>0  </td><td>0  </td><td>0  </td><td>6  </td><td>6  </td><td>30 </td><td>30 </td><td>72 </td></tr>\n",
       "</tbody>\n",
       "</table>\n"
      ],
      "text/latex": [
       "\\begin{tabular}{r|lllllllllllllllllllllllllllllllllllllllll}\n",
       "  & Treatment & PP1 & PP6 & PP7 & PP8 & PP9 & PP10 & PP11 & PP12 & PP13 & ... & O14 & O15 & O16 & O17 & O18 & PP2 & PP3 & PP4 & PP5 & \\\\\n",
       "\\hline\n",
       "\t54 & 1   & 1   & 1   & 1   & 1   & 1   & 1   & 1   & 1   & 1   & ... & 1   & 1   & 1   & 1   & 1   & 1   & 1   &  1  &  1  &  0 \\\\\n",
       "\t 2 & 1   & 1   & 1   & 1   & 1   & 1   & 1   & 1   & 1   & 1   & ... & 1   & 1   & 1   & 1   & 1   & 0   & 0   &  1  &  1  &  2 \\\\\n",
       "\t26 & 1   & 1   & 1   & 1   & 1   & 1   & 1   & 1   & 1   & 1   & ... & 1   & 1   & 1   & 1   & 1   & 1   & 1   &  0  &  0  &  2 \\\\\n",
       "\t 4 & 1   & 1   & 1   & 1   & 1   & 1   & 1   & 1   & 1   & 1   & ... & 1   & 1   & 1   & 1   & 1   & 0   & 0   &  0  &  0  &  4 \\\\\n",
       "\t & 0   & 0   & 0   & 0   & 0   & 0   & 0   & 0   & 0   & 0   & ... & 0   & 0   & 0   & 0   & 0   & 6   & 6   & 30  & 30  & 72 \\\\\n",
       "\\end{tabular}\n"
      ],
      "text/markdown": [
       "1. 1\n",
       "2. 1\n",
       "3. 1\n",
       "4. 1\n",
       "5. 0\n",
       "6. 1\n",
       "7. 1\n",
       "8. 1\n",
       "9. 1\n",
       "10. 0\n",
       "11. 1\n",
       "12. 1\n",
       "13. 1\n",
       "14. 1\n",
       "15. 0\n",
       "16. 1\n",
       "17. 1\n",
       "18. 1\n",
       "19. 1\n",
       "20. 0\n",
       "21. 1\n",
       "22. 1\n",
       "23. 1\n",
       "24. 1\n",
       "25. 0\n",
       "26. 1\n",
       "27. 1\n",
       "28. 1\n",
       "29. 1\n",
       "30. 0\n",
       "31. 1\n",
       "32. 1\n",
       "33. 1\n",
       "34. 1\n",
       "35. 0\n",
       "36. 1\n",
       "37. 1\n",
       "38. 1\n",
       "39. 1\n",
       "40. 0\n",
       "41. 1\n",
       "42. 1\n",
       "43. 1\n",
       "44. 1\n",
       "45. 0\n",
       "46. 1\n",
       "47. 1\n",
       "48. 1\n",
       "49. 1\n",
       "50. 0\n",
       "51. 1\n",
       "52. 1\n",
       "53. 1\n",
       "54. 1\n",
       "55. 0\n",
       "56. 1\n",
       "57. 1\n",
       "58. 1\n",
       "59. 1\n",
       "60. 0\n",
       "61. 1\n",
       "62. 1\n",
       "63. 1\n",
       "64. 1\n",
       "65. 0\n",
       "66. 1\n",
       "67. 1\n",
       "68. 1\n",
       "69. 1\n",
       "70. 0\n",
       "71. 1\n",
       "72. 1\n",
       "73. 1\n",
       "74. 1\n",
       "75. 0\n",
       "76. 1\n",
       "77. 1\n",
       "78. 1\n",
       "79. 1\n",
       "80. 0\n",
       "81. 1\n",
       "82. 1\n",
       "83. 1\n",
       "84. 1\n",
       "85. 0\n",
       "86. 1\n",
       "87. 1\n",
       "88. 1\n",
       "89. 1\n",
       "90. 0\n",
       "91. 1\n",
       "92. 1\n",
       "93. 1\n",
       "94. 1\n",
       "95. 0\n",
       "96. 1\n",
       "97. 1\n",
       "98. 1\n",
       "99. 1\n",
       "100. 0\n",
       "101. 1\n",
       "102. 1\n",
       "103. 1\n",
       "104. 1\n",
       "105. 0\n",
       "106. 1\n",
       "107. 1\n",
       "108. 1\n",
       "109. 1\n",
       "110. 0\n",
       "111. 1\n",
       "112. 1\n",
       "113. 1\n",
       "114. 1\n",
       "115. 0\n",
       "116. 1\n",
       "117. 1\n",
       "118. 1\n",
       "119. 1\n",
       "120. 0\n",
       "121. 1\n",
       "122. 1\n",
       "123. 1\n",
       "124. 1\n",
       "125. 0\n",
       "126. 1\n",
       "127. 1\n",
       "128. 1\n",
       "129. 1\n",
       "130. 0\n",
       "131. 1\n",
       "132. 1\n",
       "133. 1\n",
       "134. 1\n",
       "135. 0\n",
       "136. 1\n",
       "137. 1\n",
       "138. 1\n",
       "139. 1\n",
       "140. 0\n",
       "141. 1\n",
       "142. 1\n",
       "143. 1\n",
       "144. 1\n",
       "145. 0\n",
       "146. 1\n",
       "147. 1\n",
       "148. 1\n",
       "149. 1\n",
       "150. 0\n",
       "151. 1\n",
       "152. 1\n",
       "153. 1\n",
       "154. 1\n",
       "155. 0\n",
       "156. 1\n",
       "157. 1\n",
       "158. 1\n",
       "159. 1\n",
       "160. 0\n",
       "161. 1\n",
       "162. 1\n",
       "163. 1\n",
       "164. 1\n",
       "165. 0\n",
       "166. 1\n",
       "167. 1\n",
       "168. 1\n",
       "169. 1\n",
       "170. 0\n",
       "171. 1\n",
       "172. 1\n",
       "173. 1\n",
       "174. 1\n",
       "175. 0\n",
       "176. 1\n",
       "177. 1\n",
       "178. 1\n",
       "179. 1\n",
       "180. 0\n",
       "181. 1\n",
       "182. 0\n",
       "183. 1\n",
       "184. 0\n",
       "185. 6\n",
       "186. 1\n",
       "187. 0\n",
       "188. 1\n",
       "189. 0\n",
       "190. 6\n",
       "191. 1\n",
       "192. 1\n",
       "193. 0\n",
       "194. 0\n",
       "195. 30\n",
       "196. 1\n",
       "197. 1\n",
       "198. 0\n",
       "199. 0\n",
       "200. 30\n",
       "201. 0\n",
       "202. 2\n",
       "203. 2\n",
       "204. 4\n",
       "205. 72\n",
       "\n",
       "\n"
      ],
      "text/plain": [
       "   Treatment PP1 PP6 PP7 PP8 PP9 PP10 PP11 PP12 PP13 ... O14 O15 O16 O17 O18\n",
       "54 1         1   1   1   1   1   1    1    1    1    ... 1   1   1   1   1  \n",
       " 2 1         1   1   1   1   1   1    1    1    1    ... 1   1   1   1   1  \n",
       "26 1         1   1   1   1   1   1    1    1    1    ... 1   1   1   1   1  \n",
       " 4 1         1   1   1   1   1   1    1    1    1    ... 1   1   1   1   1  \n",
       "   0         0   0   0   0   0   0    0    0    0    ... 0   0   0   0   0  \n",
       "   PP2 PP3 PP4 PP5   \n",
       "54 1   1    1   1   0\n",
       " 2 0   0    1   1   2\n",
       "26 1   1    0   0   2\n",
       " 4 0   0    0   0   4\n",
       "   6   6   30  30  72"
      ]
     },
     "metadata": {},
     "output_type": "display_data"
    },
    {
     "data": {
      "image/png": "[encoded data removed]",
      "text/plain": [
       "plot without title"
      ]
     },
     "metadata": {},
     "output_type": "display_data"
    }
   ],
   "source": [
    "powder <- read.csv(\"powder.csv\")\n",
    "rownames(powder) <- powder$Treatment\n",
    "predictors.index <- grep(\"PP\", colnames(powder),value=T)\n",
    "responses.index <- grep(\"O\", colnames(powder),value=T)\n",
    "powder.scaled<-powder \n",
    "powder.scaled[-1]<-scale(powder[-1]) # normalized data\n",
    "#sort(apply(powder.scaled[-1], 2, function(col) e1071::skewness(col, na.rm = TRUE))) #查看skew程度\n",
    "mice::md.pattern(powder) # 查看数据缺失情况\n",
    "mice_plot <- VIM::aggr(powder,\n",
    "                    labels=names(powder), cex.axis=.7,\n",
    "                    gap=3, ylab=c(\"Missing data\",\"Pattern\"))"
   ]
  },
  {
   "cell_type": "code",
   "execution_count": 2,
   "metadata": {},
   "outputs": [
    {
     "name": "stdout",
     "output_type": "stream",
     "text": [
      " [1] 51 57 58 71 83 84 53 54 56 59 60 61 62 63 64 66 67 68 69 70 72 73 74 76 77\n",
      "[26] 78 79 80 81 82 85 86\n"
     ]
    }
   ],
   "source": [
    "print(na.index<-unique(which(is.na(powder),arr.ind = T)[,1]))"
   ]
  },
  {
   "cell_type": "markdown",
   "metadata": {},
   "source": [
    "以上可以看到整个数据的缺失情况。在86个案例中，有54个完整，32个有缺失。其中`PP2`和`PP3`各有6个缺失；`PP4`和`PP5`各有30个缺失。"
   ]
  },
  {
   "cell_type": "markdown",
   "metadata": {},
   "source": [
    "## 变量之间的相关性\n",
    "看看所有变量（自变量加响应变量）的相关矩阵图"
   ]
  },
  {
   "cell_type": "code",
   "execution_count": 3,
   "metadata": {
    "scrolled": true
   },
   "outputs": [
    {
     "data": {
      "image/png": "[encoded data removed]",
      "text/plain": [
       "Plot with title \"correlations between all variables\""
      ]
     },
     "metadata": {},
     "output_type": "display_data"
    }
   ],
   "source": [
    "correlations <- list(\"predictors\" = cor(powder[predictors.index],use = \"complete\"),\n",
    "                  \"responses\" = cor(powder[responses.index], use = \"all.obs\"),\n",
    "                  \"all\" = cor(powder[-1], use = \"complete\"))\n",
    "corrplot::corrplot(correlations[[\"all\"]], order = \"original\",\n",
    "                   main = \"correlations between all variables\")"
   ]
  },
  {
   "cell_type": "markdown",
   "metadata": {},
   "source": [
    "自变量和因变量很明显地分为两块，这说明许多自变量之间相关性很高（物理属性比较相近），而许多因变量之间相关性也很高（污渍类别比较接近）；但从反对角块来看，大部分自变量与因变量之间的相关性并不强。\n",
    "\n",
    "### 响应变量之间的相关性\n",
    "先看看响应变量的相关矩阵图："
   ]
  },
  {
   "cell_type": "code",
   "execution_count": 4,
   "metadata": {
    "scrolled": true
   },
   "outputs": [
    {
     "data": {
      "image/png": "[encoded data removed]",
      "text/plain": [
       "Plot with title \"correlations between responses\""
      ]
     },
     "metadata": {},
     "output_type": "display_data"
    }
   ],
   "source": [
    "corrplot::corrplot(correlations[[\"responses\"]], order = \"hclust\",\n",
    "                   main = \"correlations between responses\")"
   ]
  },
  {
   "cell_type": "markdown",
   "metadata": {},
   "source": [
    "再用主成分分析（PCA）来看一看：（用标准化后的数据）"
   ]
  },
  {
   "cell_type": "code",
   "execution_count": 5,
   "metadata": {
    "scrolled": true
   },
   "outputs": [
    {
     "data": {
      "text/html": [
       "<ol class=list-inline>\n",
       "\t<li>0.538860040584814</li>\n",
       "\t<li>0.227943997829765</li>\n",
       "\t<li>0.0651116577449708</li>\n",
       "\t<li>0.0577012473152216</li>\n",
       "\t<li>0.0325696519880201</li>\n",
       "\t<li>0.0214420177031978</li>\n",
       "</ol>\n"
      ],
      "text/latex": [
       "\\begin{enumerate*}\n",
       "\\item 0.538860040584814\n",
       "\\item 0.227943997829765\n",
       "\\item 0.0651116577449708\n",
       "\\item 0.0577012473152216\n",
       "\\item 0.0325696519880201\n",
       "\\item 0.0214420177031978\n",
       "\\end{enumerate*}\n"
      ],
      "text/markdown": [
       "1. 0.538860040584814\n",
       "2. 0.227943997829765\n",
       "3. 0.0651116577449708\n",
       "4. 0.0577012473152216\n",
       "5. 0.0325696519880201\n",
       "6. 0.0214420177031978\n",
       "\n",
       "\n"
      ],
      "text/plain": [
       "[1] 0.53886004 0.22794400 0.06511166 0.05770125 0.03256965 0.02144202"
      ]
     },
     "metadata": {},
     "output_type": "display_data"
    },
    {
     "data": {
      "image/png": "[encoded data removed]",
      "text/plain": [
       "Plot with title \"responses.PrComp\""
      ]
     },
     "metadata": {},
     "output_type": "display_data"
    }
   ],
   "source": [
    "## responses 的PCA\n",
    "responses.PrComp <- prcomp(powder[responses.index], center = TRUE, scale. = TRUE)\n",
    "plot(responses.PrComp)\n",
    "head(responses.PrComp$sd ^ 2 / sum(responses.PrComp$sd ^ 2))"
   ]
  },
  {
   "cell_type": "markdown",
   "metadata": {},
   "source": [
    "前两个主成分占了变异性的大部分。"
   ]
  },
  {
   "cell_type": "code",
   "execution_count": 6,
   "metadata": {
    "scrolled": true
   },
   "outputs": [
    {
     "data": {
      "image/png": "[encoded data removed]",
      "text/plain": [
       "plot without title"
      ]
     },
     "metadata": {},
     "output_type": "display_data"
    }
   ],
   "source": [
    "biplot(responses.PrComp)"
   ]
  },
  {
   "cell_type": "markdown",
   "metadata": {},
   "source": [
    "从前两个主成分的图上来看，响应变量主要分为两类。\n",
    "\n",
    "用因子分析（factor analysis）并选取 `factors=2`："
   ]
  },
  {
   "cell_type": "code",
   "execution_count": 7,
   "metadata": {
    "scrolled": true
   },
   "outputs": [
    {
     "data": {
      "image/png": "[encoded data removed]",
      "text/plain": [
       "Plot with title \"Loadings\""
      ]
     },
     "metadata": {},
     "output_type": "display_data"
    },
    {
     "data": {
      "image/png": "[encoded data removed]",
      "text/plain": [
       "Plot with title \"Scores\""
      ]
     },
     "metadata": {},
     "output_type": "display_data"
    }
   ],
   "source": [
    "# responses 的 factor analysis\n",
    "responses.factanal <- factanal(powder.scaled[responses.index], factors = 2, scores = \"regression\")\n",
    "plot(responses.factanal$loadings[, 1:2], type = \"n\", main = \"Loadings\",\n",
    "     xlim = c(-1, 1), ylim = c(-1, 1))\n",
    "text(responses.factanal$loadings[, 1], responses.factanal$loadings[, 2],\n",
    "     labels = row.names(responses.factanal$loadings))\n",
    "plot(responses.factanal$scores[, 1:2], type = \"n\", main = \"Scores\")\n",
    "na.col<-rep(\"black\",nrow(powder))\n",
    "na.col[na.index]<-\"red\"\n",
    "text(responses.factanal$scores[,1],responses.factanal$scores[,2],labels=1:86,col=na.col)"
   ]
  },
  {
   "cell_type": "markdown",
   "metadata": {},
   "source": [
    "因子分析给出和主成分分析相似的建议——都指向将响应变量分为两类，或许分别对应两类污渍，比如“溶于水”、“不溶于水”。此外，在这张图中含有缺失的案例分布得比较均匀，没有什么明显得pattern，这说明我们应该可以用常规的MAR假设下得填补方法处理缺失数据。\n",
    "\n",
    "此外，在这张图上，我们还将有缺失的案例用红色标出，我们看到缺失似乎与factor1体现出一定的正相关，即我们有理由怀疑这不是完全随机缺失（MCAR）\n",
    "\n",
    "### 响应变量的分类与降维\n",
    "\n",
    "相关矩阵、主成分分析和因子分析，都指向把响应变量分为以下两类：\n",
    "+ 污渍1：`[O1, O4, O5, O6, O9, O10, O11, O12]`\n",
    "+ 污渍2：`[O2, O3, O7, O8, O13, O14, O15, O16, O17, O18]`\n",
    "\n",
    "进一步查看刚刚因子分析的结果："
   ]
  },
  {
   "cell_type": "code",
   "execution_count": 8,
   "metadata": {
    "scrolled": true
   },
   "outputs": [
    {
     "data": {
      "text/plain": [
       "\n",
       "Call:\n",
       "factanal(x = powder.scaled[responses.index], factors = 2, scores = \"regression\")\n",
       "\n",
       "Uniquenesses:\n",
       "   O1    O2    O3    O4    O5    O6    O7    O8    O9   O10   O11   O12   O13 \n",
       "0.152 0.588 0.330 0.147 0.088 0.224 0.231 0.301 0.126 0.242 0.274 0.204 0.039 \n",
       "  O14   O15   O16   O17   O18 \n",
       "0.029 0.774 0.676 0.190 0.251 \n",
       "\n",
       "Loadings:\n",
       "    Factor1 Factor2\n",
       "O1  -0.131   0.911 \n",
       "O2   0.638         \n",
       "O3   0.804   0.154 \n",
       "O4   0.266   0.884 \n",
       "O5   0.193   0.935 \n",
       "O6  -0.124   0.872 \n",
       "O7   0.873         \n",
       "O8   0.830         \n",
       "O9   0.281   0.892 \n",
       "O10  0.428   0.758 \n",
       "O11  0.392   0.757 \n",
       "O12  0.416   0.789 \n",
       "O13  0.902   0.382 \n",
       "O14  0.920   0.354 \n",
       "O15  0.464   0.103 \n",
       "O16  0.564         \n",
       "O17  0.872   0.223 \n",
       "O18  0.860         \n",
       "\n",
       "               Factor1 Factor2\n",
       "SS loadings      6.927   6.208\n",
       "Proportion Var   0.385   0.345\n",
       "Cumulative Var   0.385   0.730\n",
       "\n",
       "Test of the hypothesis that 2 factors are sufficient.\n",
       "The chi square statistic is 676.08 on 118 degrees of freedom.\n",
       "The p-value is 3.81e-79 "
      ]
     },
     "metadata": {},
     "output_type": "display_data"
    }
   ],
   "source": [
    "responses.factanal"
   ]
  },
  {
   "cell_type": "markdown",
   "metadata": {},
   "source": [
    "前两个因子解释了73%的方差。所以我们考虑将18个响应变量降至两个，可以采用因子分析的`scores`；或者主成分分析的前两个主成分`PC1`和`PC2`。"
   ]
  },
  {
   "cell_type": "code",
   "execution_count": 9,
   "metadata": {
    "scrolled": true
   },
   "outputs": [
    {
     "data": {
      "text/html": [
       "<table>\n",
       "<thead><tr><th scope=col>Treatment</th><th scope=col>PP1</th><th scope=col>PP2</th><th scope=col>PP3</th><th scope=col>PP4</th><th scope=col>PP5</th><th scope=col>PP6</th><th scope=col>PP7</th><th scope=col>PP8</th><th scope=col>PP9</th><th scope=col>...</th><th scope=col>O13</th><th scope=col>O14</th><th scope=col>O15</th><th scope=col>O16</th><th scope=col>O17</th><th scope=col>O18</th><th scope=col>factor1</th><th scope=col>factor2</th><th scope=col>PC1</th><th scope=col>PC2</th></tr></thead>\n",
       "<tbody>\n",
       "\t<tr><td> 1           </td><td>-0.839025303 </td><td> 1.39146301  </td><td> 0.07625361  </td><td> 1.32378599  </td><td> 1.87486315  </td><td>-0.35645854  </td><td> 0.33930445  </td><td>-1.86326461  </td><td>-1.05674444  </td><td>...          </td><td>-1.7402514   </td><td>-2.01569945  </td><td>-3.0898452021</td><td>-0.97242824  </td><td>-2.16119759  </td><td>-0.78514627  </td><td>-1.58551217  </td><td>-0.83058688  </td><td>-4.74974222  </td><td> 0.423757462 </td></tr>\n",
       "\t<tr><td> 2           </td><td>-0.989392899 </td><td> 0.33386692  </td><td> 1.18356672  </td><td> 0.54105272  </td><td> 0.69730584  </td><td>-0.71291709  </td><td> 0.38121610  </td><td> 0.03633900  </td><td>-0.49137150  </td><td>...          </td><td>-1.8803293   </td><td>-2.34078671  </td><td>-1.3632744621</td><td>-0.76447873  </td><td>-2.10804482  </td><td>-1.97202807  </td><td>-2.37140875  </td><td> 0.20530819  </td><td>-5.05193788  </td><td> 3.232087627 </td></tr>\n",
       "\t<tr><td> 3           </td><td>-0.065074440 </td><td>-0.98644413  </td><td> 1.31443099  </td><td> 0.88480309  </td><td> 1.09035753  </td><td> 0.74559245  </td><td> 1.23234505  </td><td> 1.87727263  </td><td> 2.23460879  </td><td>...          </td><td>-0.1112888   </td><td>-0.24848743  </td><td>-0.0869726393</td><td>-1.09940626  </td><td> 0.28791880  </td><td> 0.02396317  </td><td>-0.27477978  </td><td> 0.32144542  </td><td> 0.06475507  </td><td> 0.572567552 </td></tr>\n",
       "\t<tr><td> 4           </td><td>-0.980547746 </td><td> 1.68785937  </td><td> 1.23389913  </td><td> 0.24165725  </td><td> 0.56548972  </td><td>-0.53468781  </td><td>-1.87234124  </td><td>-3.47864476  </td><td>-0.89280730  </td><td>...          </td><td>-0.8785000   </td><td>-1.04819102  </td><td>-0.0642972262</td><td>-0.37986414  </td><td>-0.88144228  </td><td>-0.35239958  </td><td>-1.08457618  </td><td> 0.21379562  </td><td>-1.72134522  </td><td> 1.277075822 </td></tr>\n",
       "\t<tr><td> 5           </td><td>-2.205969946 </td><td> 1.49924351  </td><td> 1.69695734  </td><td> 1.34857255  </td><td> 1.75383199  </td><td>-0.30893074  </td><td>-1.80786177  </td><td>-1.21919859  </td><td>-1.56221727  </td><td>...          </td><td>-1.7476760   </td><td>-2.22227108  </td><td>-1.5414384221</td><td>-0.74791638  </td><td>-1.92814311  </td><td>-1.56606375  </td><td>-2.15626642  </td><td> 0.17757476  </td><td>-4.31003913  </td><td> 2.640477517 </td></tr>\n",
       "\t<tr><td> 6           </td><td> 0.086767348 </td><td> 0.15872362  </td><td>-0.42203729  </td><td>-1.71452365  </td><td>-2.12515685  </td><td>-0.52874684  </td><td>-1.51125623  </td><td>-1.66117912  </td><td>-1.61686298  </td><td>...          </td><td>-0.7701005   </td><td>-0.56083703  </td><td>-1.2790514992</td><td> 1.75851934  </td><td>-0.86236180  </td><td>-0.98249004  </td><td>-0.96661755  </td><td> 0.72724152  </td><td>-0.46397933  </td><td> 1.920110841 </td></tr>\n",
       "\t<tr><td> 7           </td><td> 1.801989880 </td><td>-0.06357365  </td><td> 0.03598768  </td><td> 0.82283670  </td><td> 1.00647455  </td><td> 0.51389440  </td><td>-0.05402030  </td><td> 1.75341379  </td><td> 1.52001103  </td><td>...          </td><td> 0.2010404   </td><td> 0.51300318  </td><td> 2.0477555365</td><td>-0.75711768  </td><td> 1.73394689  </td><td> 0.57652572  </td><td> 0.44594566  </td><td> 0.20473759  </td><td> 1.74931033  </td><td>-0.875731867 </td></tr>\n",
       "\t<tr><td> 8           </td><td> 0.407035586 </td><td> 0.63699956  </td><td>-1.15689054  </td><td> 1.06417946  </td><td> 1.25492796  </td><td> 0.36834049  </td><td> 0.37154418  </td><td> 1.66214937  </td><td> 1.72703421  </td><td>...          </td><td>-1.6447212   </td><td>-1.76260766  </td><td> 0.8232832293</td><td>-1.71773402  </td><td>-0.86099891  </td><td>-1.75917872  </td><td>-1.53685178  </td><td>-0.39423762  </td><td>-3.48433839  </td><td> 0.710880433 </td></tr>\n",
       "\t<tr><td> 9           </td><td>-0.750573776 </td><td> 1.51945235  </td><td>-0.51766888  </td><td> 0.96438097  </td><td> 1.41909894  </td><td> 0.18417025  </td><td>-0.52472040  </td><td> 0.69213902  </td><td>-0.61222259  </td><td>...          </td><td>-2.2386912   </td><td>-2.21174866  </td><td>-1.6645335218</td><td>-1.20246089  </td><td>-1.64875031  </td><td>-1.90577694  </td><td>-2.13130651  </td><td>-0.31910473  </td><td>-5.13637303  </td><td> 1.807726794 </td></tr>\n",
       "\t<tr><td>10           </td><td> 0.972019716 </td><td> 0.56963675  </td><td>-2.13837261  </td><td> 0.76217487  </td><td> 1.02764502  </td><td> 0.19902269  </td><td>-2.01742004  </td><td> 0.06241455  </td><td>-0.04264614  </td><td>...          </td><td> 0.9964652   </td><td> 0.73120485  </td><td> 0.9690537421</td><td> 0.65252237  </td><td>-0.31311644  </td><td> 0.37354356  </td><td> 0.39436485  </td><td> 0.67497045  </td><td> 1.57622729  </td><td> 1.100031819 </td></tr>\n",
       "\t<tr><td>11           </td><td>-0.100086503 </td><td> 1.52618863  </td><td>-0.90522847  </td><td>-0.54498969  </td><td>-0.57851441  </td><td> 0.77232684  </td><td> 0.23936127  </td><td> 0.06241455  </td><td>-0.30536590  </td><td>...          </td><td>-1.0651055   </td><td>-0.91859916  </td><td>-0.8838514423</td><td>-1.10308678  </td><td>-0.97003024  </td><td>-0.30165404  </td><td>-0.89469902  </td><td>-0.09677214  </td><td>-1.72215293  </td><td> 0.717396439 </td></tr>\n",
       "\t<tr><td>12           </td><td> 0.194751921 </td><td>-0.34649745  </td><td> 0.04605416  </td><td> 0.38450607  </td><td> 0.54192259  </td><td> 0.58518611  </td><td>-0.05079632  </td><td>-0.19182203  </td><td>-0.42201348  </td><td>...          </td><td> 0.4198193   </td><td> 0.32747638  </td><td> 0.0004896684</td><td> 0.24398439  </td><td> 0.77174535  </td><td> 0.24808931  </td><td> 0.34414386  </td><td> 0.48280691  </td><td> 2.38647656  </td><td> 0.098772031 </td></tr>\n",
       "\t<tr><td>13           </td><td> 0.342539681 </td><td> 0.19914130  </td><td>-1.54445012  </td><td> 0.11250626  </td><td>-0.03167724  </td><td> 1.86843686  </td><td>-0.78263826  </td><td> 1.01417202  </td><td> 2.07802781  </td><td>...          </td><td> 0.6603772   </td><td> 0.83421377  </td><td>-0.3849923542</td><td>-0.47187720  </td><td> 0.18161324  </td><td> 0.31575003  </td><td> 0.62194232  </td><td> 0.43618200  </td><td> 2.28226432  </td><td> 0.006212985 </td></tr>\n",
       "\t<tr><td>14           </td><td> 1.223369473 </td><td>-2.71766831  </td><td> 1.46542823  </td><td>-2.37267187  </td><td>-1.77804108  </td><td>-0.05940976  </td><td> 0.50372708  </td><td>-0.80329362  </td><td>-0.20448151  </td><td>...          </td><td> 0.3188445   </td><td> 0.06053931  </td><td> 0.3049880728</td><td> 0.95800573  </td><td>-0.63339599  </td><td>-0.57652572  </td><td>-0.21377687  </td><td> 0.77685425  </td><td> 1.03177908  </td><td> 1.182534467 </td></tr>\n",
       "\t<tr><td>15           </td><td>-0.199963019 </td><td>-0.75741058  </td><td>-0.15024226  </td><td> 0.70020849  </td><td> 0.85708295  </td><td>-0.22872756  </td><td>-0.63433549  </td><td>-0.19442959  </td><td>-1.16288322  </td><td>...          </td><td>-0.9680904   </td><td>-0.89478527  </td><td> 0.2531585572</td><td>-1.15645436  </td><td>-1.19218159  </td><td>-1.70279478  </td><td>-1.05047127  </td><td> 0.16418273  </td><td>-1.91073974  </td><td> 1.301767012 </td></tr>\n",
       "\t<tr><td>16           </td><td> 0.736148977 </td><td>-1.47145635  </td><td> 1.49562768  </td><td> 0.45821345  </td><td> 0.10453275  </td><td> 1.37236539  </td><td> 0.23291333  </td><td> 0.94116049  </td><td> 1.09335413  </td><td>...          </td><td> 0.9227139   </td><td> 0.53515564  </td><td> 0.5803323747</td><td>-0.32833683  </td><td> 0.06167877  </td><td> 0.02678237  </td><td> 0.45933396  </td><td> 0.69759661  </td><td> 2.66485784  </td><td> 0.675571950 </td></tr>\n",
       "\t<tr><td>17           </td><td> 0.062074630 </td><td> 0.86603311  </td><td>-1.41358585  </td><td> 0.26253014  </td><td>-0.11076691  </td><td> 1.67535515  </td><td> 1.30649643  </td><td> 1.81338754  </td><td> 2.46790395  </td><td>...          </td><td> 0.6173144   </td><td> 0.62985738  </td><td> 1.3934079014</td><td>-0.71663194  </td><td> 1.06749285  </td><td>-0.35239958  </td><td> 0.36855375  </td><td> 0.55279301  </td><td> 1.59897525  </td><td> 0.440063438 </td></tr>\n",
       "\t<tr><td>18           </td><td>-0.417774905 </td><td>-0.11746390  </td><td> 1.38489637  </td><td> 0.08967654  </td><td> 0.28627921  </td><td>-0.43963220  </td><td>-2.42686464  </td><td>-0.22963158  </td><td>-1.21122366  </td><td>...          </td><td>-1.0319422   </td><td>-1.06591298  </td><td> 1.2022865625</td><td> 0.72981334  </td><td>-1.41705872  </td><td>-1.06565634  </td><td>-1.13876023  </td><td> 0.08328592  </td><td>-1.82022462  </td><td> 0.893791517 </td></tr>\n",
       "\t<tr><td>19           </td><td>-0.149840487 </td><td>-0.38691513  </td><td> 0.21215112  </td><td> 0.52735489  </td><td> 0.17803022  </td><td>-0.11881951  </td><td> 0.55208668  </td><td>-0.07578585  </td><td>-0.48506622  </td><td>...          </td><td> 0.5113897   </td><td> 0.28372528  </td><td> 0.1527388706</td><td>-0.21608090  </td><td>-0.60886394  </td><td> 0.08880469  </td><td> 0.08224557  </td><td> 0.87563465  </td><td> 2.26180362  </td><td> 1.179783704 </td></tr>\n",
       "\t<tr><td>20           </td><td>-1.106959720 </td><td>-0.42059654  </td><td> 0.14671899  </td><td>-0.21298032  </td><td>-0.55255062  </td><td> 0.13664244  </td><td>-2.23665022  </td><td>-0.45257751  </td><td>-0.82344928  </td><td>...          </td><td>-0.2855200   </td><td>-0.02197858  </td><td>-0.8255432372</td><td> 0.05075697  </td><td>-0.98502205  </td><td>-0.97403245  </td><td>-0.54959543  </td><td> 0.73745989  </td><td>-0.23982731  </td><td> 2.105286203 </td></tr>\n",
       "\t<tr><td>21           </td><td>-1.243322492 </td><td> 1.82932127  </td><td> 0.32288244  </td><td> 0.73804060  </td><td> 0.90022277  </td><td> 0.76341538  </td><td> 0.57465450  </td><td>-0.14879738  </td><td> 0.06139089  </td><td>...          </td><td>-1.2823995   </td><td>-1.39044643  </td><td> 2.0509948812</td><td> 0.61387689  </td><td>-1.13221436  </td><td>-1.03887397  </td><td>-1.41264789  </td><td>-0.24307519  </td><td>-3.77032767  </td><td> 1.146937075 </td></tr>\n",
       "\t<tr><td>22           </td><td> 0.652488574 </td><td> 0.19914130  </td><td>-0.28110653  </td><td> 0.54105272  </td><td> 0.59065461  </td><td> 1.09908051  </td><td> 1.35485603  </td><td> 1.60347939  </td><td> 1.44119510  </td><td>...          </td><td> 0.3312188   </td><td> 0.48365118  </td><td> 1.7594538557</td><td> 0.48321835  </td><td> 1.36324035  </td><td> 1.01491080  </td><td> 0.52780692  </td><td>-0.14053265  </td><td> 0.88678530  </td><td>-1.256059006 </td></tr>\n",
       "\t<tr><td>23           </td><td> 1.860589016 </td><td> 0.14525106  </td><td>-0.29620626  </td><td> 0.37667874  </td><td>-0.18106884  </td><td> 0.76341538  </td><td> 0.24258525  </td><td> 0.94376805  </td><td> 1.28671588  </td><td>...          </td><td> 1.1885155   </td><td> 1.14822480  </td><td> 0.4669553092</td><td> 0.36728189  </td><td> 1.54723073  </td><td> 1.16855702  </td><td> 0.84719945  </td><td> 1.42317108  </td><td> 5.46464472  </td><td> 0.913230162 </td></tr>\n",
       "\t<tr><td>24           </td><td>-0.282149230 </td><td> 0.18566874  </td><td>-0.26097357  </td><td> 0.38124468  </td><td> 0.52953987  </td><td> 0.43963220  </td><td>-0.12172374  </td><td>-0.04188764  </td><td>-0.44198018  </td><td>...          </td><td> 0.2926108   </td><td> 0.07715365  </td><td> 1.7788899240</td><td> 0.54578723  </td><td> 0.44465134  </td><td> 0.17197100  </td><td> 0.54846313  </td><td>-1.16617636  </td><td>-1.54058161  </td><td>-2.581679392 </td></tr>\n",
       "\t<tr><td>25           </td><td>-0.651065807 </td><td> 0.14525106  </td><td>-0.05964391  </td><td>-2.22917077  </td><td>-2.04606718  </td><td>-2.01399077  </td><td>-0.70526290  </td><td>-1.46300496  </td><td>-0.76039654  </td><td>...          </td><td> 0.6296887   </td><td> 0.40390235  </td><td> 0.5155454801</td><td> 2.62896287  </td><td> 0.64772221  </td><td> 1.28414408  </td><td> 0.27627879  </td><td> 0.80242587  </td><td> 2.30822967  </td><td> 0.512581731 </td></tr>\n",
       "\t<tr><td>26           </td><td> 0.299419562 </td><td> 0.79193402  </td><td>-1.87161081  </td><td> 0.34797852  </td><td> 0.51476048  </td><td> 0.62380245  </td><td> 0.71006137  </td><td>-0.42650196  </td><td> 0.63517086  </td><td>...          </td><td> 1.1375330   </td><td> 1.19086827  </td><td> 0.7973684715</td><td> 0.89911737  </td><td> 1.20923359  </td><td> 0.93456369  </td><td> 0.90819290  </td><td> 0.37843138  </td><td> 1.69443217  </td><td>-0.195093188 </td></tr>\n",
       "\t<tr><td>27           </td><td>-0.149103391 </td><td>-0.92581760  </td><td> 0.10645306  </td><td> 0.14838153  </td><td>-0.39117574  </td><td> 0.06238024  </td><td> 0.63913396  </td><td> 0.59696327  </td><td> 0.54164262  </td><td>...          </td><td> 0.8098596   </td><td> 0.86578101  </td><td> 1.7270604084</td><td> 1.97014937  </td><td> 0.78264848  </td><td> 0.94725008  </td><td> 0.98730695  </td><td>-0.17924768  </td><td> 2.04872433  </td><td>-2.059366587 </td></tr>\n",
       "\t<tr><td>28           </td><td>-0.005369659 </td><td>-0.54184959  </td><td> 0.30274947  </td><td> 0.50778656  </td><td> 0.14088204  </td><td> 0.70400562  </td><td> 1.14852174  </td><td>-0.45257751  </td><td> 0.29153340  </td><td>...          </td><td> 0.7311586   </td><td> 0.77495595  </td><td> 0.7844110926</td><td> 0.91936024  </td><td> 0.88213958  </td><td> 0.81615743  </td><td> 0.63989969  </td><td> 0.49790339  </td><td> 2.68367405  </td><td>-0.262875777 </td></tr>\n",
       "\t<tr><td>29           </td><td> 0.272515555 </td><td>-0.11746390  </td><td>-1.27768833  </td><td> 0.19991147  </td><td>-0.13832846  </td><td> 1.30998514  </td><td>-1.57573569  </td><td> 1.13411954  </td><td> 2.10429979  </td><td>...          </td><td> 0.7905556   </td><td> 0.77384833  </td><td> 0.7099061638</td><td>-0.21056012  </td><td> 0.80036608  </td><td> 0.47221544  </td><td> 0.53426302  </td><td> 0.69132763  </td><td> 2.28196110  </td><td> 0.435462968 </td></tr>\n",
       "\t<tr><td>30           </td><td>-1.586440707 </td><td> 0.98728616  </td><td> 0.46381319  </td><td>-1.60689782  </td><td>-1.47446456  </td><td> 0.15149488  </td><td>-0.87613349  </td><td>-0.41476796  </td><td>-1.11349191  </td><td>...          </td><td>-1.0720352   </td><td>-0.98117984  </td><td>-1.4701728381</td><td> 0.65252237  </td><td>-0.90052277  </td><td>-0.03383036  </td><td>-0.88397073  </td><td>-0.63853859  </td><td>-3.70813547  </td><td> 0.532145436 </td></tr>\n",
       "\t<tr><td>...</td><td>...</td><td>...</td><td>...</td><td>...</td><td>...</td><td>...</td><td>...</td><td>...</td><td>...</td><td>   </td><td>...</td><td>...</td><td>...</td><td>...</td><td>...</td><td>...</td><td>...</td><td>...</td><td>...</td><td>...</td></tr>\n",
       "\t<tr><td>57          </td><td> 0.29868247 </td><td>         NA </td><td>         NA </td><td> 0.306885022</td><td>-0.08640090 </td><td>-1.96646296 </td><td>-0.74395058 </td><td>-1.06144153 </td><td> 0.02566100 </td><td>...         </td><td> 0.8029300  </td><td> 0.898455882</td><td>-0.82878258 </td><td>-0.598855223</td><td>-0.00510292 </td><td> 0.55256255 </td><td> 0.36556676 </td><td> 0.953695180</td><td> 1.83397610 </td><td> 1.7972374  </td></tr>\n",
       "\t<tr><td>58          </td><td>-0.71482462 </td><td>         NA </td><td>         NA </td><td>          NA</td><td>         NA </td><td> 0.47824854 </td><td> 1.28715260 </td><td> 0.41052311 </td><td> 1.35081950 </td><td>...         </td><td> 0.9771611  </td><td> 1.110565629</td><td>-0.14852019 </td><td>-0.440592762</td><td> 0.51279593 </td><td> 0.01268638 </td><td> 0.47249311 </td><td> 1.464177042</td><td> 3.73991713 </td><td> 2.4849965  </td></tr>\n",
       "\t<tr><td>59          </td><td>-2.95117406 </td><td> 0.70436237 </td><td>-0.50760240 </td><td>          NA</td><td>         NA </td><td> 0.90896928 </td><td> 0.62623807 </td><td> 0.62043126 </td><td>-1.01050576 </td><td>...         </td><td>-2.0887138  </td><td>-2.113170243</td><td>-1.41186463 </td><td>-1.161975142</td><td>-1.50700958 </td><td>-1.29824006 </td><td>-2.08525708 </td><td>-0.432795256</td><td>-5.96783507 </td><td> 2.2639570  </td></tr>\n",
       "\t<tr><td>60          </td><td>-0.24197749 </td><td>-0.29260720 </td><td>-0.02441122 </td><td>          NA</td><td>         NA </td><td> 0.65647782 </td><td>-0.09915592 </td><td> 0.15628652 </td><td> 0.58157603 </td><td>...         </td><td> 1.0791260  </td><td> 1.000357170</td><td> 0.23372249 </td><td> 0.665404203</td><td> 1.59765772 </td><td> 1.66614523 </td><td> 0.71583890 </td><td> 1.579455513</td><td> 5.82905390 </td><td> 1.4280071  </td></tr>\n",
       "\t<tr><td>61          </td><td>-0.16200257 </td><td>-0.16461786 </td><td> 0.75574120 </td><td>          NA</td><td>         NA </td><td> 0.05940976 </td><td> 1.14207380 </td><td> 1.51482253 </td><td> 0.97880831 </td><td>...         </td><td> 0.2985505  </td><td> 0.005711985</td><td> 0.49287007 </td><td>-0.435071979</td><td>-0.04462678 </td><td>-0.01409598 </td><td> 0.05291067 </td><td> 0.191152500</td><td> 0.63583713 </td><td> 0.2039790  </td></tr>\n",
       "\t<tr><td>62          </td><td> 0.26072202 </td><td>-0.66310265 </td><td> 0.51414561 </td><td>          NA</td><td>         NA </td><td> 0.95946758 </td><td>-2.05933169 </td><td> 1.81729888 </td><td> 2.04755232 </td><td>...         </td><td> 0.4247691  </td><td> 0.489743105</td><td> 1.00792588 </td><td>-0.193997765</td><td> 1.12337141 </td><td>-0.01127679 </td><td> 0.07564126 </td><td> 1.125905159</td><td> 2.38478119 </td><td> 1.4394845  </td></tr>\n",
       "\t<tr><td>63          </td><td> 0.47190004 </td><td> 1.31062764 </td><td>-0.73409826 </td><td>          NA</td><td>         NA </td><td> 0.40695684 </td><td> 1.09371420 </td><td>-0.09664629 </td><td> 0.08030671 </td><td>...         </td><td>-1.5912639  </td><td>-1.768699583</td><td>-1.03933999 </td><td>-1.195099843</td><td>-1.77686213 </td><td>-2.34134283 </td><td>-1.74152017 </td><td>-0.308685153</td><td>-4.73841002 </td><td> 1.7767518  </td></tr>\n",
       "\t<tr><td>64          </td><td>-1.06678799 </td><td>-0.12420018 </td><td> 1.53589361 </td><td>          NA</td><td>         NA </td><td>-1.54168320 </td><td>-0.41188133 </td><td>-1.01450555 </td><td>-1.80076681 </td><td>...         </td><td>-1.1180679  </td><td>-0.897554328</td><td>-0.85145800 </td><td>-0.276809518</td><td>-1.06679556 </td><td>-0.39750673 </td><td>-0.59707238 </td><td>-1.208484869</td><td>-3.92573050 </td><td>-1.4033183  </td></tr>\n",
       "\t<tr><td>65          </td><td>-0.72661815 </td><td> 0.39449345 </td><td>-1.36828667 </td><td>-0.001642342</td><td>-0.19504934 </td><td>-4.20918129 </td><td> 0.34252842 </td><td> 0.96202093 </td><td> 0.37350197 </td><td>...         </td><td> 0.2475681  </td><td> 0.422178120</td><td>-0.09021198 </td><td> 0.148290813</td><td> 0.07530769 </td><td>-0.35803798 </td><td> 0.30416299 </td><td>-0.350154668</td><td>-0.86578258 </td><td>-0.9034631  </td></tr>\n",
       "\t<tr><td>66          </td><td> 1.16808727 </td><td> 0.01726172 </td><td> 0.12658602 </td><td>          NA</td><td>         NA </td><td> 0.29704879 </td><td> 1.15496969 </td><td> 1.17453664 </td><td> 1.29722467 </td><td>...         </td><td> 1.1573320  </td><td> 1.190868275</td><td> 0.87187340 </td><td>-0.052297655</td><td> 0.98026778 </td><td> 0.15364622 </td><td> 1.18825459 </td><td> 0.098232070</td><td> 2.92508447 </td><td>-1.0533920  </td></tr>\n",
       "\t<tr><td>67          </td><td>-0.16753079 </td><td>-0.88539992 </td><td> 0.91177168 </td><td>          NA</td><td>         NA </td><td>-0.08020317 </td><td> 1.09371420 </td><td>-0.98191111 </td><td>-0.11305504 </td><td>...         </td><td> 0.7801611  </td><td> 0.650348397</td><td>-0.08049395 </td><td> 0.369122154</td><td> 0.47463496 </td><td> 1.16855702 </td><td> 0.92682606 </td><td>-0.408045134</td><td> 1.38253035 </td><td>-1.9857600  </td></tr>\n",
       "\t<tr><td>68          </td><td> 1.10617120 </td><td>-0.79782826 </td><td>-0.27104005 </td><td>          NA</td><td>         NA </td><td>-0.22872756 </td><td>-0.27969843 </td><td>-0.14097472 </td><td> 1.21000171 </td><td>...         </td><td> 1.6037994  </td><td> 1.282800959</td><td> 1.76269320 </td><td> 0.928561551</td><td> 1.06476707 </td><td> 0.85844538 </td><td> 1.65565143 </td><td>-0.467081138</td><td> 2.97203279 </td><td>-2.5161372  </td></tr>\n",
       "\t<tr><td>69          </td><td> 1.89117850 </td><td>-0.21850811 </td><td>-0.98072709 </td><td>          NA</td><td>         NA </td><td> 0.91491026 </td><td> 0.17810578 </td><td>-0.48777949 </td><td>-0.01322152 </td><td>...         </td><td> 1.0667516  </td><td> 1.052969249</td><td>-0.36879563 </td><td> 1.559771133</td><td> 1.39458686 </td><td> 2.13131268 </td><td> 1.49037030 </td><td>-0.529212506</td><td> 2.91494956 </td><td>-2.7436530  </td></tr>\n",
       "\t<tr><td>70          </td><td> 1.75665847 </td><td> 1.02096757 </td><td>-2.05280750 </td><td>          NA</td><td>         NA </td><td> 0.49013050 </td><td>-0.30549021 </td><td>-0.18139182 </td><td> 0.82537997 </td><td>...         </td><td> 1.1306034  </td><td> 1.333751603</td><td> 1.15693574 </td><td> 1.162274720</td><td> 1.43138493 </td><td> 1.57593093 </td><td> 1.34203652 </td><td> 0.106273961</td><td> 3.54955908 </td><td>-1.4488031  </td></tr>\n",
       "\t<tr><td>71          </td><td> 0.78442877 </td><td>         NA </td><td>         NA </td><td>          NA</td><td>         NA </td><td>-0.46042562 </td><td>-0.18297923 </td><td>-0.10968406 </td><td> 0.32726329 </td><td>...         </td><td> 0.2960756  </td><td> 0.578352921</td><td> 0.65483730 </td><td> 0.805264052</td><td> 0.01942913 </td><td> 0.26782368 </td><td> 1.04037255 </td><td>-1.565712989</td><td>-0.81437986 </td><td>-3.7068056  </td></tr>\n",
       "\t<tr><td>72          </td><td> 0.79917069 </td><td> 0.17893246 </td><td>-1.73068006 </td><td>          NA</td><td>         NA </td><td> 0.16040634 </td><td> 0.79066071 </td><td>-0.65205544 </td><td> 0.17488583 </td><td>...         </td><td> 0.8222340  </td><td> 0.972112791</td><td> 0.23696183 </td><td> 0.253185700</td><td> 1.07158152 </td><td> 0.63431925 </td><td> 1.35973970 </td><td>-1.049740946</td><td> 0.87246663 </td><td>-3.3512739  </td></tr>\n",
       "\t<tr><td>73          </td><td> 0.33848565 </td><td>-0.54858587 </td><td>-0.56296805 </td><td>          NA</td><td>         NA </td><td>-0.87035294 </td><td>-0.33772995 </td><td>-0.43693218 </td><td>-0.39574150 </td><td>...         </td><td> 0.5900907  </td><td> 0.799877461</td><td>-0.44006121 </td><td>-0.372503099</td><td> 0.31653952 </td><td> 1.10089630 </td><td> 1.00882568 </td><td>-0.574478330</td><td> 1.26382735 </td><td>-1.9878933  </td></tr>\n",
       "\t<tr><td>74          </td><td> 0.72140706 </td><td>-0.29260720 </td><td>-0.90522847 </td><td>          NA</td><td>         NA </td><td>-0.73965148 </td><td> 0.48115927 </td><td> 0.01808612 </td><td>-0.04790053 </td><td>...         </td><td> 0.6816611  </td><td> 0.757787799</td><td>-0.79962848 </td><td>-0.133269146</td><td>-0.02009473 </td><td> 0.57088732 </td><td> 0.71261595 </td><td> 0.007695928</td><td> 1.36753768 </td><td>-0.7135902  </td></tr>\n",
       "\t<tr><td>75          </td><td>-0.10819456 </td><td> 0.44838369 </td><td>-1.00086005 </td><td> 0.431470067</td><td> 0.04182023 </td><td>-1.19116563 </td><td>-0.33128200 </td><td>-0.56991747 </td><td>-0.32323085 </td><td>...         </td><td> 0.7623420  </td><td> 0.737850590</td><td> 0.67751272 </td><td> 1.913101278</td><td> 0.71177812 </td><td> 1.59566531 </td><td> 1.42162264 </td><td>-1.604431270</td><td> 0.05525965 </td><td>-4.4840472  </td></tr>\n",
       "\t<tr><td>76          </td><td>-0.66138515 </td><td> 0.87276939 </td><td>-1.83134488 </td><td>          NA</td><td>         NA </td><td> 0.33566513 </td><td> 0.78743673 </td><td>-0.83849560 </td><td>-1.43821354 </td><td>...         </td><td>-0.1687059  </td><td>-0.380294527</td><td> 0.06203722 </td><td> 0.426170250</td><td> 0.02215491 </td><td> 0.30729244 </td><td> 0.78775906 </td><td>-2.751031578</td><td>-3.47364541 </td><td>-5.2232281  </td></tr>\n",
       "\t<tr><td>77          </td><td> 1.22447512 </td><td>-0.39365141 </td><td>-0.26097357 </td><td>          NA</td><td>         NA </td><td>-0.46042562 </td><td>-0.48925669 </td><td>-0.38738864 </td><td>-0.55757688 </td><td>...         </td><td> 0.7370983  </td><td> 0.620996395</td><td> 0.33738152 </td><td> 0.474017041</td><td> 0.46782050 </td><td> 1.02618759 </td><td> 1.22090076 </td><td>-1.241196421</td><td> 0.26507134 </td><td>-3.8119306  </td></tr>\n",
       "\t<tr><td>78          </td><td> 0.06391737 </td><td>-0.76414686 </td><td> 0.04102092 </td><td>          NA</td><td>         NA </td><td> 0.51092391 </td><td> 0.60044628 </td><td> 1.16410642 </td><td> 0.62466207 </td><td>...         </td><td> 0.7465028  </td><td> 0.956606074</td><td> 0.27907331 </td><td>-0.070700266</td><td> 1.63990736 </td><td> 1.01068200 </td><td> 1.12966583 </td><td>-0.362655773</td><td> 1.89688066 </td><td>-1.8615956  </td></tr>\n",
       "\t<tr><td>79          </td><td>-0.44209907 </td><td> 0.23282271 </td><td>-0.03951094 </td><td>          NA</td><td>         NA </td><td>-1.71991247 </td><td>-1.45000073 </td><td>-1.38608209 </td><td>-1.52753826 </td><td>...         </td><td>-0.8770151  </td><td>-0.479426759</td><td> 1.11158491 </td><td>-0.004450864</td><td>-0.19863354 </td><td> 0.33125561 </td><td> 0.33800369 </td><td>-2.260198532</td><td>-2.83909350 </td><td>-4.4756075  </td></tr>\n",
       "\t<tr><td>80          </td><td> 0.14831487 </td><td>-1.03359809 </td><td> 0.76077444 </td><td>          NA</td><td>         NA </td><td>-0.47527806 </td><td>-0.90514925 </td><td>-0.73419342 </td><td> 0.25580352 </td><td>...         </td><td> 0.8712365  </td><td> 0.897902070</td><td> 0.30174873 </td><td> 0.339677975</td><td> 1.57857724 </td><td> 0.87395097 </td><td> 0.85007138 </td><td> 0.469504058</td><td> 3.14986741 </td><td>-0.2475345  </td></tr>\n",
       "\t<tr><td>81          </td><td> 0.49253873 </td><td>-0.80456454 </td><td>-0.30627274 </td><td>          NA</td><td>         NA </td><td> 0.71291709 </td><td> 0.35864829 </td><td>-0.24788446 </td><td>-0.42201348 </td><td>...         </td><td> 0.5955355  </td><td> 0.683023266</td><td> 0.06851591 </td><td> 0.672765248</td><td> 0.42284507 </td><td> 0.64982483 </td><td> 1.20780096 </td><td>-1.368504377</td><td>-0.04704475 </td><td>-3.5430255  </td></tr>\n",
       "\t<tr><td>82          </td><td> 0.24229462 </td><td> 0.50227394 </td><td> 0.87653899 </td><td>          NA</td><td>         NA </td><td>-0.54062879 </td><td>-0.50860053 </td><td>-0.20355603 </td><td>-0.38313096 </td><td>...         </td><td>-0.6706105  </td><td>-0.645016352</td><td> 0.15273887 </td><td>-0.407468061</td><td>-0.08006196 </td><td> 0.07329911 </td><td>-0.12978213 </td><td>-1.058655302</td><td>-1.76105875 </td><td>-2.0048408  </td></tr>\n",
       "\t<tr><td>83          </td><td>-0.46679179 </td><td>         NA </td><td>         NA </td><td>          NA</td><td>         NA </td><td>-0.51389440 </td><td>-1.60797543 </td><td> 0.02982012 </td><td>-0.16875163 </td><td>...         </td><td> 0.3663620  </td><td> 0.705729532</td><td>-0.23922184 </td><td> 0.926721290</td><td> 0.50052990 </td><td> 1.02618759 </td><td> 0.66690514 </td><td> 0.041197214</td><td> 1.91342070 </td><td>-0.8381263  </td></tr>\n",
       "\t<tr><td>84          </td><td> 0.17190194 </td><td>         NA </td><td>         NA </td><td>          NA</td><td>         NA </td><td>-0.62083196 </td><td> 0.25225717 </td><td>-0.01059698 </td><td>-0.54706809 </td><td>...         </td><td> 0.9930003  </td><td> 0.936668865</td><td>-0.53076287 </td><td> 0.604675584</td><td> 1.42048180 </td><td> 0.80206145 </td><td> 1.18850806 </td><td>-0.131244142</td><td> 2.76875403 </td><td>-1.6937466  </td></tr>\n",
       "\t<tr><td>85          </td><td>-1.45376342 </td><td>-0.53511331 </td><td> 0.75070795 </td><td>          NA</td><td>         NA </td><td> 1.00996587 </td><td> 0.79710865 </td><td> 0.53307818 </td><td>-0.94219862 </td><td>...         </td><td>-1.8516208  </td><td>-1.701134598</td><td>-1.89776634 </td><td>-1.184058276</td><td>-1.18673003 </td><td>-1.33066083 </td><td>-0.66188030 </td><td>-3.078700159</td><td>-7.46230576 </td><td>-3.5295859  </td></tr>\n",
       "\t<tr><td>86          </td><td>-0.44504746 </td><td>-0.35323373 </td><td> 0.66010961 </td><td>          NA</td><td>         NA </td><td>-0.84361855 </td><td> 0.71328535 </td><td>-0.49038705 </td><td>-0.70364907 </td><td>...         </td><td> 0.4574374  </td><td> 0.398364232</td><td> 0.29527004 </td><td> 1.710672549</td><td> 0.68315739 </td><td> 1.28837288 </td><td> 0.63130162 </td><td>-0.018502823</td><td> 2.09841144 </td><td>-1.7038567  </td></tr>\n",
       "</tbody>\n",
       "</table>\n"
      ],
      "text/latex": [
       "\\begin{tabular}{r|llllllllllllllllllllllllllllllllllllllllllll}\n",
       " Treatment & PP1 & PP2 & PP3 & PP4 & PP5 & PP6 & PP7 & PP8 & PP9 & ... & O13 & O14 & O15 & O16 & O17 & O18 & factor1 & factor2 & PC1 & PC2\\\\\n",
       "\\hline\n",
       "\t  1            & -0.839025303  &  1.39146301   &  0.07625361   &  1.32378599   &  1.87486315   & -0.35645854   &  0.33930445   & -1.86326461   & -1.05674444   & ...           & -1.7402514    & -2.01569945   & -3.0898452021 & -0.97242824   & -2.16119759   & -0.78514627   & -1.58551217   & -0.83058688   & -4.74974222   &  0.423757462 \\\\\n",
       "\t  2            & -0.989392899  &  0.33386692   &  1.18356672   &  0.54105272   &  0.69730584   & -0.71291709   &  0.38121610   &  0.03633900   & -0.49137150   & ...           & -1.8803293    & -2.34078671   & -1.3632744621 & -0.76447873   & -2.10804482   & -1.97202807   & -2.37140875   &  0.20530819   & -5.05193788   &  3.232087627 \\\\\n",
       "\t  3            & -0.065074440  & -0.98644413   &  1.31443099   &  0.88480309   &  1.09035753   &  0.74559245   &  1.23234505   &  1.87727263   &  2.23460879   & ...           & -0.1112888    & -0.24848743   & -0.0869726393 & -1.09940626   &  0.28791880   &  0.02396317   & -0.27477978   &  0.32144542   &  0.06475507   &  0.572567552 \\\\\n",
       "\t  4            & -0.980547746  &  1.68785937   &  1.23389913   &  0.24165725   &  0.56548972   & -0.53468781   & -1.87234124   & -3.47864476   & -0.89280730   & ...           & -0.8785000    & -1.04819102   & -0.0642972262 & -0.37986414   & -0.88144228   & -0.35239958   & -1.08457618   &  0.21379562   & -1.72134522   &  1.277075822 \\\\\n",
       "\t  5            & -2.205969946  &  1.49924351   &  1.69695734   &  1.34857255   &  1.75383199   & -0.30893074   & -1.80786177   & -1.21919859   & -1.56221727   & ...           & -1.7476760    & -2.22227108   & -1.5414384221 & -0.74791638   & -1.92814311   & -1.56606375   & -2.15626642   &  0.17757476   & -4.31003913   &  2.640477517 \\\\\n",
       "\t  6            &  0.086767348  &  0.15872362   & -0.42203729   & -1.71452365   & -2.12515685   & -0.52874684   & -1.51125623   & -1.66117912   & -1.61686298   & ...           & -0.7701005    & -0.56083703   & -1.2790514992 &  1.75851934   & -0.86236180   & -0.98249004   & -0.96661755   &  0.72724152   & -0.46397933   &  1.920110841 \\\\\n",
       "\t  7            &  1.801989880  & -0.06357365   &  0.03598768   &  0.82283670   &  1.00647455   &  0.51389440   & -0.05402030   &  1.75341379   &  1.52001103   & ...           &  0.2010404    &  0.51300318   &  2.0477555365 & -0.75711768   &  1.73394689   &  0.57652572   &  0.44594566   &  0.20473759   &  1.74931033   & -0.875731867 \\\\\n",
       "\t  8            &  0.407035586  &  0.63699956   & -1.15689054   &  1.06417946   &  1.25492796   &  0.36834049   &  0.37154418   &  1.66214937   &  1.72703421   & ...           & -1.6447212    & -1.76260766   &  0.8232832293 & -1.71773402   & -0.86099891   & -1.75917872   & -1.53685178   & -0.39423762   & -3.48433839   &  0.710880433 \\\\\n",
       "\t  9            & -0.750573776  &  1.51945235   & -0.51766888   &  0.96438097   &  1.41909894   &  0.18417025   & -0.52472040   &  0.69213902   & -0.61222259   & ...           & -2.2386912    & -2.21174866   & -1.6645335218 & -1.20246089   & -1.64875031   & -1.90577694   & -2.13130651   & -0.31910473   & -5.13637303   &  1.807726794 \\\\\n",
       "\t 10            &  0.972019716  &  0.56963675   & -2.13837261   &  0.76217487   &  1.02764502   &  0.19902269   & -2.01742004   &  0.06241455   & -0.04264614   & ...           &  0.9964652    &  0.73120485   &  0.9690537421 &  0.65252237   & -0.31311644   &  0.37354356   &  0.39436485   &  0.67497045   &  1.57622729   &  1.100031819 \\\\\n",
       "\t 11            & -0.100086503  &  1.52618863   & -0.90522847   & -0.54498969   & -0.57851441   &  0.77232684   &  0.23936127   &  0.06241455   & -0.30536590   & ...           & -1.0651055    & -0.91859916   & -0.8838514423 & -1.10308678   & -0.97003024   & -0.30165404   & -0.89469902   & -0.09677214   & -1.72215293   &  0.717396439 \\\\\n",
       "\t 12            &  0.194751921  & -0.34649745   &  0.04605416   &  0.38450607   &  0.54192259   &  0.58518611   & -0.05079632   & -0.19182203   & -0.42201348   & ...           &  0.4198193    &  0.32747638   &  0.0004896684 &  0.24398439   &  0.77174535   &  0.24808931   &  0.34414386   &  0.48280691   &  2.38647656   &  0.098772031 \\\\\n",
       "\t 13            &  0.342539681  &  0.19914130   & -1.54445012   &  0.11250626   & -0.03167724   &  1.86843686   & -0.78263826   &  1.01417202   &  2.07802781   & ...           &  0.6603772    &  0.83421377   & -0.3849923542 & -0.47187720   &  0.18161324   &  0.31575003   &  0.62194232   &  0.43618200   &  2.28226432   &  0.006212985 \\\\\n",
       "\t 14            &  1.223369473  & -2.71766831   &  1.46542823   & -2.37267187   & -1.77804108   & -0.05940976   &  0.50372708   & -0.80329362   & -0.20448151   & ...           &  0.3188445    &  0.06053931   &  0.3049880728 &  0.95800573   & -0.63339599   & -0.57652572   & -0.21377687   &  0.77685425   &  1.03177908   &  1.182534467 \\\\\n",
       "\t 15            & -0.199963019  & -0.75741058   & -0.15024226   &  0.70020849   &  0.85708295   & -0.22872756   & -0.63433549   & -0.19442959   & -1.16288322   & ...           & -0.9680904    & -0.89478527   &  0.2531585572 & -1.15645436   & -1.19218159   & -1.70279478   & -1.05047127   &  0.16418273   & -1.91073974   &  1.301767012 \\\\\n",
       "\t 16            &  0.736148977  & -1.47145635   &  1.49562768   &  0.45821345   &  0.10453275   &  1.37236539   &  0.23291333   &  0.94116049   &  1.09335413   & ...           &  0.9227139    &  0.53515564   &  0.5803323747 & -0.32833683   &  0.06167877   &  0.02678237   &  0.45933396   &  0.69759661   &  2.66485784   &  0.675571950 \\\\\n",
       "\t 17            &  0.062074630  &  0.86603311   & -1.41358585   &  0.26253014   & -0.11076691   &  1.67535515   &  1.30649643   &  1.81338754   &  2.46790395   & ...           &  0.6173144    &  0.62985738   &  1.3934079014 & -0.71663194   &  1.06749285   & -0.35239958   &  0.36855375   &  0.55279301   &  1.59897525   &  0.440063438 \\\\\n",
       "\t 18            & -0.417774905  & -0.11746390   &  1.38489637   &  0.08967654   &  0.28627921   & -0.43963220   & -2.42686464   & -0.22963158   & -1.21122366   & ...           & -1.0319422    & -1.06591298   &  1.2022865625 &  0.72981334   & -1.41705872   & -1.06565634   & -1.13876023   &  0.08328592   & -1.82022462   &  0.893791517 \\\\\n",
       "\t 19            & -0.149840487  & -0.38691513   &  0.21215112   &  0.52735489   &  0.17803022   & -0.11881951   &  0.55208668   & -0.07578585   & -0.48506622   & ...           &  0.5113897    &  0.28372528   &  0.1527388706 & -0.21608090   & -0.60886394   &  0.08880469   &  0.08224557   &  0.87563465   &  2.26180362   &  1.179783704 \\\\\n",
       "\t 20            & -1.106959720  & -0.42059654   &  0.14671899   & -0.21298032   & -0.55255062   &  0.13664244   & -2.23665022   & -0.45257751   & -0.82344928   & ...           & -0.2855200    & -0.02197858   & -0.8255432372 &  0.05075697   & -0.98502205   & -0.97403245   & -0.54959543   &  0.73745989   & -0.23982731   &  2.105286203 \\\\\n",
       "\t 21            & -1.243322492  &  1.82932127   &  0.32288244   &  0.73804060   &  0.90022277   &  0.76341538   &  0.57465450   & -0.14879738   &  0.06139089   & ...           & -1.2823995    & -1.39044643   &  2.0509948812 &  0.61387689   & -1.13221436   & -1.03887397   & -1.41264789   & -0.24307519   & -3.77032767   &  1.146937075 \\\\\n",
       "\t 22            &  0.652488574  &  0.19914130   & -0.28110653   &  0.54105272   &  0.59065461   &  1.09908051   &  1.35485603   &  1.60347939   &  1.44119510   & ...           &  0.3312188    &  0.48365118   &  1.7594538557 &  0.48321835   &  1.36324035   &  1.01491080   &  0.52780692   & -0.14053265   &  0.88678530   & -1.256059006 \\\\\n",
       "\t 23            &  1.860589016  &  0.14525106   & -0.29620626   &  0.37667874   & -0.18106884   &  0.76341538   &  0.24258525   &  0.94376805   &  1.28671588   & ...           &  1.1885155    &  1.14822480   &  0.4669553092 &  0.36728189   &  1.54723073   &  1.16855702   &  0.84719945   &  1.42317108   &  5.46464472   &  0.913230162 \\\\\n",
       "\t 24            & -0.282149230  &  0.18566874   & -0.26097357   &  0.38124468   &  0.52953987   &  0.43963220   & -0.12172374   & -0.04188764   & -0.44198018   & ...           &  0.2926108    &  0.07715365   &  1.7788899240 &  0.54578723   &  0.44465134   &  0.17197100   &  0.54846313   & -1.16617636   & -1.54058161   & -2.581679392 \\\\\n",
       "\t 25            & -0.651065807  &  0.14525106   & -0.05964391   & -2.22917077   & -2.04606718   & -2.01399077   & -0.70526290   & -1.46300496   & -0.76039654   & ...           &  0.6296887    &  0.40390235   &  0.5155454801 &  2.62896287   &  0.64772221   &  1.28414408   &  0.27627879   &  0.80242587   &  2.30822967   &  0.512581731 \\\\\n",
       "\t 26            &  0.299419562  &  0.79193402   & -1.87161081   &  0.34797852   &  0.51476048   &  0.62380245   &  0.71006137   & -0.42650196   &  0.63517086   & ...           &  1.1375330    &  1.19086827   &  0.7973684715 &  0.89911737   &  1.20923359   &  0.93456369   &  0.90819290   &  0.37843138   &  1.69443217   & -0.195093188 \\\\\n",
       "\t 27            & -0.149103391  & -0.92581760   &  0.10645306   &  0.14838153   & -0.39117574   &  0.06238024   &  0.63913396   &  0.59696327   &  0.54164262   & ...           &  0.8098596    &  0.86578101   &  1.7270604084 &  1.97014937   &  0.78264848   &  0.94725008   &  0.98730695   & -0.17924768   &  2.04872433   & -2.059366587 \\\\\n",
       "\t 28            & -0.005369659  & -0.54184959   &  0.30274947   &  0.50778656   &  0.14088204   &  0.70400562   &  1.14852174   & -0.45257751   &  0.29153340   & ...           &  0.7311586    &  0.77495595   &  0.7844110926 &  0.91936024   &  0.88213958   &  0.81615743   &  0.63989969   &  0.49790339   &  2.68367405   & -0.262875777 \\\\\n",
       "\t 29            &  0.272515555  & -0.11746390   & -1.27768833   &  0.19991147   & -0.13832846   &  1.30998514   & -1.57573569   &  1.13411954   &  2.10429979   & ...           &  0.7905556    &  0.77384833   &  0.7099061638 & -0.21056012   &  0.80036608   &  0.47221544   &  0.53426302   &  0.69132763   &  2.28196110   &  0.435462968 \\\\\n",
       "\t 30            & -1.586440707  &  0.98728616   &  0.46381319   & -1.60689782   & -1.47446456   &  0.15149488   & -0.87613349   & -0.41476796   & -1.11349191   & ...           & -1.0720352    & -0.98117984   & -1.4701728381 &  0.65252237   & -0.90052277   & -0.03383036   & -0.88397073   & -0.63853859   & -3.70813547   &  0.532145436 \\\\\n",
       "\t ... & ... & ... & ... & ... & ... & ... & ... & ... & ... &     & ... & ... & ... & ... & ... & ... & ... & ... & ... & ...\\\\\n",
       "\t 57           &  0.29868247  &          NA  &          NA  &  0.306885022 & -0.08640090  & -1.96646296  & -0.74395058  & -1.06144153  &  0.02566100  & ...          &  0.8029300   &  0.898455882 & -0.82878258  & -0.598855223 & -0.00510292  &  0.55256255  &  0.36556676  &  0.953695180 &  1.83397610  &  1.7972374  \\\\\n",
       "\t 58           & -0.71482462  &          NA  &          NA  &           NA &          NA  &  0.47824854  &  1.28715260  &  0.41052311  &  1.35081950  & ...          &  0.9771611   &  1.110565629 & -0.14852019  & -0.440592762 &  0.51279593  &  0.01268638  &  0.47249311  &  1.464177042 &  3.73991713  &  2.4849965  \\\\\n",
       "\t 59           & -2.95117406  &  0.70436237  & -0.50760240  &           NA &          NA  &  0.90896928  &  0.62623807  &  0.62043126  & -1.01050576  & ...          & -2.0887138   & -2.113170243 & -1.41186463  & -1.161975142 & -1.50700958  & -1.29824006  & -2.08525708  & -0.432795256 & -5.96783507  &  2.2639570  \\\\\n",
       "\t 60           & -0.24197749  & -0.29260720  & -0.02441122  &           NA &          NA  &  0.65647782  & -0.09915592  &  0.15628652  &  0.58157603  & ...          &  1.0791260   &  1.000357170 &  0.23372249  &  0.665404203 &  1.59765772  &  1.66614523  &  0.71583890  &  1.579455513 &  5.82905390  &  1.4280071  \\\\\n",
       "\t 61           & -0.16200257  & -0.16461786  &  0.75574120  &           NA &          NA  &  0.05940976  &  1.14207380  &  1.51482253  &  0.97880831  & ...          &  0.2985505   &  0.005711985 &  0.49287007  & -0.435071979 & -0.04462678  & -0.01409598  &  0.05291067  &  0.191152500 &  0.63583713  &  0.2039790  \\\\\n",
       "\t 62           &  0.26072202  & -0.66310265  &  0.51414561  &           NA &          NA  &  0.95946758  & -2.05933169  &  1.81729888  &  2.04755232  & ...          &  0.4247691   &  0.489743105 &  1.00792588  & -0.193997765 &  1.12337141  & -0.01127679  &  0.07564126  &  1.125905159 &  2.38478119  &  1.4394845  \\\\\n",
       "\t 63           &  0.47190004  &  1.31062764  & -0.73409826  &           NA &          NA  &  0.40695684  &  1.09371420  & -0.09664629  &  0.08030671  & ...          & -1.5912639   & -1.768699583 & -1.03933999  & -1.195099843 & -1.77686213  & -2.34134283  & -1.74152017  & -0.308685153 & -4.73841002  &  1.7767518  \\\\\n",
       "\t 64           & -1.06678799  & -0.12420018  &  1.53589361  &           NA &          NA  & -1.54168320  & -0.41188133  & -1.01450555  & -1.80076681  & ...          & -1.1180679   & -0.897554328 & -0.85145800  & -0.276809518 & -1.06679556  & -0.39750673  & -0.59707238  & -1.208484869 & -3.92573050  & -1.4033183  \\\\\n",
       "\t 65           & -0.72661815  &  0.39449345  & -1.36828667  & -0.001642342 & -0.19504934  & -4.20918129  &  0.34252842  &  0.96202093  &  0.37350197  & ...          &  0.2475681   &  0.422178120 & -0.09021198  &  0.148290813 &  0.07530769  & -0.35803798  &  0.30416299  & -0.350154668 & -0.86578258  & -0.9034631  \\\\\n",
       "\t 66           &  1.16808727  &  0.01726172  &  0.12658602  &           NA &          NA  &  0.29704879  &  1.15496969  &  1.17453664  &  1.29722467  & ...          &  1.1573320   &  1.190868275 &  0.87187340  & -0.052297655 &  0.98026778  &  0.15364622  &  1.18825459  &  0.098232070 &  2.92508447  & -1.0533920  \\\\\n",
       "\t 67           & -0.16753079  & -0.88539992  &  0.91177168  &           NA &          NA  & -0.08020317  &  1.09371420  & -0.98191111  & -0.11305504  & ...          &  0.7801611   &  0.650348397 & -0.08049395  &  0.369122154 &  0.47463496  &  1.16855702  &  0.92682606  & -0.408045134 &  1.38253035  & -1.9857600  \\\\\n",
       "\t 68           &  1.10617120  & -0.79782826  & -0.27104005  &           NA &          NA  & -0.22872756  & -0.27969843  & -0.14097472  &  1.21000171  & ...          &  1.6037994   &  1.282800959 &  1.76269320  &  0.928561551 &  1.06476707  &  0.85844538  &  1.65565143  & -0.467081138 &  2.97203279  & -2.5161372  \\\\\n",
       "\t 69           &  1.89117850  & -0.21850811  & -0.98072709  &           NA &          NA  &  0.91491026  &  0.17810578  & -0.48777949  & -0.01322152  & ...          &  1.0667516   &  1.052969249 & -0.36879563  &  1.559771133 &  1.39458686  &  2.13131268  &  1.49037030  & -0.529212506 &  2.91494956  & -2.7436530  \\\\\n",
       "\t 70           &  1.75665847  &  1.02096757  & -2.05280750  &           NA &          NA  &  0.49013050  & -0.30549021  & -0.18139182  &  0.82537997  & ...          &  1.1306034   &  1.333751603 &  1.15693574  &  1.162274720 &  1.43138493  &  1.57593093  &  1.34203652  &  0.106273961 &  3.54955908  & -1.4488031  \\\\\n",
       "\t 71           &  0.78442877  &          NA  &          NA  &           NA &          NA  & -0.46042562  & -0.18297923  & -0.10968406  &  0.32726329  & ...          &  0.2960756   &  0.578352921 &  0.65483730  &  0.805264052 &  0.01942913  &  0.26782368  &  1.04037255  & -1.565712989 & -0.81437986  & -3.7068056  \\\\\n",
       "\t 72           &  0.79917069  &  0.17893246  & -1.73068006  &           NA &          NA  &  0.16040634  &  0.79066071  & -0.65205544  &  0.17488583  & ...          &  0.8222340   &  0.972112791 &  0.23696183  &  0.253185700 &  1.07158152  &  0.63431925  &  1.35973970  & -1.049740946 &  0.87246663  & -3.3512739  \\\\\n",
       "\t 73           &  0.33848565  & -0.54858587  & -0.56296805  &           NA &          NA  & -0.87035294  & -0.33772995  & -0.43693218  & -0.39574150  & ...          &  0.5900907   &  0.799877461 & -0.44006121  & -0.372503099 &  0.31653952  &  1.10089630  &  1.00882568  & -0.574478330 &  1.26382735  & -1.9878933  \\\\\n",
       "\t 74           &  0.72140706  & -0.29260720  & -0.90522847  &           NA &          NA  & -0.73965148  &  0.48115927  &  0.01808612  & -0.04790053  & ...          &  0.6816611   &  0.757787799 & -0.79962848  & -0.133269146 & -0.02009473  &  0.57088732  &  0.71261595  &  0.007695928 &  1.36753768  & -0.7135902  \\\\\n",
       "\t 75           & -0.10819456  &  0.44838369  & -1.00086005  &  0.431470067 &  0.04182023  & -1.19116563  & -0.33128200  & -0.56991747  & -0.32323085  & ...          &  0.7623420   &  0.737850590 &  0.67751272  &  1.913101278 &  0.71177812  &  1.59566531  &  1.42162264  & -1.604431270 &  0.05525965  & -4.4840472  \\\\\n",
       "\t 76           & -0.66138515  &  0.87276939  & -1.83134488  &           NA &          NA  &  0.33566513  &  0.78743673  & -0.83849560  & -1.43821354  & ...          & -0.1687059   & -0.380294527 &  0.06203722  &  0.426170250 &  0.02215491  &  0.30729244  &  0.78775906  & -2.751031578 & -3.47364541  & -5.2232281  \\\\\n",
       "\t 77           &  1.22447512  & -0.39365141  & -0.26097357  &           NA &          NA  & -0.46042562  & -0.48925669  & -0.38738864  & -0.55757688  & ...          &  0.7370983   &  0.620996395 &  0.33738152  &  0.474017041 &  0.46782050  &  1.02618759  &  1.22090076  & -1.241196421 &  0.26507134  & -3.8119306  \\\\\n",
       "\t 78           &  0.06391737  & -0.76414686  &  0.04102092  &           NA &          NA  &  0.51092391  &  0.60044628  &  1.16410642  &  0.62466207  & ...          &  0.7465028   &  0.956606074 &  0.27907331  & -0.070700266 &  1.63990736  &  1.01068200  &  1.12966583  & -0.362655773 &  1.89688066  & -1.8615956  \\\\\n",
       "\t 79           & -0.44209907  &  0.23282271  & -0.03951094  &           NA &          NA  & -1.71991247  & -1.45000073  & -1.38608209  & -1.52753826  & ...          & -0.8770151   & -0.479426759 &  1.11158491  & -0.004450864 & -0.19863354  &  0.33125561  &  0.33800369  & -2.260198532 & -2.83909350  & -4.4756075  \\\\\n",
       "\t 80           &  0.14831487  & -1.03359809  &  0.76077444  &           NA &          NA  & -0.47527806  & -0.90514925  & -0.73419342  &  0.25580352  & ...          &  0.8712365   &  0.897902070 &  0.30174873  &  0.339677975 &  1.57857724  &  0.87395097  &  0.85007138  &  0.469504058 &  3.14986741  & -0.2475345  \\\\\n",
       "\t 81           &  0.49253873  & -0.80456454  & -0.30627274  &           NA &          NA  &  0.71291709  &  0.35864829  & -0.24788446  & -0.42201348  & ...          &  0.5955355   &  0.683023266 &  0.06851591  &  0.672765248 &  0.42284507  &  0.64982483  &  1.20780096  & -1.368504377 & -0.04704475  & -3.5430255  \\\\\n",
       "\t 82           &  0.24229462  &  0.50227394  &  0.87653899  &           NA &          NA  & -0.54062879  & -0.50860053  & -0.20355603  & -0.38313096  & ...          & -0.6706105   & -0.645016352 &  0.15273887  & -0.407468061 & -0.08006196  &  0.07329911  & -0.12978213  & -1.058655302 & -1.76105875  & -2.0048408  \\\\\n",
       "\t 83           & -0.46679179  &          NA  &          NA  &           NA &          NA  & -0.51389440  & -1.60797543  &  0.02982012  & -0.16875163  & ...          &  0.3663620   &  0.705729532 & -0.23922184  &  0.926721290 &  0.50052990  &  1.02618759  &  0.66690514  &  0.041197214 &  1.91342070  & -0.8381263  \\\\\n",
       "\t 84           &  0.17190194  &          NA  &          NA  &           NA &          NA  & -0.62083196  &  0.25225717  & -0.01059698  & -0.54706809  & ...          &  0.9930003   &  0.936668865 & -0.53076287  &  0.604675584 &  1.42048180  &  0.80206145  &  1.18850806  & -0.131244142 &  2.76875403  & -1.6937466  \\\\\n",
       "\t 85           & -1.45376342  & -0.53511331  &  0.75070795  &           NA &          NA  &  1.00996587  &  0.79710865  &  0.53307818  & -0.94219862  & ...          & -1.8516208   & -1.701134598 & -1.89776634  & -1.184058276 & -1.18673003  & -1.33066083  & -0.66188030  & -3.078700159 & -7.46230576  & -3.5295859  \\\\\n",
       "\t 86           & -0.44504746  & -0.35323373  &  0.66010961  &           NA &          NA  & -0.84361855  &  0.71328535  & -0.49038705  & -0.70364907  & ...          &  0.4574374   &  0.398364232 &  0.29527004  &  1.710672549 &  0.68315739  &  1.28837288  &  0.63130162  & -0.018502823 &  2.09841144  & -1.7038567  \\\\\n",
       "\\end{tabular}\n"
      ],
      "text/plain": [
       "    Treatment PP1          PP2         PP3         PP4          PP5        \n",
       "1    1        -0.839025303  1.39146301  0.07625361  1.32378599   1.87486315\n",
       "2    2        -0.989392899  0.33386692  1.18356672  0.54105272   0.69730584\n",
       "3    3        -0.065074440 -0.98644413  1.31443099  0.88480309   1.09035753\n",
       "4    4        -0.980547746  1.68785937  1.23389913  0.24165725   0.56548972\n",
       "5    5        -2.205969946  1.49924351  1.69695734  1.34857255   1.75383199\n",
       "6    6         0.086767348  0.15872362 -0.42203729 -1.71452365  -2.12515685\n",
       "7    7         1.801989880 -0.06357365  0.03598768  0.82283670   1.00647455\n",
       "8    8         0.407035586  0.63699956 -1.15689054  1.06417946   1.25492796\n",
       "9    9        -0.750573776  1.51945235 -0.51766888  0.96438097   1.41909894\n",
       "10  10         0.972019716  0.56963675 -2.13837261  0.76217487   1.02764502\n",
       "11  11        -0.100086503  1.52618863 -0.90522847 -0.54498969  -0.57851441\n",
       "12  12         0.194751921 -0.34649745  0.04605416  0.38450607   0.54192259\n",
       "13  13         0.342539681  0.19914130 -1.54445012  0.11250626  -0.03167724\n",
       "14  14         1.223369473 -2.71766831  1.46542823 -2.37267187  -1.77804108\n",
       "15  15        -0.199963019 -0.75741058 -0.15024226  0.70020849   0.85708295\n",
       "16  16         0.736148977 -1.47145635  1.49562768  0.45821345   0.10453275\n",
       "17  17         0.062074630  0.86603311 -1.41358585  0.26253014  -0.11076691\n",
       "18  18        -0.417774905 -0.11746390  1.38489637  0.08967654   0.28627921\n",
       "19  19        -0.149840487 -0.38691513  0.21215112  0.52735489   0.17803022\n",
       "20  20        -1.106959720 -0.42059654  0.14671899 -0.21298032  -0.55255062\n",
       "21  21        -1.243322492  1.82932127  0.32288244  0.73804060   0.90022277\n",
       "22  22         0.652488574  0.19914130 -0.28110653  0.54105272   0.59065461\n",
       "23  23         1.860589016  0.14525106 -0.29620626  0.37667874  -0.18106884\n",
       "24  24        -0.282149230  0.18566874 -0.26097357  0.38124468   0.52953987\n",
       "25  25        -0.651065807  0.14525106 -0.05964391 -2.22917077  -2.04606718\n",
       "26  26         0.299419562  0.79193402 -1.87161081  0.34797852   0.51476048\n",
       "27  27        -0.149103391 -0.92581760  0.10645306  0.14838153  -0.39117574\n",
       "28  28        -0.005369659 -0.54184959  0.30274947  0.50778656   0.14088204\n",
       "29  29         0.272515555 -0.11746390 -1.27768833  0.19991147  -0.13832846\n",
       "30  30        -1.586440707  0.98728616  0.46381319 -1.60689782  -1.47446456\n",
       "... ...       ...          ...         ...         ...          ...        \n",
       "57  57         0.29868247           NA          NA  0.306885022 -0.08640090\n",
       "58  58        -0.71482462           NA          NA           NA          NA\n",
       "59  59        -2.95117406   0.70436237 -0.50760240           NA          NA\n",
       "60  60        -0.24197749  -0.29260720 -0.02441122           NA          NA\n",
       "61  61        -0.16200257  -0.16461786  0.75574120           NA          NA\n",
       "62  62         0.26072202  -0.66310265  0.51414561           NA          NA\n",
       "63  63         0.47190004   1.31062764 -0.73409826           NA          NA\n",
       "64  64        -1.06678799  -0.12420018  1.53589361           NA          NA\n",
       "65  65        -0.72661815   0.39449345 -1.36828667 -0.001642342 -0.19504934\n",
       "66  66         1.16808727   0.01726172  0.12658602           NA          NA\n",
       "67  67        -0.16753079  -0.88539992  0.91177168           NA          NA\n",
       "68  68         1.10617120  -0.79782826 -0.27104005           NA          NA\n",
       "69  69         1.89117850  -0.21850811 -0.98072709           NA          NA\n",
       "70  70         1.75665847   1.02096757 -2.05280750           NA          NA\n",
       "71  71         0.78442877           NA          NA           NA          NA\n",
       "72  72         0.79917069   0.17893246 -1.73068006           NA          NA\n",
       "73  73         0.33848565  -0.54858587 -0.56296805           NA          NA\n",
       "74  74         0.72140706  -0.29260720 -0.90522847           NA          NA\n",
       "75  75        -0.10819456   0.44838369 -1.00086005  0.431470067  0.04182023\n",
       "76  76        -0.66138515   0.87276939 -1.83134488           NA          NA\n",
       "77  77         1.22447512  -0.39365141 -0.26097357           NA          NA\n",
       "78  78         0.06391737  -0.76414686  0.04102092           NA          NA\n",
       "79  79        -0.44209907   0.23282271 -0.03951094           NA          NA\n",
       "80  80         0.14831487  -1.03359809  0.76077444           NA          NA\n",
       "81  81         0.49253873  -0.80456454 -0.30627274           NA          NA\n",
       "82  82         0.24229462   0.50227394  0.87653899           NA          NA\n",
       "83  83        -0.46679179           NA          NA           NA          NA\n",
       "84  84         0.17190194           NA          NA           NA          NA\n",
       "85  85        -1.45376342  -0.53511331  0.75070795           NA          NA\n",
       "86  86        -0.44504746  -0.35323373  0.66010961           NA          NA\n",
       "    PP6         PP7         PP8         PP9         ... O13        O14         \n",
       "1   -0.35645854  0.33930445 -1.86326461 -1.05674444 ... -1.7402514 -2.01569945 \n",
       "2   -0.71291709  0.38121610  0.03633900 -0.49137150 ... -1.8803293 -2.34078671 \n",
       "3    0.74559245  1.23234505  1.87727263  2.23460879 ... -0.1112888 -0.24848743 \n",
       "4   -0.53468781 -1.87234124 -3.47864476 -0.89280730 ... -0.8785000 -1.04819102 \n",
       "5   -0.30893074 -1.80786177 -1.21919859 -1.56221727 ... -1.7476760 -2.22227108 \n",
       "6   -0.52874684 -1.51125623 -1.66117912 -1.61686298 ... -0.7701005 -0.56083703 \n",
       "7    0.51389440 -0.05402030  1.75341379  1.52001103 ...  0.2010404  0.51300318 \n",
       "8    0.36834049  0.37154418  1.66214937  1.72703421 ... -1.6447212 -1.76260766 \n",
       "9    0.18417025 -0.52472040  0.69213902 -0.61222259 ... -2.2386912 -2.21174866 \n",
       "10   0.19902269 -2.01742004  0.06241455 -0.04264614 ...  0.9964652  0.73120485 \n",
       "11   0.77232684  0.23936127  0.06241455 -0.30536590 ... -1.0651055 -0.91859916 \n",
       "12   0.58518611 -0.05079632 -0.19182203 -0.42201348 ...  0.4198193  0.32747638 \n",
       "13   1.86843686 -0.78263826  1.01417202  2.07802781 ...  0.6603772  0.83421377 \n",
       "14  -0.05940976  0.50372708 -0.80329362 -0.20448151 ...  0.3188445  0.06053931 \n",
       "15  -0.22872756 -0.63433549 -0.19442959 -1.16288322 ... -0.9680904 -0.89478527 \n",
       "16   1.37236539  0.23291333  0.94116049  1.09335413 ...  0.9227139  0.53515564 \n",
       "17   1.67535515  1.30649643  1.81338754  2.46790395 ...  0.6173144  0.62985738 \n",
       "18  -0.43963220 -2.42686464 -0.22963158 -1.21122366 ... -1.0319422 -1.06591298 \n",
       "19  -0.11881951  0.55208668 -0.07578585 -0.48506622 ...  0.5113897  0.28372528 \n",
       "20   0.13664244 -2.23665022 -0.45257751 -0.82344928 ... -0.2855200 -0.02197858 \n",
       "21   0.76341538  0.57465450 -0.14879738  0.06139089 ... -1.2823995 -1.39044643 \n",
       "22   1.09908051  1.35485603  1.60347939  1.44119510 ...  0.3312188  0.48365118 \n",
       "23   0.76341538  0.24258525  0.94376805  1.28671588 ...  1.1885155  1.14822480 \n",
       "24   0.43963220 -0.12172374 -0.04188764 -0.44198018 ...  0.2926108  0.07715365 \n",
       "25  -2.01399077 -0.70526290 -1.46300496 -0.76039654 ...  0.6296887  0.40390235 \n",
       "26   0.62380245  0.71006137 -0.42650196  0.63517086 ...  1.1375330  1.19086827 \n",
       "27   0.06238024  0.63913396  0.59696327  0.54164262 ...  0.8098596  0.86578101 \n",
       "28   0.70400562  1.14852174 -0.45257751  0.29153340 ...  0.7311586  0.77495595 \n",
       "29   1.30998514 -1.57573569  1.13411954  2.10429979 ...  0.7905556  0.77384833 \n",
       "30   0.15149488 -0.87613349 -0.41476796 -1.11349191 ... -1.0720352 -0.98117984 \n",
       "... ...         ...         ...         ...             ...        ...         \n",
       "57  -1.96646296 -0.74395058 -1.06144153  0.02566100 ...  0.8029300  0.898455882\n",
       "58   0.47824854  1.28715260  0.41052311  1.35081950 ...  0.9771611  1.110565629\n",
       "59   0.90896928  0.62623807  0.62043126 -1.01050576 ... -2.0887138 -2.113170243\n",
       "60   0.65647782 -0.09915592  0.15628652  0.58157603 ...  1.0791260  1.000357170\n",
       "61   0.05940976  1.14207380  1.51482253  0.97880831 ...  0.2985505  0.005711985\n",
       "62   0.95946758 -2.05933169  1.81729888  2.04755232 ...  0.4247691  0.489743105\n",
       "63   0.40695684  1.09371420 -0.09664629  0.08030671 ... -1.5912639 -1.768699583\n",
       "64  -1.54168320 -0.41188133 -1.01450555 -1.80076681 ... -1.1180679 -0.897554328\n",
       "65  -4.20918129  0.34252842  0.96202093  0.37350197 ...  0.2475681  0.422178120\n",
       "66   0.29704879  1.15496969  1.17453664  1.29722467 ...  1.1573320  1.190868275\n",
       "67  -0.08020317  1.09371420 -0.98191111 -0.11305504 ...  0.7801611  0.650348397\n",
       "68  -0.22872756 -0.27969843 -0.14097472  1.21000171 ...  1.6037994  1.282800959\n",
       "69   0.91491026  0.17810578 -0.48777949 -0.01322152 ...  1.0667516  1.052969249\n",
       "70   0.49013050 -0.30549021 -0.18139182  0.82537997 ...  1.1306034  1.333751603\n",
       "71  -0.46042562 -0.18297923 -0.10968406  0.32726329 ...  0.2960756  0.578352921\n",
       "72   0.16040634  0.79066071 -0.65205544  0.17488583 ...  0.8222340  0.972112791\n",
       "73  -0.87035294 -0.33772995 -0.43693218 -0.39574150 ...  0.5900907  0.799877461\n",
       "74  -0.73965148  0.48115927  0.01808612 -0.04790053 ...  0.6816611  0.757787799\n",
       "75  -1.19116563 -0.33128200 -0.56991747 -0.32323085 ...  0.7623420  0.737850590\n",
       "76   0.33566513  0.78743673 -0.83849560 -1.43821354 ... -0.1687059 -0.380294527\n",
       "77  -0.46042562 -0.48925669 -0.38738864 -0.55757688 ...  0.7370983  0.620996395\n",
       "78   0.51092391  0.60044628  1.16410642  0.62466207 ...  0.7465028  0.956606074\n",
       "79  -1.71991247 -1.45000073 -1.38608209 -1.52753826 ... -0.8770151 -0.479426759\n",
       "80  -0.47527806 -0.90514925 -0.73419342  0.25580352 ...  0.8712365  0.897902070\n",
       "81   0.71291709  0.35864829 -0.24788446 -0.42201348 ...  0.5955355  0.683023266\n",
       "82  -0.54062879 -0.50860053 -0.20355603 -0.38313096 ... -0.6706105 -0.645016352\n",
       "83  -0.51389440 -1.60797543  0.02982012 -0.16875163 ...  0.3663620  0.705729532\n",
       "84  -0.62083196  0.25225717 -0.01059698 -0.54706809 ...  0.9930003  0.936668865\n",
       "85   1.00996587  0.79710865  0.53307818 -0.94219862 ... -1.8516208 -1.701134598\n",
       "86  -0.84361855  0.71328535 -0.49038705 -0.70364907 ...  0.4574374  0.398364232\n",
       "    O15           O16          O17         O18         factor1     factor2     \n",
       "1   -3.0898452021 -0.97242824  -2.16119759 -0.78514627 -1.58551217 -0.83058688 \n",
       "2   -1.3632744621 -0.76447873  -2.10804482 -1.97202807 -2.37140875  0.20530819 \n",
       "3   -0.0869726393 -1.09940626   0.28791880  0.02396317 -0.27477978  0.32144542 \n",
       "4   -0.0642972262 -0.37986414  -0.88144228 -0.35239958 -1.08457618  0.21379562 \n",
       "5   -1.5414384221 -0.74791638  -1.92814311 -1.56606375 -2.15626642  0.17757476 \n",
       "6   -1.2790514992  1.75851934  -0.86236180 -0.98249004 -0.96661755  0.72724152 \n",
       "7    2.0477555365 -0.75711768   1.73394689  0.57652572  0.44594566  0.20473759 \n",
       "8    0.8232832293 -1.71773402  -0.86099891 -1.75917872 -1.53685178 -0.39423762 \n",
       "9   -1.6645335218 -1.20246089  -1.64875031 -1.90577694 -2.13130651 -0.31910473 \n",
       "10   0.9690537421  0.65252237  -0.31311644  0.37354356  0.39436485  0.67497045 \n",
       "11  -0.8838514423 -1.10308678  -0.97003024 -0.30165404 -0.89469902 -0.09677214 \n",
       "12   0.0004896684  0.24398439   0.77174535  0.24808931  0.34414386  0.48280691 \n",
       "13  -0.3849923542 -0.47187720   0.18161324  0.31575003  0.62194232  0.43618200 \n",
       "14   0.3049880728  0.95800573  -0.63339599 -0.57652572 -0.21377687  0.77685425 \n",
       "15   0.2531585572 -1.15645436  -1.19218159 -1.70279478 -1.05047127  0.16418273 \n",
       "16   0.5803323747 -0.32833683   0.06167877  0.02678237  0.45933396  0.69759661 \n",
       "17   1.3934079014 -0.71663194   1.06749285 -0.35239958  0.36855375  0.55279301 \n",
       "18   1.2022865625  0.72981334  -1.41705872 -1.06565634 -1.13876023  0.08328592 \n",
       "19   0.1527388706 -0.21608090  -0.60886394  0.08880469  0.08224557  0.87563465 \n",
       "20  -0.8255432372  0.05075697  -0.98502205 -0.97403245 -0.54959543  0.73745989 \n",
       "21   2.0509948812  0.61387689  -1.13221436 -1.03887397 -1.41264789 -0.24307519 \n",
       "22   1.7594538557  0.48321835   1.36324035  1.01491080  0.52780692 -0.14053265 \n",
       "23   0.4669553092  0.36728189   1.54723073  1.16855702  0.84719945  1.42317108 \n",
       "24   1.7788899240  0.54578723   0.44465134  0.17197100  0.54846313 -1.16617636 \n",
       "25   0.5155454801  2.62896287   0.64772221  1.28414408  0.27627879  0.80242587 \n",
       "26   0.7973684715  0.89911737   1.20923359  0.93456369  0.90819290  0.37843138 \n",
       "27   1.7270604084  1.97014937   0.78264848  0.94725008  0.98730695 -0.17924768 \n",
       "28   0.7844110926  0.91936024   0.88213958  0.81615743  0.63989969  0.49790339 \n",
       "29   0.7099061638 -0.21056012   0.80036608  0.47221544  0.53426302  0.69132763 \n",
       "30  -1.4701728381  0.65252237  -0.90052277 -0.03383036 -0.88397073 -0.63853859 \n",
       "... ...           ...          ...         ...         ...         ...         \n",
       "57  -0.82878258   -0.598855223 -0.00510292  0.55256255  0.36556676  0.953695180\n",
       "58  -0.14852019   -0.440592762  0.51279593  0.01268638  0.47249311  1.464177042\n",
       "59  -1.41186463   -1.161975142 -1.50700958 -1.29824006 -2.08525708 -0.432795256\n",
       "60   0.23372249    0.665404203  1.59765772  1.66614523  0.71583890  1.579455513\n",
       "61   0.49287007   -0.435071979 -0.04462678 -0.01409598  0.05291067  0.191152500\n",
       "62   1.00792588   -0.193997765  1.12337141 -0.01127679  0.07564126  1.125905159\n",
       "63  -1.03933999   -1.195099843 -1.77686213 -2.34134283 -1.74152017 -0.308685153\n",
       "64  -0.85145800   -0.276809518 -1.06679556 -0.39750673 -0.59707238 -1.208484869\n",
       "65  -0.09021198    0.148290813  0.07530769 -0.35803798  0.30416299 -0.350154668\n",
       "66   0.87187340   -0.052297655  0.98026778  0.15364622  1.18825459  0.098232070\n",
       "67  -0.08049395    0.369122154  0.47463496  1.16855702  0.92682606 -0.408045134\n",
       "68   1.76269320    0.928561551  1.06476707  0.85844538  1.65565143 -0.467081138\n",
       "69  -0.36879563    1.559771133  1.39458686  2.13131268  1.49037030 -0.529212506\n",
       "70   1.15693574    1.162274720  1.43138493  1.57593093  1.34203652  0.106273961\n",
       "71   0.65483730    0.805264052  0.01942913  0.26782368  1.04037255 -1.565712989\n",
       "72   0.23696183    0.253185700  1.07158152  0.63431925  1.35973970 -1.049740946\n",
       "73  -0.44006121   -0.372503099  0.31653952  1.10089630  1.00882568 -0.574478330\n",
       "74  -0.79962848   -0.133269146 -0.02009473  0.57088732  0.71261595  0.007695928\n",
       "75   0.67751272    1.913101278  0.71177812  1.59566531  1.42162264 -1.604431270\n",
       "76   0.06203722    0.426170250  0.02215491  0.30729244  0.78775906 -2.751031578\n",
       "77   0.33738152    0.474017041  0.46782050  1.02618759  1.22090076 -1.241196421\n",
       "78   0.27907331   -0.070700266  1.63990736  1.01068200  1.12966583 -0.362655773\n",
       "79   1.11158491   -0.004450864 -0.19863354  0.33125561  0.33800369 -2.260198532\n",
       "80   0.30174873    0.339677975  1.57857724  0.87395097  0.85007138  0.469504058\n",
       "81   0.06851591    0.672765248  0.42284507  0.64982483  1.20780096 -1.368504377\n",
       "82   0.15273887   -0.407468061 -0.08006196  0.07329911 -0.12978213 -1.058655302\n",
       "83  -0.23922184    0.926721290  0.50052990  1.02618759  0.66690514  0.041197214\n",
       "84  -0.53076287    0.604675584  1.42048180  0.80206145  1.18850806 -0.131244142\n",
       "85  -1.89776634   -1.184058276 -1.18673003 -1.33066083 -0.66188030 -3.078700159\n",
       "86   0.29527004    1.710672549  0.68315739  1.28837288  0.63130162 -0.018502823\n",
       "    PC1         PC2         \n",
       "1   -4.74974222  0.423757462\n",
       "2   -5.05193788  3.232087627\n",
       "3    0.06475507  0.572567552\n",
       "4   -1.72134522  1.277075822\n",
       "5   -4.31003913  2.640477517\n",
       "6   -0.46397933  1.920110841\n",
       "7    1.74931033 -0.875731867\n",
       "8   -3.48433839  0.710880433\n",
       "9   -5.13637303  1.807726794\n",
       "10   1.57622729  1.100031819\n",
       "11  -1.72215293  0.717396439\n",
       "12   2.38647656  0.098772031\n",
       "13   2.28226432  0.006212985\n",
       "14   1.03177908  1.182534467\n",
       "15  -1.91073974  1.301767012\n",
       "16   2.66485784  0.675571950\n",
       "17   1.59897525  0.440063438\n",
       "18  -1.82022462  0.893791517\n",
       "19   2.26180362  1.179783704\n",
       "20  -0.23982731  2.105286203\n",
       "21  -3.77032767  1.146937075\n",
       "22   0.88678530 -1.256059006\n",
       "23   5.46464472  0.913230162\n",
       "24  -1.54058161 -2.581679392\n",
       "25   2.30822967  0.512581731\n",
       "26   1.69443217 -0.195093188\n",
       "27   2.04872433 -2.059366587\n",
       "28   2.68367405 -0.262875777\n",
       "29   2.28196110  0.435462968\n",
       "30  -3.70813547  0.532145436\n",
       "... ...         ...         \n",
       "57   1.83397610  1.7972374  \n",
       "58   3.73991713  2.4849965  \n",
       "59  -5.96783507  2.2639570  \n",
       "60   5.82905390  1.4280071  \n",
       "61   0.63583713  0.2039790  \n",
       "62   2.38478119  1.4394845  \n",
       "63  -4.73841002  1.7767518  \n",
       "64  -3.92573050 -1.4033183  \n",
       "65  -0.86578258 -0.9034631  \n",
       "66   2.92508447 -1.0533920  \n",
       "67   1.38253035 -1.9857600  \n",
       "68   2.97203279 -2.5161372  \n",
       "69   2.91494956 -2.7436530  \n",
       "70   3.54955908 -1.4488031  \n",
       "71  -0.81437986 -3.7068056  \n",
       "72   0.87246663 -3.3512739  \n",
       "73   1.26382735 -1.9878933  \n",
       "74   1.36753768 -0.7135902  \n",
       "75   0.05525965 -4.4840472  \n",
       "76  -3.47364541 -5.2232281  \n",
       "77   0.26507134 -3.8119306  \n",
       "78   1.89688066 -1.8615956  \n",
       "79  -2.83909350 -4.4756075  \n",
       "80   3.14986741 -0.2475345  \n",
       "81  -0.04704475 -3.5430255  \n",
       "82  -1.76105875 -2.0048408  \n",
       "83   1.91342070 -0.8381263  \n",
       "84   2.76875403 -1.6937466  \n",
       "85  -7.46230576 -3.5295859  \n",
       "86   2.09841144 -1.7038567  "
      ]
     },
     "metadata": {},
     "output_type": "display_data"
    }
   ],
   "source": [
    "powder.scaled[c('factor1','factor2')]<-responses.factanal$scores\n",
    "powder.scaled[c('PC1','PC2')]<-responses.PrComp$x[,1:2]\n",
    "powder.scaled"
   ]
  },
  {
   "cell_type": "markdown",
   "metadata": {},
   "source": [
    "在后续研究中，我们重点研究`factor1`和`factor2`这两个响应变量。"
   ]
  },
  {
   "cell_type": "markdown",
   "metadata": {},
   "source": [
    "### 区分训练集和测试集\n",
    "再进一步研究自变量之前，我们应该将数据分为训练集和测试集，并在最终预测前将测试集严格置于“黑盒子”中。按照作业要求，我们取前10个样本作为训练集。"
   ]
  },
  {
   "cell_type": "code",
   "execution_count": 10,
   "metadata": {},
   "outputs": [],
   "source": [
    "powder.scaled.test<-head(powder.scaled,10)\n",
    "powder.scaled.train<-powder.scaled[-c(1:10),]\n",
    "powder.train<-head(powder,10)\n",
    "powder.test<-powder[-c(1:10),]"
   ]
  },
  {
   "cell_type": "markdown",
   "metadata": {},
   "source": [
    "### 自变量之间的相关性\n",
    "我们再来看看自变量之间的相关矩阵图（按照hierachical聚类排序，由于自变量中数据有缺失，暂时先考虑完全数据）："
   ]
  },
  {
   "cell_type": "code",
   "execution_count": 11,
   "metadata": {
    "scrolled": true
   },
   "outputs": [
    {
     "data": {
      "image/png": "[encoded data removed]",
      "text/plain": [
       "Plot with title \"correlations between predictors\""
      ]
     },
     "metadata": {},
     "output_type": "display_data"
    }
   ],
   "source": [
    "corrplot::corrplot(correlations[[\"predictors\"]], order = \"hclust\",\n",
    "                   main = \"correlations between predictors\")"
   ]
  },
  {
   "cell_type": "markdown",
   "metadata": {},
   "source": [
    "再看看PCA："
   ]
  },
  {
   "cell_type": "code",
   "execution_count": 12,
   "metadata": {
    "scrolled": true
   },
   "outputs": [
    {
     "data": {
      "text/html": [
       "<ol class=list-inline>\n",
       "\t<li>0.411181938879826</li>\n",
       "\t<li>0.125313079842069</li>\n",
       "\t<li>0.095134812610799</li>\n",
       "\t<li>0.0697969244871203</li>\n",
       "\t<li>0.0652211611611012</li>\n",
       "\t<li>0.0437654092773439</li>\n",
       "</ol>\n"
      ],
      "text/latex": [
       "\\begin{enumerate*}\n",
       "\\item 0.411181938879826\n",
       "\\item 0.125313079842069\n",
       "\\item 0.095134812610799\n",
       "\\item 0.0697969244871203\n",
       "\\item 0.0652211611611012\n",
       "\\item 0.0437654092773439\n",
       "\\end{enumerate*}\n"
      ],
      "text/markdown": [
       "1. 0.411181938879826\n",
       "2. 0.125313079842069\n",
       "3. 0.095134812610799\n",
       "4. 0.0697969244871203\n",
       "5. 0.0652211611611012\n",
       "6. 0.0437654092773439\n",
       "\n",
       "\n"
      ],
      "text/plain": [
       "[1] 0.41118194 0.12531308 0.09513481 0.06979692 0.06522116 0.04376541"
      ]
     },
     "metadata": {},
     "output_type": "display_data"
    },
    {
     "data": {
      "image/png": "[encoded data removed]",
      "text/plain": [
       "Plot with title \"predictors.PrComp\""
      ]
     },
     "metadata": {},
     "output_type": "display_data"
    },
    {
     "data": {
      "image/png": "[encoded data removed]",
      "text/plain": [
       "plot without title"
      ]
     },
     "metadata": {},
     "output_type": "display_data"
    }
   ],
   "source": [
    "predictors.PrComp <- prcomp(na.omit(powder.scaled.train[predictors.index]), center = TRUE, scale. = TRUE)\n",
    "plot(predictors.PrComp)\n",
    "head(predictors.PrComp$sd ^ 2 / sum(predictors.PrComp$sd ^ 2))\n",
    "biplot(predictors.PrComp)"
   ]
  },
  {
   "cell_type": "markdown",
   "metadata": {},
   "source": [
    "与其他自变量相比，`PP2`和`PP3`分别代表一种很不同的属性；`PP4`和`PP5`很接近，与其他属性不同；其余属性比较相似。\n",
    "\n",
    "### 自变量共线性\n",
    "在拟合模型之前，需要考虑自变量的共线性问题。可以看看设计矩阵的条件数$\\kappa$，以及共线性的指标“VIF”："
   ]
  },
  {
   "cell_type": "code",
   "execution_count": 13,
   "metadata": {
    "scrolled": true
   },
   "outputs": [
    {
     "data": {
      "text/html": [
       "32.1468900385313"
      ],
      "text/latex": [
       "32.1468900385313"
      ],
      "text/markdown": [
       "32.1468900385313"
      ],
      "text/plain": [
       "[1] 32.14689"
      ]
     },
     "metadata": {},
     "output_type": "display_data"
    },
    {
     "data": {
      "text/html": [
       "<dl class=dl-horizontal>\n",
       "\t<dt>PP4</dt>\n",
       "\t\t<dd>27.7745558063744</dd>\n",
       "\t<dt>PP5</dt>\n",
       "\t\t<dd>26.0130998706373</dd>\n",
       "\t<dt>PP20</dt>\n",
       "\t\t<dd>22.917861809114</dd>\n",
       "\t<dt>PP21</dt>\n",
       "\t\t<dd>20.4554266632406</dd>\n",
       "\t<dt>PP14</dt>\n",
       "\t\t<dd>11.7521543932274</dd>\n",
       "\t<dt>PP19</dt>\n",
       "\t\t<dd>10.679650101983</dd>\n",
       "</dl>\n"
      ],
      "text/latex": [
       "\\begin{description*}\n",
       "\\item[PP4] 27.7745558063744\n",
       "\\item[PP5] 26.0130998706373\n",
       "\\item[PP20] 22.917861809114\n",
       "\\item[PP21] 20.4554266632406\n",
       "\\item[PP14] 11.7521543932274\n",
       "\\item[PP19] 10.679650101983\n",
       "\\end{description*}\n"
      ],
      "text/markdown": [
       "PP4\n",
       ":   27.7745558063744PP5\n",
       ":   26.0130998706373PP20\n",
       ":   22.917861809114PP21\n",
       ":   20.4554266632406PP14\n",
       ":   11.7521543932274PP19\n",
       ":   10.679650101983\n",
       "\n"
      ],
      "text/plain": [
       "     PP4      PP5     PP20     PP21     PP14     PP19 \n",
       "27.77456 26.01310 22.91786 20.45543 11.75215 10.67965 "
      ]
     },
     "metadata": {},
     "output_type": "display_data"
    }
   ],
   "source": [
    "OLS.colin<-lm(reformulate(grep(\"PP\", names(powder), value = T),\n",
    "                       response = \"factor1\"), powder.scaled.train, na.action = na.omit)\n",
    "kappa(OLS.colin)\n",
    "head(sort(car::vif(OLS.colin),decreasing = T))"
   ]
  },
  {
   "cell_type": "markdown",
   "metadata": {},
   "source": [
    "设计矩阵的条件数并不小，这警示我们如果用全模型直接线性拟合会有严重的共线性问题。从各个自变量的VIF值中，`PP4`、`PP5`、`PP20`、`PP21`的值很大，这从之前的相关矩阵图中已经可以看出来了。\n",
    "\n",
    "### 典型变量分析（CCA）\n",
    "\n",
    "Multiple Outcomes 的情形特别适合用典型变量分析，“CCA” (canonical correlation analysis)，即分别在$\\mathbf{X}$和$\\mathbf{Y}$中各自找一个代表，即各自变量的线性组合$\\mathbf{X} v_m$和$\\mathbf{Y} u_m$使得相关系数：\n",
    "\\begin{equation}\n",
    "  \\mathrm{Corr}^2(\\mathbf{Y} u_m, \\mathbf{X} v_m)\n",
    "\\end{equation}\n",
    "达到最大。"
   ]
  },
  {
   "cell_type": "code",
   "execution_count": 138,
   "metadata": {
    "scrolled": true
   },
   "outputs": [],
   "source": [
    "# powder.scaled.cc.CCA <- CCA::cc(\n",
    "#     powder.scaled.train[complete.cases(powder.scaled), predictors.index],\n",
    "#     powder.scaled.train[complete.cases(powder.scaled), responses.index])\n",
    "# powder.scaled.cc.CCA$cor\n",
    "# with(powder.scaled.cc.CCA,\n",
    "#      biplot(cbind(scores$xscores[,1],scores$xscores[,2]),cbind(xcoef[,1],xcoef[,2])))\n",
    "# with(powder.scaled.cc.CCA,\n",
    "#      biplot(cbind(scores$yscores[,1],scores$yscores[,2]),cbind(ycoef[,1],ycoef[,2])))\n",
    "# powder.scaled.cc.CCA"
   ]
  },
  {
   "cell_type": "markdown",
   "metadata": {},
   "source": [
    "## 缺失数据填补\n",
    "\n",
    "在进一步拟合模型之前，还有一个重要的问题——缺失数据的处理。将缺失数据所在行直接扔掉的做法是难以接受的：即使MCAR（缺失与结果无关）的假设成立，在样本量已经如此小的情况下也会导致丢失太多信息。所以考虑对缺失数据作填补（imputation）。\n",
    "\n",
    "众所周知，填补的方法不胜枚举，分别有不同的假设，适应不同的场合。这里主要考虑用“pmm”（predictive mean matching），做多重填补，最后取多个填补后的数据的推断和预测的平均。"
   ]
  },
  {
   "cell_type": "code",
   "execution_count": 66,
   "metadata": {
    "scrolled": true
   },
   "outputs": [],
   "source": [
    "# library(mice)\n",
    "# pred_matrix<- 1 - diag(1, ncol(powder.scaled.train))\n",
    "# pred_matrix[,1]<-0\n",
    "# pred_matrix[,(1+length(predictors.index)+1):ncol(powder.scaled.train)]<- 0\n",
    "# powder.imputed.pmm<-mice(powder.scaled.train,predictorMatrix = pred_matrix ,maxit = 50, method = \"pmm\", seed = 500, printFlag = F)\n",
    "# summary(powder.imputed.pmm)"
   ]
  },
  {
   "cell_type": "code",
   "execution_count": 67,
   "metadata": {},
   "outputs": [],
   "source": [
    "# powder.imputed.pmm$imp$PP2 # 查看填补的值，多重填补，填补了五次"
   ]
  },
  {
   "cell_type": "code",
   "execution_count": 68,
   "metadata": {
    "scrolled": true
   },
   "outputs": [],
   "source": [
    "# fit<-with(data=powder.imputed.pmm, exp=lm(reformulate(grep(\"PP\", names(powder), value = T),\n",
    "#                                                       response = \"Cluster1\")))\n",
    "# combine<-pool(fit)\n",
    "# summary(combine)"
   ]
  },
  {
   "cell_type": "code",
   "execution_count": 69,
   "metadata": {},
   "outputs": [],
   "source": [
    "# powder.imputed.pmm.2 <- complete(powder.imputed.pmm,2)"
   ]
  },
  {
   "cell_type": "markdown",
   "metadata": {},
   "source": [
    "### KNN Impute\n",
    "第二种方法填补方法是“k-nearest neighbors”"
   ]
  },
  {
   "cell_type": "code",
   "execution_count": 14,
   "metadata": {},
   "outputs": [
    {
     "data": {
      "text/html": [
       "<table>\n",
       "<thead><tr><th></th><th scope=col>PP1</th><th scope=col>PP2</th><th scope=col>PP3</th><th scope=col>PP4</th><th scope=col>PP5</th><th scope=col>PP6</th><th scope=col>PP7</th><th scope=col>PP8</th><th scope=col>PP9</th><th scope=col>PP10</th><th scope=col>...</th><th scope=col>PP12</th><th scope=col>PP13</th><th scope=col>PP14</th><th scope=col>PP15</th><th scope=col>PP16</th><th scope=col>PP17</th><th scope=col>PP18</th><th scope=col>PP19</th><th scope=col>PP20</th><th scope=col>PP21</th></tr></thead>\n",
       "<tbody>\n",
       "\t<tr><th scope=row>81</th><td> 0.4925387 </td><td>-0.8045645 </td><td>-0.3062727 </td><td>1.2432637  </td><td>1.2432637  </td><td> 0.7129171 </td><td> 0.3586483 </td><td>-0.24788446</td><td>-0.4220135 </td><td> 1.15936828</td><td>...        </td><td>2.0896224  </td><td> 0.05645367</td><td> 1.15177432</td><td> 1.4892168 </td><td> 1.2257843 </td><td>1.7615687  </td><td>2.0759756  </td><td>-0.02695504</td><td> 0.36708273</td><td> 0.2624062 </td></tr>\n",
       "\t<tr><th scope=row>82</th><td> 0.2422946 </td><td> 0.5022739 </td><td> 0.8765390 </td><td>0.1313113  </td><td>0.1313113  </td><td>-0.5406288 </td><td>-0.5086005 </td><td>-0.20355603</td><td>-0.3831310 </td><td> 0.04832188</td><td>...        </td><td>0.1609793  </td><td>-0.25388859</td><td> 0.01618618</td><td> 0.5729247 </td><td> 0.9035433 </td><td>0.8510057  </td><td>0.7808467  </td><td>-0.59738579</td><td>-1.56767938</td><td>-1.0031000 </td></tr>\n",
       "\t<tr><th scope=row>83</th><td>-0.4667918 </td><td> 0.1039439 </td><td> 0.4385650 </td><td>0.4395125  </td><td>0.4395125  </td><td>-0.5138944 </td><td>-1.6079754 </td><td> 0.02982012</td><td>-0.1687516 </td><td> 0.98135533</td><td>...        </td><td>0.9820848  </td><td>-0.34856928</td><td>-0.03509845</td><td> 0.6076327 </td><td> 1.1861239 </td><td>1.4669748  </td><td>1.3624914  </td><td> 0.67698078</td><td>-0.19414598</td><td> 0.3230292 </td></tr>\n",
       "\t<tr><th scope=row>84</th><td> 0.1719019 </td><td> 0.1977186 </td><td> 0.4596904 </td><td>0.5876713  </td><td>0.5876713  </td><td>-0.6208320 </td><td> 0.2522572 </td><td>-0.01059698</td><td>-0.5470681 </td><td> 0.53325374</td><td>...        </td><td>1.1539441  </td><td>-0.42220981</td><td>-0.26954245</td><td> 0.2466692 </td><td> 1.1117606 </td><td>1.5406232  </td><td>1.4788204  </td><td> 0.54954412</td><td>-0.06860798</td><td>-0.3210907 </td></tr>\n",
       "\t<tr><th scope=row>85</th><td>-1.4537634 </td><td>-0.5351133 </td><td> 0.7507080 </td><td>0.2274169  </td><td>0.2274169  </td><td> 1.0099659 </td><td> 0.7971087 </td><td> 0.53307818</td><td>-0.9421986 </td><td>-0.43047160</td><td>...        </td><td>0.9820848  </td><td>-0.62735130</td><td>-0.26221608</td><td>-0.6765645 </td><td>-1.0546910 </td><td>0.6568416  </td><td>0.7498257  </td><td>-1.71397365</td><td>-1.64890985</td><td>-1.0334115 </td></tr>\n",
       "\t<tr><th scope=row>86</th><td>-0.4450475 </td><td>-0.3532337 </td><td> 0.6601096 </td><td>0.4115617  </td><td>0.4115617  </td><td>-0.8436186 </td><td> 0.7132853 </td><td>-0.49038705</td><td>-0.7036491 </td><td>-0.02533865</td><td>...        </td><td>0.8102255  </td><td> 0.37205596</td><td>-0.60655571</td><td>-0.1142944 </td><td> 0.7151562 </td><td>1.5272326  </td><td>1.6571914  </td><td> 0.43424429</td><td> 0.02000708</td><td>-0.1467994 </td></tr>\n",
       "</tbody>\n",
       "</table>\n"
      ],
      "text/latex": [
       "\\begin{tabular}{r|lllllllllllllllllllll}\n",
       "  & PP1 & PP2 & PP3 & PP4 & PP5 & PP6 & PP7 & PP8 & PP9 & PP10 & ... & PP12 & PP13 & PP14 & PP15 & PP16 & PP17 & PP18 & PP19 & PP20 & PP21\\\\\n",
       "\\hline\n",
       "\t81 &  0.4925387  & -0.8045645  & -0.3062727  & 1.2432637   & 1.2432637   &  0.7129171  &  0.3586483  & -0.24788446 & -0.4220135  &  1.15936828 & ...         & 2.0896224   &  0.05645367 &  1.15177432 &  1.4892168  &  1.2257843  & 1.7615687   & 2.0759756   & -0.02695504 &  0.36708273 &  0.2624062 \\\\\n",
       "\t82 &  0.2422946  &  0.5022739  &  0.8765390  & 0.1313113   & 0.1313113   & -0.5406288  & -0.5086005  & -0.20355603 & -0.3831310  &  0.04832188 & ...         & 0.1609793   & -0.25388859 &  0.01618618 &  0.5729247  &  0.9035433  & 0.8510057   & 0.7808467   & -0.59738579 & -1.56767938 & -1.0031000 \\\\\n",
       "\t83 & -0.4667918  &  0.1039439  &  0.4385650  & 0.4395125   & 0.4395125   & -0.5138944  & -1.6079754  &  0.02982012 & -0.1687516  &  0.98135533 & ...         & 0.9820848   & -0.34856928 & -0.03509845 &  0.6076327  &  1.1861239  & 1.4669748   & 1.3624914   &  0.67698078 & -0.19414598 &  0.3230292 \\\\\n",
       "\t84 &  0.1719019  &  0.1977186  &  0.4596904  & 0.5876713   & 0.5876713   & -0.6208320  &  0.2522572  & -0.01059698 & -0.5470681  &  0.53325374 & ...         & 1.1539441   & -0.42220981 & -0.26954245 &  0.2466692  &  1.1117606  & 1.5406232   & 1.4788204   &  0.54954412 & -0.06860798 & -0.3210907 \\\\\n",
       "\t85 & -1.4537634  & -0.5351133  &  0.7507080  & 0.2274169   & 0.2274169   &  1.0099659  &  0.7971087  &  0.53307818 & -0.9421986  & -0.43047160 & ...         & 0.9820848   & -0.62735130 & -0.26221608 & -0.6765645  & -1.0546910  & 0.6568416   & 0.7498257   & -1.71397365 & -1.64890985 & -1.0334115 \\\\\n",
       "\t86 & -0.4450475  & -0.3532337  &  0.6601096  & 0.4115617   & 0.4115617   & -0.8436186  &  0.7132853  & -0.49038705 & -0.7036491  & -0.02533865 & ...         & 0.8102255   &  0.37205596 & -0.60655571 & -0.1142944  &  0.7151562  & 1.5272326   & 1.6571914   &  0.43424429 &  0.02000708 & -0.1467994 \\\\\n",
       "\\end{tabular}\n"
      ],
      "text/markdown": [
       "1. 0.49253872930484\n",
       "2. 0.242294617004397\n",
       "3. -0.466791792518509\n",
       "4. 0.171901943293963\n",
       "5. -1.45376341658418\n",
       "6. -0.445047458754553\n",
       "7. -0.804564544831857\n",
       "8. 0.502273941383781\n",
       "9. 0.103943939968654\n",
       "10. 0.197718583335353\n",
       "11. -0.535113310560592\n",
       "12. -0.353233727427487\n",
       "13. -0.306272739150876\n",
       "14. 0.876538989698028\n",
       "15. 0.43856498982378\n",
       "16. 0.459690378349226\n",
       "17. 0.750707954714102\n",
       "18. 0.660109609525675\n",
       "19. 1.24326372464015\n",
       "20. 0.1313112983334\n",
       "21. 0.439512535573766\n",
       "22. 0.58767127952849\n",
       "23. 0.22741689857284\n",
       "24. 0.411561731492143\n",
       "25. 1.24326372464015\n",
       "26. 0.1313112983334\n",
       "27. 0.439512535573767\n",
       "28. 0.58767127952849\n",
       "29. 0.22741689857284\n",
       "30. 0.411561731492143\n",
       "31. 0.712917085126783\n",
       "32. -0.540628789554477\n",
       "33. -0.513894398862224\n",
       "34. -0.620831961631241\n",
       "35. 1.00996587059628\n",
       "36. -0.843618550733361\n",
       "37. 0.358648285353679\n",
       "38. -0.508600531764748\n",
       "39. -1.60797542632751\n",
       "40. 0.252257166525025\n",
       "41. 0.79710865385965\n",
       "42. 0.713285348115862\n",
       "43. -0.247884460425565\n",
       "44. -0.203556030220418\n",
       "45. 0.0298201170360892\n",
       "46. -0.010596981092133\n",
       "47. 0.5330781776004\n",
       "48. -0.490387049194896\n",
       "49. -0.422013480925171\n",
       "50. -0.383130955551535\n",
       "51. -0.168751626464461\n",
       "52. -0.547068089559297\n",
       "53. -0.942198617680572\n",
       "54. -0.703649070117994\n",
       "55. 1.15936828483074\n",
       "56. 0.0483218819694879\n",
       "57. 0.981355325256283\n",
       "58. 0.533253737361965\n",
       "59. -0.43047159550663\n",
       "60. -0.0253386530268363\n",
       "61. 2.14336926364055\n",
       "62. 1.07969497742817\n",
       "63. 1.34382886058158\n",
       "64. 0.965474919848311\n",
       "65. 0.915503644657125\n",
       "66. 0.18735077758556\n",
       "67. 2.08962237336928\n",
       "68. 0.160979303016972\n",
       "69. 0.982084768612508\n",
       "70. 1.15394405210925\n",
       "71. 0.982084768612508\n",
       "72. 0.810225485115766\n",
       "73. 0.056453666217232\n",
       "74. -0.253888589889194\n",
       "75. -0.348569278192849\n",
       "76. -0.422209813540137\n",
       "77. -0.627351304864723\n",
       "78. 0.372055960562746\n",
       "79. 1.15177432464724\n",
       "80. 0.0161861776392728\n",
       "81. -0.0350984483546356\n",
       "82. -0.269542452898216\n",
       "83. -0.262216077756226\n",
       "84. -0.606555709429609\n",
       "85. 1.48921677617461\n",
       "86. 0.572924697955955\n",
       "87. 0.607632731221811\n",
       "88. 0.246669185256891\n",
       "89. -0.676564499614936\n",
       "90. -0.114294360708035\n",
       "91. 1.22578434647923\n",
       "92. 0.903543258404604\n",
       "93. 1.18612390487005\n",
       "94. 1.11176057685283\n",
       "95. -1.05469104604891\n",
       "96. 0.715156160760974\n",
       "97. 1.76156866034477\n",
       "98. 0.851005746507653\n",
       "99. 1.46697477645629\n",
       "100. 1.54062324742841\n",
       "101. 0.656841595762975\n",
       "102. 1.52723261634257\n",
       "103. 2.07597557122651\n",
       "104. 0.780846725652678\n",
       "105. 1.36249141677865\n",
       "106. 1.47882035500384\n",
       "107. 0.749825675459293\n",
       "108. 1.65719139361581\n",
       "109. -0.0269550404826063\n",
       "110. -0.597385792475764\n",
       "111. 0.676980781125976\n",
       "112. 0.549544123765801\n",
       "113. -1.7139736474411\n",
       "114. 0.434244290916117\n",
       "115. 0.367082727430238\n",
       "116. -1.56767938121493\n",
       "117. -0.194145975840879\n",
       "118. -0.0686079764249751\n",
       "119. -1.64890985142523\n",
       "120. 0.0200070819862576\n",
       "121. 0.262406159109928\n",
       "122. -1.00309997156059\n",
       "123. 0.32302920728576\n",
       "124. -0.321090679582468\n",
       "125. -1.03341149564851\n",
       "126. -0.146799416076945\n",
       "\n",
       "\n"
      ],
      "text/plain": [
       "   PP1        PP2        PP3        PP4       PP5       PP6        PP7       \n",
       "81  0.4925387 -0.8045645 -0.3062727 1.2432637 1.2432637  0.7129171  0.3586483\n",
       "82  0.2422946  0.5022739  0.8765390 0.1313113 0.1313113 -0.5406288 -0.5086005\n",
       "83 -0.4667918  0.1039439  0.4385650 0.4395125 0.4395125 -0.5138944 -1.6079754\n",
       "84  0.1719019  0.1977186  0.4596904 0.5876713 0.5876713 -0.6208320  0.2522572\n",
       "85 -1.4537634 -0.5351133  0.7507080 0.2274169 0.2274169  1.0099659  0.7971087\n",
       "86 -0.4450475 -0.3532337  0.6601096 0.4115617 0.4115617 -0.8436186  0.7132853\n",
       "   PP8         PP9        PP10        ... PP12      PP13        PP14       \n",
       "81 -0.24788446 -0.4220135  1.15936828 ... 2.0896224  0.05645367  1.15177432\n",
       "82 -0.20355603 -0.3831310  0.04832188 ... 0.1609793 -0.25388859  0.01618618\n",
       "83  0.02982012 -0.1687516  0.98135533 ... 0.9820848 -0.34856928 -0.03509845\n",
       "84 -0.01059698 -0.5470681  0.53325374 ... 1.1539441 -0.42220981 -0.26954245\n",
       "85  0.53307818 -0.9421986 -0.43047160 ... 0.9820848 -0.62735130 -0.26221608\n",
       "86 -0.49038705 -0.7036491 -0.02533865 ... 0.8102255  0.37205596 -0.60655571\n",
       "   PP15       PP16       PP17      PP18      PP19        PP20        PP21      \n",
       "81  1.4892168  1.2257843 1.7615687 2.0759756 -0.02695504  0.36708273  0.2624062\n",
       "82  0.5729247  0.9035433 0.8510057 0.7808467 -0.59738579 -1.56767938 -1.0031000\n",
       "83  0.6076327  1.1861239 1.4669748 1.3624914  0.67698078 -0.19414598  0.3230292\n",
       "84  0.2466692  1.1117606 1.5406232 1.4788204  0.54954412 -0.06860798 -0.3210907\n",
       "85 -0.6765645 -1.0546910 0.6568416 0.7498257 -1.71397365 -1.64890985 -1.0334115\n",
       "86 -0.1142944  0.7151562 1.5272326 1.6571914  0.43424429  0.02000708 -0.1467994"
      ]
     },
     "metadata": {},
     "output_type": "display_data"
    }
   ],
   "source": [
    "powder.imputed.knn <- powder.scaled.train[predictors.index]\n",
    "powder.imputed.knn<-t(impute::impute.knn(t(powder.scaled.train[predictors.index]))[['data']])\n",
    "tail(powder.imputed.knn)"
   ]
  },
  {
   "cell_type": "markdown",
   "metadata": {},
   "source": [
    "### （非条件）均值填补"
   ]
  },
  {
   "cell_type": "code",
   "execution_count": 15,
   "metadata": {
    "scrolled": true
   },
   "outputs": [
    {
     "data": {
      "text/html": [
       "<table>\n",
       "<thead><tr><th></th><th scope=col>PP1</th><th scope=col>PP2</th><th scope=col>PP3</th><th scope=col>PP4</th><th scope=col>PP5</th><th scope=col>PP6</th><th scope=col>PP7</th><th scope=col>PP8</th><th scope=col>PP9</th><th scope=col>PP10</th><th scope=col>...</th><th scope=col>PP12</th><th scope=col>PP13</th><th scope=col>PP14</th><th scope=col>PP15</th><th scope=col>PP16</th><th scope=col>PP17</th><th scope=col>PP18</th><th scope=col>PP19</th><th scope=col>PP20</th><th scope=col>PP21</th></tr></thead>\n",
       "<tbody>\n",
       "\t<tr><th scope=row>81</th><td> 0.4925387 </td><td>-0.8045645 </td><td>-0.3062727 </td><td>0          </td><td>0          </td><td> 0.7129171 </td><td> 0.3586483 </td><td>-0.24788446</td><td>-0.4220135 </td><td> 1.15936828</td><td>...        </td><td>2.0896224  </td><td> 0.05645367</td><td> 1.15177432</td><td> 1.4892168 </td><td> 1.2257843 </td><td>1.7615687  </td><td>2.0759756  </td><td>-0.02695504</td><td> 0.36708273</td><td> 0.2624062 </td></tr>\n",
       "\t<tr><th scope=row>82</th><td> 0.2422946 </td><td> 0.5022739 </td><td> 0.8765390 </td><td>0          </td><td>0          </td><td>-0.5406288 </td><td>-0.5086005 </td><td>-0.20355603</td><td>-0.3831310 </td><td> 0.04832188</td><td>...        </td><td>0.1609793  </td><td>-0.25388859</td><td> 0.01618618</td><td> 0.5729247 </td><td> 0.9035433 </td><td>0.8510057  </td><td>0.7808467  </td><td>-0.59738579</td><td>-1.56767938</td><td>-1.0031000 </td></tr>\n",
       "\t<tr><th scope=row>83</th><td>-0.4667918 </td><td> 0.0000000 </td><td> 0.0000000 </td><td>0          </td><td>0          </td><td>-0.5138944 </td><td>-1.6079754 </td><td> 0.02982012</td><td>-0.1687516 </td><td> 0.98135533</td><td>...        </td><td>0.9820848  </td><td>-0.34856928</td><td>-0.03509845</td><td> 0.6076327 </td><td> 1.1861239 </td><td>1.4669748  </td><td>1.3624914  </td><td> 0.67698078</td><td>-0.19414598</td><td> 0.3230292 </td></tr>\n",
       "\t<tr><th scope=row>84</th><td> 0.1719019 </td><td> 0.0000000 </td><td> 0.0000000 </td><td>0          </td><td>0          </td><td>-0.6208320 </td><td> 0.2522572 </td><td>-0.01059698</td><td>-0.5470681 </td><td> 0.53325374</td><td>...        </td><td>1.1539441  </td><td>-0.42220981</td><td>-0.26954245</td><td> 0.2466692 </td><td> 1.1117606 </td><td>1.5406232  </td><td>1.4788204  </td><td> 0.54954412</td><td>-0.06860798</td><td>-0.3210907 </td></tr>\n",
       "\t<tr><th scope=row>85</th><td>-1.4537634 </td><td>-0.5351133 </td><td> 0.7507080 </td><td>0          </td><td>0          </td><td> 1.0099659 </td><td> 0.7971087 </td><td> 0.53307818</td><td>-0.9421986 </td><td>-0.43047160</td><td>...        </td><td>0.9820848  </td><td>-0.62735130</td><td>-0.26221608</td><td>-0.6765645 </td><td>-1.0546910 </td><td>0.6568416  </td><td>0.7498257  </td><td>-1.71397365</td><td>-1.64890985</td><td>-1.0334115 </td></tr>\n",
       "\t<tr><th scope=row>86</th><td>-0.4450475 </td><td>-0.3532337 </td><td> 0.6601096 </td><td>0          </td><td>0          </td><td>-0.8436186 </td><td> 0.7132853 </td><td>-0.49038705</td><td>-0.7036491 </td><td>-0.02533865</td><td>...        </td><td>0.8102255  </td><td> 0.37205596</td><td>-0.60655571</td><td>-0.1142944 </td><td> 0.7151562 </td><td>1.5272326  </td><td>1.6571914  </td><td> 0.43424429</td><td> 0.02000708</td><td>-0.1467994 </td></tr>\n",
       "</tbody>\n",
       "</table>\n"
      ],
      "text/latex": [
       "\\begin{tabular}{r|lllllllllllllllllllll}\n",
       "  & PP1 & PP2 & PP3 & PP4 & PP5 & PP6 & PP7 & PP8 & PP9 & PP10 & ... & PP12 & PP13 & PP14 & PP15 & PP16 & PP17 & PP18 & PP19 & PP20 & PP21\\\\\n",
       "\\hline\n",
       "\t81 &  0.4925387  & -0.8045645  & -0.3062727  & 0           & 0           &  0.7129171  &  0.3586483  & -0.24788446 & -0.4220135  &  1.15936828 & ...         & 2.0896224   &  0.05645367 &  1.15177432 &  1.4892168  &  1.2257843  & 1.7615687   & 2.0759756   & -0.02695504 &  0.36708273 &  0.2624062 \\\\\n",
       "\t82 &  0.2422946  &  0.5022739  &  0.8765390  & 0           & 0           & -0.5406288  & -0.5086005  & -0.20355603 & -0.3831310  &  0.04832188 & ...         & 0.1609793   & -0.25388859 &  0.01618618 &  0.5729247  &  0.9035433  & 0.8510057   & 0.7808467   & -0.59738579 & -1.56767938 & -1.0031000 \\\\\n",
       "\t83 & -0.4667918  &  0.0000000  &  0.0000000  & 0           & 0           & -0.5138944  & -1.6079754  &  0.02982012 & -0.1687516  &  0.98135533 & ...         & 0.9820848   & -0.34856928 & -0.03509845 &  0.6076327  &  1.1861239  & 1.4669748   & 1.3624914   &  0.67698078 & -0.19414598 &  0.3230292 \\\\\n",
       "\t84 &  0.1719019  &  0.0000000  &  0.0000000  & 0           & 0           & -0.6208320  &  0.2522572  & -0.01059698 & -0.5470681  &  0.53325374 & ...         & 1.1539441   & -0.42220981 & -0.26954245 &  0.2466692  &  1.1117606  & 1.5406232   & 1.4788204   &  0.54954412 & -0.06860798 & -0.3210907 \\\\\n",
       "\t85 & -1.4537634  & -0.5351133  &  0.7507080  & 0           & 0           &  1.0099659  &  0.7971087  &  0.53307818 & -0.9421986  & -0.43047160 & ...         & 0.9820848   & -0.62735130 & -0.26221608 & -0.6765645  & -1.0546910  & 0.6568416   & 0.7498257   & -1.71397365 & -1.64890985 & -1.0334115 \\\\\n",
       "\t86 & -0.4450475  & -0.3532337  &  0.6601096  & 0           & 0           & -0.8436186  &  0.7132853  & -0.49038705 & -0.7036491  & -0.02533865 & ...         & 0.8102255   &  0.37205596 & -0.60655571 & -0.1142944  &  0.7151562  & 1.5272326   & 1.6571914   &  0.43424429 &  0.02000708 & -0.1467994 \\\\\n",
       "\\end{tabular}\n"
      ],
      "text/plain": [
       "   PP1        PP2        PP3        PP4 PP5 PP6        PP7        PP8        \n",
       "81  0.4925387 -0.8045645 -0.3062727 0   0    0.7129171  0.3586483 -0.24788446\n",
       "82  0.2422946  0.5022739  0.8765390 0   0   -0.5406288 -0.5086005 -0.20355603\n",
       "83 -0.4667918  0.0000000  0.0000000 0   0   -0.5138944 -1.6079754  0.02982012\n",
       "84  0.1719019  0.0000000  0.0000000 0   0   -0.6208320  0.2522572 -0.01059698\n",
       "85 -1.4537634 -0.5351133  0.7507080 0   0    1.0099659  0.7971087  0.53307818\n",
       "86 -0.4450475 -0.3532337  0.6601096 0   0   -0.8436186  0.7132853 -0.49038705\n",
       "   PP9        PP10        ... PP12      PP13        PP14        PP15      \n",
       "81 -0.4220135  1.15936828 ... 2.0896224  0.05645367  1.15177432  1.4892168\n",
       "82 -0.3831310  0.04832188 ... 0.1609793 -0.25388859  0.01618618  0.5729247\n",
       "83 -0.1687516  0.98135533 ... 0.9820848 -0.34856928 -0.03509845  0.6076327\n",
       "84 -0.5470681  0.53325374 ... 1.1539441 -0.42220981 -0.26954245  0.2466692\n",
       "85 -0.9421986 -0.43047160 ... 0.9820848 -0.62735130 -0.26221608 -0.6765645\n",
       "86 -0.7036491 -0.02533865 ... 0.8102255  0.37205596 -0.60655571 -0.1142944\n",
       "   PP16       PP17      PP18      PP19        PP20        PP21      \n",
       "81  1.2257843 1.7615687 2.0759756 -0.02695504  0.36708273  0.2624062\n",
       "82  0.9035433 0.8510057 0.7808467 -0.59738579 -1.56767938 -1.0031000\n",
       "83  1.1861239 1.4669748 1.3624914  0.67698078 -0.19414598  0.3230292\n",
       "84  1.1117606 1.5406232 1.4788204  0.54954412 -0.06860798 -0.3210907\n",
       "85 -1.0546910 0.6568416 0.7498257 -1.71397365 -1.64890985 -1.0334115\n",
       "86  0.7151562 1.5272326 1.6571914  0.43424429  0.02000708 -0.1467994"
      ]
     },
     "metadata": {},
     "output_type": "display_data"
    }
   ],
   "source": [
    "# 因为X已经中心化了，所以填补0\n",
    "powder.imputed.mean<-powder.scaled.train[predictors.index]\n",
    "for (PP in paste(\"PP\",2:5,sep=\"\")){\n",
    "    powder.imputed.mean[is.na(powder.imputed.mean[PP]),PP]<-0\n",
    "}\n",
    "tail(powder.imputed.mean)"
   ]
  },
  {
   "cell_type": "markdown",
   "metadata": {},
   "source": [
    "### 条件均值填补（线性回归）"
   ]
  },
  {
   "cell_type": "code",
   "execution_count": 16,
   "metadata": {},
   "outputs": [],
   "source": [
    "powder.imputed.reg<-powder.scaled.train[predictors.index]\n",
    "PP4.impute.reg<-lm(PP4~.-PP2-PP3-PP5 , data=powder.scaled.train[predictors.index],subset = complete.cases(PP4))\n",
    "# powder.scaled.train$PP4[which(is.na(powder.scaled.train$PP4))]\n",
    "# which(is.na(powder.scaled.train$PP4))\n",
    "powder.imputed.reg$PP4[which(is.na(powder.scaled.train$PP4))]<- predict(\n",
    "    PP4.impute.reg,newdata=powder.scaled.train[which(is.na(powder.scaled.train$PP4)),predictors.index])\n",
    "\n",
    "PP5.impute.reg<-lm(PP5~.-PP2-PP3-PP4 , data=powder.scaled.train[predictors.index],subset = complete.cases(PP5))\n",
    "powder.imputed.reg$PP5[which(is.na(powder.scaled.train$PP5))]<- predict(\n",
    "    PP5.impute.reg,newdata=powder.scaled.train[which(is.na(powder.scaled.train$PP5)),predictors.index])\n",
    "PP2.impute.reg<-lm(PP2~.-PP3-PP5-PP4 , data=powder.scaled.train[predictors.index],subset = complete.cases(PP2))\n",
    "powder.imputed.reg$PP2[which(is.na(powder.scaled.train$PP2))]<- predict(\n",
    "    PP2.impute.reg,newdata=powder.scaled.train[which(is.na(powder.scaled.train$PP2)),predictors.index])\n",
    "PP3.impute.reg<-lm(PP3~.-PP2-PP5-PP4 , data=powder.scaled.train[predictors.index],subset = complete.cases(PP3))\n",
    "powder.imputed.reg$PP3[which(is.na(powder.scaled.train$PP3))]<- predict(\n",
    "    PP3.impute.reg,newdata=powder.scaled.train[which(is.na(powder.scaled.train$PP3)),predictors.index])"
   ]
  },
  {
   "cell_type": "markdown",
   "metadata": {},
   "source": [
    "为简明起见，后续的分析统一采用中心化、标准化、knn填补后的数据，即`powder.imputed.knn`。\n",
    "\n",
    "响应变量统一采用降维后得到的`Cluster1`和`Cluster2`。\n",
    "\n",
    "之后我们会看到，通过CV评价，在各种方法下`knn.impute`的表现都不错。"
   ]
  },
  {
   "cell_type": "markdown",
   "metadata": {},
   "source": [
    "# 建立统计模型"
   ]
  },
  {
   "cell_type": "markdown",
   "metadata": {},
   "source": [
    "## 评价标准：10-fold CV MSE\n",
    "由于样本量小，选择了10-fold CV的RMSE（或MSE）作为评价预测能力好坏的指标。\n",
    "\n",
    "package`caret`中的`train`函数可以很方便地整合、对比不同方法的训练和预测结果。比如，我们采取对所有自变量的简单线性回归："
   ]
  },
  {
   "cell_type": "code",
   "execution_count": 20,
   "metadata": {
    "scrolled": true
   },
   "outputs": [
    {
     "data": {
      "text/html": [
       "0.890054069234556"
      ],
      "text/latex": [
       "0.890054069234556"
      ],
      "text/markdown": [
       "0.890054069234556"
      ],
      "text/plain": [
       "[1] 0.8900541"
      ]
     },
     "metadata": {},
     "output_type": "display_data"
    }
   ],
   "source": [
    "library(caret)\n",
    "library(e1071)\n",
    "library(MASS)\n",
    "library(RANN)\n",
    "\n",
    "k<-10\n",
    "set.seed(1)\n",
    "index<-createFolds(powder.scaled.train$Treatment,k=k,returnTrain = TRUE)\n",
    "repeats<- 5\n",
    "X<-powder.imputed.reg\n",
    "y<-powder.scaled.train$factor1 # 响应函数函数\n",
    "trControl<-trainControl(method = \"cv\",number = k, index = index)\n",
    "sd(y)"
   ]
  },
  {
   "cell_type": "markdown",
   "metadata": {},
   "source": [
    "### Ordinary Least Square"
   ]
  },
  {
   "cell_type": "code",
   "execution_count": 21,
   "metadata": {
    "scrolled": false
   },
   "outputs": [
    {
     "data": {
      "text/plain": [
       "Linear Regression \n",
       "\n",
       "76 samples\n",
       "21 predictors\n",
       "\n",
       "No pre-processing\n",
       "Resampling: Cross-Validated (10 fold) \n",
       "Summary of sample sizes: 69, 68, 69, 68, 68, 68, ... \n",
       "Resampling results:\n",
       "\n",
       "  RMSE       Rsquared \n",
       "  0.6777366  0.4894324\n",
       "\n",
       "Tuning parameter 'intercept' was held constant at a value of TRUE\n",
       " "
      ]
     },
     "metadata": {},
     "output_type": "display_data"
    },
    {
     "data": {
      "text/plain": [
       "Linear Regression \n",
       "\n",
       "76 samples\n",
       "21 predictors\n",
       "\n",
       "No pre-processing\n",
       "Resampling: Cross-Validated (10 fold) \n",
       "Summary of sample sizes: 69, 68, 69, 68, 68, 68, ... \n",
       "Resampling results:\n",
       "\n",
       "  RMSE      Rsquared \n",
       "  0.657831  0.5342063\n",
       "\n",
       "Tuning parameter 'intercept' was held constant at a value of TRUE\n",
       " "
      ]
     },
     "metadata": {},
     "output_type": "display_data"
    },
    {
     "data": {
      "text/plain": [
       "Linear Regression \n",
       "\n",
       "76 samples\n",
       "21 predictors\n",
       "\n",
       "No pre-processing\n",
       "Resampling: Cross-Validated (10 fold) \n",
       "Summary of sample sizes: 69, 68, 69, 68, 68, 68, ... \n",
       "Resampling results:\n",
       "\n",
       "  RMSE       Rsquared \n",
       "  0.6931214  0.4669466\n",
       "\n",
       "Tuning parameter 'intercept' was held constant at a value of TRUE\n",
       " "
      ]
     },
     "metadata": {},
     "output_type": "display_data"
    },
    {
     "data": {
      "text/plain": [
       "\n",
       "Call:\n",
       "lm(formula = .outcome ~ ., data = dat)\n",
       "\n",
       "Residuals:\n",
       "     Min       1Q   Median       3Q      Max \n",
       "-1.84746 -0.32163  0.06304  0.32345  0.98872 \n",
       "\n",
       "Coefficients:\n",
       "             Estimate Std. Error t value Pr(>|t|)    \n",
       "(Intercept)  0.040764   0.077183   0.528 0.599564    \n",
       "PP1          0.115661   0.135583   0.853 0.397391    \n",
       "PP2         -0.457052   0.137412  -3.326 0.001589 ** \n",
       "PP3         -0.493418   0.128812  -3.831 0.000335 ***\n",
       "PP4          0.354660   0.427724   0.829 0.410653    \n",
       "PP5         -0.330189   0.451687  -0.731 0.467931    \n",
       "PP6         -0.086540   0.085696  -1.010 0.317074    \n",
       "PP7          0.085152   0.087886   0.969 0.336921    \n",
       "PP8         -0.156722   0.134232  -1.168 0.248120    \n",
       "PP9          0.210453   0.154258   1.364 0.178133    \n",
       "PP10         0.361225   0.127497   2.833 0.006466 ** \n",
       "PP11        -0.158126   0.158471  -0.998 0.322817    \n",
       "PP12         0.003543   0.149725   0.024 0.981207    \n",
       "PP13        -0.283981   0.126063  -2.253 0.028365 *  \n",
       "PP14        -0.174153   0.170454  -1.022 0.311476    \n",
       "PP15         0.156737   0.156307   1.003 0.320453    \n",
       "PP16         0.133697   0.191252   0.699 0.487513    \n",
       "PP17         0.172703   0.202311   0.854 0.397069    \n",
       "PP18        -0.047867   0.184314  -0.260 0.796079    \n",
       "PP19         0.068731   0.185671   0.370 0.712701    \n",
       "PP20        -0.276951   0.253274  -1.093 0.279035    \n",
       "PP21         0.072731   0.222794   0.326 0.745347    \n",
       "---\n",
       "Signif. codes:  0 '***' 0.001 '**' 0.01 '*' 0.05 '.' 0.1 ' ' 1\n",
       "\n",
       "Residual standard error: 0.5613 on 54 degrees of freedom\n",
       "Multiple R-squared:  0.7136,\tAdjusted R-squared:  0.6023 \n",
       "F-statistic: 6.409 on 21 and 54 DF,  p-value: 1.855e-08\n"
      ]
     },
     "metadata": {},
     "output_type": "display_data"
    }
   ],
   "source": [
    "OLS_knn <- train(x = powder.imputed.knn,y=y,\n",
    "             #preProcess=\"pca\",\n",
    "             method = \"lm\",\n",
    "             trControl = trControl)\n",
    "OLS <- train(x = powder.imputed.reg,y=y,\n",
    "             #preProcess=\"pca\",\n",
    "             method = \"lm\",\n",
    "             trControl = trControl)\n",
    "OLS_mean <- train(x = powder.imputed.mean,y=y,\n",
    "             #preProcess=\"pca\",\n",
    "             method = \"lm\",\n",
    "             trControl = trControl)\n",
    "OLS_knn;OLS;OLS_mean\n",
    "summary(OLS$finalModel)"
   ]
  },
  {
   "cell_type": "code",
   "execution_count": 22,
   "metadata": {},
   "outputs": [
    {
     "data": {
      "text/plain": [
       "Linear Regression \n",
       "\n",
       "76 samples\n",
       " 5 predictor\n",
       "\n",
       "No pre-processing\n",
       "Resampling: Cross-Validated (10 fold) \n",
       "Summary of sample sizes: 69, 68, 69, 68, 68, 68, ... \n",
       "Resampling results:\n",
       "\n",
       "  RMSE       Rsquared \n",
       "  0.5866794  0.5769596\n",
       "\n",
       "Tuning parameter 'intercept' was held constant at a value of TRUE\n",
       " "
      ]
     },
     "metadata": {},
     "output_type": "display_data"
    },
    {
     "data": {
      "text/plain": [
       "\n",
       "Call:\n",
       "lm(formula = .outcome ~ ., data = dat)\n",
       "\n",
       "Residuals:\n",
       "     Min       1Q   Median       3Q      Max \n",
       "-2.10852 -0.38915  0.04077  0.40667  0.94798 \n",
       "\n",
       "Coefficients:\n",
       "            Estimate Std. Error t value Pr(>|t|)    \n",
       "(Intercept)  0.03734    0.06944   0.538    0.592    \n",
       "PP2         -0.61588    0.08841  -6.966 1.44e-09 ***\n",
       "PP3         -0.55709    0.09384  -5.936 1.01e-07 ***\n",
       "PP9          0.12629    0.08016   1.575    0.120    \n",
       "PP10         0.45000    0.10380   4.335 4.78e-05 ***\n",
       "PP13        -0.26903    0.10425  -2.580    0.012 *  \n",
       "---\n",
       "Signif. codes:  0 '***' 0.001 '**' 0.01 '*' 0.05 '.' 0.1 ' ' 1\n",
       "\n",
       "Residual standard error: 0.5909 on 70 degrees of freedom\n",
       "Multiple R-squared:  0.5886,\tAdjusted R-squared:  0.5592 \n",
       "F-statistic: 20.03 on 5 and 70 DF,  p-value: 2.409e-12\n"
      ]
     },
     "metadata": {},
     "output_type": "display_data"
    },
    {
     "data": {
      "text/html": [
       "<table>\n",
       "<thead><tr><th scope=col>Res.Df</th><th scope=col>RSS</th><th scope=col>Df</th><th scope=col>Sum of Sq</th><th scope=col>F</th><th scope=col>Pr(&gt;F)</th></tr></thead>\n",
       "<tbody>\n",
       "\t<tr><td>70       </td><td>24.44319 </td><td>NA       </td><td>      NA </td><td>      NA </td><td>       NA</td></tr>\n",
       "\t<tr><td>54       </td><td>17.01346 </td><td>16       </td><td>7.429737 </td><td>1.473854 </td><td>0.1443544</td></tr>\n",
       "</tbody>\n",
       "</table>\n"
      ],
      "text/latex": [
       "\\begin{tabular}{r|llllll}\n",
       " Res.Df & RSS & Df & Sum of Sq & F & Pr(>F)\\\\\n",
       "\\hline\n",
       "\t 70        & 24.44319  & NA        &       NA  &       NA  &        NA\\\\\n",
       "\t 54        & 17.01346  & 16        & 7.429737  & 1.473854  & 0.1443544\\\\\n",
       "\\end{tabular}\n"
      ],
      "text/plain": [
       "  Res.Df RSS      Df Sum of Sq F        Pr(>F)   \n",
       "1 70     24.44319 NA       NA        NA        NA\n",
       "2 54     17.01346 16 7.429737  1.473854 0.1443544"
      ]
     },
     "metadata": {},
     "output_type": "display_data"
    }
   ],
   "source": [
    "OLS.restricted<-train(x = powder.imputed.reg[,paste(\"PP\",c(2,3,9,10,13),sep=\"\")],y=y,\n",
    "             #preProcess=\"pca\",\n",
    "             method = \"lm\",\n",
    "             trControl = trControl)\n",
    "# OLS.restricted<-train(x = powder.imputed.reg[,paste(\"PP\",c(9,11,13),sep=\"\")],y=y,\n",
    "#              #preProcess=\"pca\",\n",
    "#              method = \"lm\",\n",
    "#              trControl = trControl)\n",
    "OLS.restricted\n",
    "summary(OLS.restricted$finalModel)\n",
    "anova(OLS.restricted$finalModel,OLS$finalModel)"
   ]
  },
  {
   "cell_type": "markdown",
   "metadata": {},
   "source": [
    "#### 残差诊断"
   ]
  },
  {
   "cell_type": "code",
   "execution_count": 23,
   "metadata": {
    "scrolled": true
   },
   "outputs": [
    {
     "data": {
      "image/png": "[encoded data removed]",
      "text/plain": [
       "plot without title"
      ]
     },
     "metadata": {},
     "output_type": "display_data"
    },
    {
     "data": {
      "text/html": [
       "0.473139822520391"
      ],
      "text/latex": [
       "0.473139822520391"
      ],
      "text/markdown": [
       "0.473139822520391"
      ],
      "text/plain": [
       "[1] 0.4731398"
      ]
     },
     "metadata": {},
     "output_type": "display_data"
    },
    {
     "data": {
      "image/png": "[encoded data removed]",
      "text/plain": [
       "plot without title"
      ]
     },
     "metadata": {},
     "output_type": "display_data"
    }
   ],
   "source": [
    "OLS.fitted<-predict(OLS$finalModel,newdata=X[,predictors.index])\n",
    "plot(OLS.fitted,y)\n",
    "abline(a = 0, b = 1)\n",
    "plot(OLS.fitted,y-OLS.fitted) # 残差依然和y高度相关\n",
    "sqrt(mean((y-OLS.fitted)^2))"
   ]
  },
  {
   "cell_type": "markdown",
   "metadata": {},
   "source": [
    "### Stepwise Regression"
   ]
  },
  {
   "cell_type": "code",
   "execution_count": 24,
   "metadata": {
    "scrolled": true
   },
   "outputs": [
    {
     "data": {
      "text/plain": [
       "Linear Regression with Stepwise Selection \n",
       "\n",
       "76 samples\n",
       "21 predictors\n",
       "\n",
       "No pre-processing\n",
       "Resampling: Cross-Validated (10 fold) \n",
       "Summary of sample sizes: 69, 68, 69, 68, 68, 68, ... \n",
       "Resampling results:\n",
       "\n",
       "  RMSE       Rsquared\n",
       "  0.6476043  0.511504\n",
       "\n",
       " "
      ]
     },
     "metadata": {},
     "output_type": "display_data"
    },
    {
     "data": {
      "text/plain": [
       "\n",
       "Call:\n",
       "lm(formula = .outcome ~ PP2 + PP3 + PP6 + PP9 + PP10 + PP11 + \n",
       "    PP13 + PP16, data = dat)\n",
       "\n",
       "Residuals:\n",
       "     Min       1Q   Median       3Q      Max \n",
       "-1.75027 -0.27904  0.00902  0.34382  1.33366 \n",
       "\n",
       "Coefficients:\n",
       "            Estimate Std. Error t value Pr(>|t|)    \n",
       "(Intercept)  0.04847    0.06244   0.776 0.440338    \n",
       "PP2         -0.53447    0.08560  -6.244 3.32e-08 ***\n",
       "PP3         -0.51969    0.08865  -5.862 1.54e-07 ***\n",
       "PP6         -0.15320    0.06810  -2.250 0.027758 *  \n",
       "PP9          0.20536    0.07939   2.587 0.011869 *  \n",
       "PP10         0.38081    0.10350   3.679 0.000468 ***\n",
       "PP11        -0.17192    0.07345  -2.341 0.022233 *  \n",
       "PP13        -0.31637    0.09531  -3.320 0.001461 ** \n",
       "PP16         0.29874    0.08059   3.707 0.000428 ***\n",
       "---\n",
       "Signif. codes:  0 '***' 0.001 '**' 0.01 '*' 0.05 '.' 0.1 ' ' 1\n",
       "\n",
       "Residual standard error: 0.5301 on 67 degrees of freedom\n",
       "Multiple R-squared:  0.6831,\tAdjusted R-squared:  0.6453 \n",
       "F-statistic: 18.05 on 8 and 67 DF,  p-value: 4.725e-14\n"
      ]
     },
     "metadata": {},
     "output_type": "display_data"
    }
   ],
   "source": [
    "lmStepAIC <- train(x = X, y = y,\n",
    "                   method = \"lmStepAIC\",trace=F,\n",
    "                   #preProcess = \"pca\",\n",
    "                   trControl = trControl)\n",
    "lmStepAIC\n",
    "summary(lmStepAIC$finalModel)"
   ]
  },
  {
   "cell_type": "code",
   "execution_count": 25,
   "metadata": {
    "scrolled": true
   },
   "outputs": [
    {
     "data": {
      "text/plain": [
       "Linear Regression with Stepwise Selection \n",
       "\n",
       "76 samples\n",
       "21 predictors\n",
       "\n",
       "No pre-processing\n",
       "Resampling: Cross-Validated (10 fold) \n",
       "Summary of sample sizes: 69, 68, 69, 68, 68, 68, ... \n",
       "Resampling results:\n",
       "\n",
       "  RMSE       Rsquared \n",
       "  0.6644794  0.5038216\n",
       "\n",
       " "
      ]
     },
     "metadata": {},
     "output_type": "display_data"
    },
    {
     "data": {
      "text/plain": [
       "\n",
       "Call:\n",
       "lm(formula = .outcome ~ PP2 + PP3 + PP6 + PP9 + PP10 + PP11 + \n",
       "    PP13 + PP16, data = dat)\n",
       "\n",
       "Residuals:\n",
       "     Min       1Q   Median       3Q      Max \n",
       "-1.75027 -0.27904  0.00902  0.34382  1.33366 \n",
       "\n",
       "Coefficients:\n",
       "            Estimate Std. Error t value Pr(>|t|)    \n",
       "(Intercept)  0.04847    0.06244   0.776 0.440338    \n",
       "PP2         -0.53447    0.08560  -6.244 3.32e-08 ***\n",
       "PP3         -0.51969    0.08865  -5.862 1.54e-07 ***\n",
       "PP6         -0.15320    0.06810  -2.250 0.027758 *  \n",
       "PP9          0.20536    0.07939   2.587 0.011869 *  \n",
       "PP10         0.38081    0.10350   3.679 0.000468 ***\n",
       "PP11        -0.17192    0.07345  -2.341 0.022233 *  \n",
       "PP13        -0.31637    0.09531  -3.320 0.001461 ** \n",
       "PP16         0.29874    0.08059   3.707 0.000428 ***\n",
       "---\n",
       "Signif. codes:  0 '***' 0.001 '**' 0.01 '*' 0.05 '.' 0.1 ' ' 1\n",
       "\n",
       "Residual standard error: 0.5301 on 67 degrees of freedom\n",
       "Multiple R-squared:  0.6831,\tAdjusted R-squared:  0.6453 \n",
       "F-statistic: 18.05 on 8 and 67 DF,  p-value: 4.725e-14\n"
      ]
     },
     "metadata": {},
     "output_type": "display_data"
    }
   ],
   "source": [
    "lmStepBIC <- train(x = X, y = y,\n",
    "                   method = \"lmStepAIC\",trace=F,k=log(nrow(X)),\n",
    "                   #preProcess = \"pca\",\n",
    "                   trControl = trControl)\n",
    "lmStepBIC\n",
    "summary(lmStepBIC$finalModel)"
   ]
  },
  {
   "cell_type": "markdown",
   "metadata": {},
   "source": [
    "### Lasso"
   ]
  },
  {
   "cell_type": "code",
   "execution_count": 27,
   "metadata": {
    "scrolled": true
   },
   "outputs": [
    {
     "data": {
      "text/plain": [
       "The lasso \n",
       "\n",
       "76 samples\n",
       "21 predictors\n",
       "\n",
       "No pre-processing\n",
       "Resampling: Cross-Validated (10 fold) \n",
       "Summary of sample sizes: 69, 68, 69, 68, 68, 68, ... \n",
       "Resampling results across tuning parameters:\n",
       "\n",
       "  fraction   RMSE       Rsquared \n",
       "  0.1000000  0.7444065  0.2897148\n",
       "  0.1888889  0.7015711  0.3654956\n",
       "  0.2777778  0.6642921  0.4534231\n",
       "  0.3666667  0.6387738  0.5002666\n",
       "  0.4555556  0.6216709  0.5250539\n",
       "  0.5444444  0.6117991  0.5474532\n",
       "  0.6333333  0.6166779  0.5512551\n",
       "  0.7222222  0.6290299  0.5454848\n",
       "  0.8111111  0.6396419  0.5437847\n",
       "  0.9000000  0.6501354  0.5384516\n",
       "\n",
       "RMSE was used to select the optimal model using  the smallest value.\n",
       "The final value used for the model was fraction = 0.5444444. "
      ]
     },
     "metadata": {},
     "output_type": "display_data"
    }
   ],
   "source": [
    "lasso <- train(x = X, y = y,\n",
    "               method = \"lasso\",\n",
    "               #preProcess = \"pca\",\n",
    "               tuneLength=10,\n",
    "               trControl = trControl)\n",
    "lasso_knn <- train(x = powder.imputed.knn, y = y,\n",
    "               method = \"lasso\",\n",
    "               #preProcess = \"pca\",\n",
    "               tuneLength=10,\n",
    "               trControl = trControl)\n",
    "lasso_mean <- train(x = powder.imputed.mean, y = y,\n",
    "               method = \"lasso\",\n",
    "               #preProcess = \"pca\",\n",
    "               tuneLength=10,\n",
    "               trControl = trControl)\n",
    "lasso;"
   ]
  },
  {
   "cell_type": "code",
   "execution_count": 28,
   "metadata": {
    "scrolled": true
   },
   "outputs": [
    {
     "data": {
      "text/html": [
       "<dl class=dl-horizontal>\n",
       "\t<dt>PP3</dt>\n",
       "\t\t<dd>-0.397736580325065</dd>\n",
       "\t<dt>PP2</dt>\n",
       "\t\t<dd>-0.378798145707308</dd>\n",
       "\t<dt>PP9</dt>\n",
       "\t\t<dd>0.260120644120159</dd>\n",
       "\t<dt>PP10</dt>\n",
       "\t\t<dd>0.255429316271195</dd>\n",
       "\t<dt>PP13</dt>\n",
       "\t\t<dd>-0.171511292912461</dd>\n",
       "\t<dt>PP16</dt>\n",
       "\t\t<dd>0.157486521244786</dd>\n",
       "\t<dt>PP8</dt>\n",
       "\t\t<dd>-0.121721167699709</dd>\n",
       "\t<dt>PP17</dt>\n",
       "\t\t<dd>0.10771777411442</dd>\n",
       "\t<dt>PP1</dt>\n",
       "\t\t<dd>0.0987385031250944</dd>\n",
       "\t<dt>PP11</dt>\n",
       "\t\t<dd>-0.0945033130739473</dd>\n",
       "\t<dt>PP6</dt>\n",
       "\t\t<dd>-0.084098378776255</dd>\n",
       "\t<dt>PP14</dt>\n",
       "\t\t<dd>-0.0621104551103114</dd>\n",
       "\t<dt>PP21</dt>\n",
       "\t\t<dd>-0.0186086857429102</dd>\n",
       "\t<dt>PP20</dt>\n",
       "\t\t<dd>-0.0125362494433013</dd>\n",
       "\t<dt>PP18</dt>\n",
       "\t\t<dd>0.0110607323299454</dd>\n",
       "\t<dt>PP7</dt>\n",
       "\t\t<dd>0.00136021829568104</dd>\n",
       "\t<dt>PP4</dt>\n",
       "\t\t<dd>0</dd>\n",
       "\t<dt>PP5</dt>\n",
       "\t\t<dd>0</dd>\n",
       "\t<dt>PP12</dt>\n",
       "\t\t<dd>0</dd>\n",
       "\t<dt>PP15</dt>\n",
       "\t\t<dd>0</dd>\n",
       "\t<dt>PP19</dt>\n",
       "\t\t<dd>0</dd>\n",
       "</dl>\n"
      ],
      "text/latex": [
       "\\begin{description*}\n",
       "\\item[PP3] -0.397736580325065\n",
       "\\item[PP2] -0.378798145707308\n",
       "\\item[PP9] 0.260120644120159\n",
       "\\item[PP10] 0.255429316271195\n",
       "\\item[PP13] -0.171511292912461\n",
       "\\item[PP16] 0.157486521244786\n",
       "\\item[PP8] -0.121721167699709\n",
       "\\item[PP17] 0.10771777411442\n",
       "\\item[PP1] 0.0987385031250944\n",
       "\\item[PP11] -0.0945033130739473\n",
       "\\item[PP6] -0.084098378776255\n",
       "\\item[PP14] -0.0621104551103114\n",
       "\\item[PP21] -0.0186086857429102\n",
       "\\item[PP20] -0.0125362494433013\n",
       "\\item[PP18] 0.0110607323299454\n",
       "\\item[PP7] 0.00136021829568104\n",
       "\\item[PP4] 0\n",
       "\\item[PP5] 0\n",
       "\\item[PP12] 0\n",
       "\\item[PP15] 0\n",
       "\\item[PP19] 0\n",
       "\\end{description*}\n"
      ],
      "text/markdown": [
       "PP3\n",
       ":   -0.397736580325065PP2\n",
       ":   -0.378798145707308PP9\n",
       ":   0.260120644120159PP10\n",
       ":   0.255429316271195PP13\n",
       ":   -0.171511292912461PP16\n",
       ":   0.157486521244786PP8\n",
       ":   -0.121721167699709PP17\n",
       ":   0.10771777411442PP1\n",
       ":   0.0987385031250944PP11\n",
       ":   -0.0945033130739473PP6\n",
       ":   -0.084098378776255PP14\n",
       ":   -0.0621104551103114PP21\n",
       ":   -0.0186086857429102PP20\n",
       ":   -0.0125362494433013PP18\n",
       ":   0.0110607323299454PP7\n",
       ":   0.00136021829568104PP4\n",
       ":   0PP5\n",
       ":   0PP12\n",
       ":   0PP15\n",
       ":   0PP19\n",
       ":   0\n",
       "\n"
      ],
      "text/plain": [
       "         PP3          PP2          PP9         PP10         PP13         PP16 \n",
       "-0.397736580 -0.378798146  0.260120644  0.255429316 -0.171511293  0.157486521 \n",
       "         PP8         PP17          PP1         PP11          PP6         PP14 \n",
       "-0.121721168  0.107717774  0.098738503 -0.094503313 -0.084098379 -0.062110455 \n",
       "        PP21         PP20         PP18          PP7          PP4          PP5 \n",
       "-0.018608686 -0.012536249  0.011060732  0.001360218  0.000000000  0.000000000 \n",
       "        PP12         PP15         PP19 \n",
       " 0.000000000  0.000000000  0.000000000 "
      ]
     },
     "metadata": {},
     "output_type": "display_data"
    },
    {
     "data": {
      "text/html": [
       "<dl class=dl-horizontal>\n",
       "\t<dt>PP3</dt>\n",
       "\t\t<dd>-0.397736580325065</dd>\n",
       "\t<dt>PP2</dt>\n",
       "\t\t<dd>-0.378798145707308</dd>\n",
       "\t<dt>PP9</dt>\n",
       "\t\t<dd>0.260120644120159</dd>\n",
       "\t<dt>PP10</dt>\n",
       "\t\t<dd>0.255429316271195</dd>\n",
       "\t<dt>PP13</dt>\n",
       "\t\t<dd>-0.171511292912461</dd>\n",
       "\t<dt>PP16</dt>\n",
       "\t\t<dd>0.157486521244786</dd>\n",
       "</dl>\n"
      ],
      "text/latex": [
       "\\begin{description*}\n",
       "\\item[PP3] -0.397736580325065\n",
       "\\item[PP2] -0.378798145707308\n",
       "\\item[PP9] 0.260120644120159\n",
       "\\item[PP10] 0.255429316271195\n",
       "\\item[PP13] -0.171511292912461\n",
       "\\item[PP16] 0.157486521244786\n",
       "\\end{description*}\n"
      ],
      "text/markdown": [
       "PP3\n",
       ":   -0.397736580325065PP2\n",
       ":   -0.378798145707308PP9\n",
       ":   0.260120644120159PP10\n",
       ":   0.255429316271195PP13\n",
       ":   -0.171511292912461PP16\n",
       ":   0.157486521244786\n",
       "\n"
      ],
      "text/plain": [
       "       PP3        PP2        PP9       PP10       PP13       PP16 \n",
       "-0.3977366 -0.3787981  0.2601206  0.2554293 -0.1715113  0.1574865 "
      ]
     },
     "metadata": {},
     "output_type": "display_data"
    },
    {
     "data": {
      "image/png": "[encoded data removed]",
      "text/plain": [
       "plot without title"
      ]
     },
     "metadata": {},
     "output_type": "display_data"
    }
   ],
   "source": [
    "plot(lasso$finalModel,use.color =T)\n",
    "lasso.finalCoef<-predict(lasso$finalModel,type=\"coefficients\",mode=\"fraction\",s=lasso$bestTune$fraction)$coef\n",
    "lasso.finalCoef[order(abs(lasso.finalCoef),decreasing = T)]\n",
    "head(lasso.finalCoef[order(abs(lasso.finalCoef),decreasing = T)])"
   ]
  },
  {
   "cell_type": "code",
   "execution_count": 29,
   "metadata": {
    "scrolled": true
   },
   "outputs": [
    {
     "data": {
      "image/png": "[encoded data removed]",
      "text/plain": [
       "plot without title"
      ]
     },
     "metadata": {},
     "output_type": "display_data"
    },
    {
     "data": {
      "text/html": [
       "0.494605618715757"
      ],
      "text/latex": [
       "0.494605618715757"
      ],
      "text/markdown": [
       "0.494605618715757"
      ],
      "text/plain": [
       "[1] 0.4946056"
      ]
     },
     "metadata": {},
     "output_type": "display_data"
    },
    {
     "data": {
      "image/png": "[encoded data removed]",
      "text/plain": [
       "plot without title"
      ]
     },
     "metadata": {},
     "output_type": "display_data"
    }
   ],
   "source": [
    "lasso.fitted<-predict(lasso$finalModel,newx=X, mode=\"fraction\",s=lasso$bestTune$fraction)$fit\n",
    "plot(lasso.fitted,y)\n",
    "abline(a = 0, b = 1)\n",
    "plot(lasso.fitted,y-lasso.fitted) # 残差依然和y高度相关\n",
    "sqrt(mean((y-lasso.fitted)^2))"
   ]
  },
  {
   "cell_type": "markdown",
   "metadata": {},
   "source": [
    "### Elastic Net"
   ]
  },
  {
   "cell_type": "code",
   "execution_count": 30,
   "metadata": {},
   "outputs": [],
   "source": [
    "enet <- train(x = X, y = y,\n",
    "             method = \"enet\",\n",
    "             #preProcess = \"pca\",\n",
    "             tuneLength=20,\n",
    "             trControl = trControl)\n",
    "enet_knn <- train(x = powder.imputed.knn,y=y,\n",
    "             #preProcess=\"pca\",\n",
    "             method = \"enet\",\n",
    "                  tuneLength=20,\n",
    "             trControl = trControl)\n",
    "enet_mean <- train(x = powder.imputed.mean,y=y,\n",
    "             #preProcess=\"pca\",\n",
    "             method = \"enet\",\n",
    "                   tuneLength=20,\n",
    "             trControl = trControl)\n",
    "#enet;enet_knn;enet_mean"
   ]
  },
  {
   "cell_type": "code",
   "execution_count": 31,
   "metadata": {
    "scrolled": true
   },
   "outputs": [
    {
     "data": {
      "text/html": [
       "<dl class=dl-horizontal>\n",
       "\t<dt>PP3</dt>\n",
       "\t\t<dd>-0.401111380599023</dd>\n",
       "\t<dt>PP2</dt>\n",
       "\t\t<dd>-0.382145081050017</dd>\n",
       "\t<dt>PP9</dt>\n",
       "\t\t<dd>0.261340180184696</dd>\n",
       "\t<dt>PP10</dt>\n",
       "\t\t<dd>0.259469745309819</dd>\n",
       "\t<dt>PP13</dt>\n",
       "\t\t<dd>-0.174675280594219</dd>\n",
       "\t<dt>PP16</dt>\n",
       "\t\t<dd>0.159011882255772</dd>\n",
       "\t<dt>PP8</dt>\n",
       "\t\t<dd>-0.121963591364628</dd>\n",
       "\t<dt>PP17</dt>\n",
       "\t\t<dd>0.107326232653867</dd>\n",
       "\t<dt>PP1</dt>\n",
       "\t\t<dd>0.0975200424889338</dd>\n",
       "\t<dt>PP11</dt>\n",
       "\t\t<dd>-0.0958769161894652</dd>\n",
       "\t<dt>PP6</dt>\n",
       "\t\t<dd>-0.0849132955675386</dd>\n",
       "\t<dt>PP14</dt>\n",
       "\t\t<dd>-0.0627631795243902</dd>\n",
       "\t<dt>PP21</dt>\n",
       "\t\t<dd>-0.0185568149294264</dd>\n",
       "\t<dt>PP20</dt>\n",
       "\t\t<dd>-0.0149870524223361</dd>\n",
       "\t<dt>PP18</dt>\n",
       "\t\t<dd>0.0108617017733214</dd>\n",
       "\t<dt>PP7</dt>\n",
       "\t\t<dd>0.00372515376871208</dd>\n",
       "\t<dt>PP4</dt>\n",
       "\t\t<dd>0</dd>\n",
       "\t<dt>PP5</dt>\n",
       "\t\t<dd>0</dd>\n",
       "\t<dt>PP12</dt>\n",
       "\t\t<dd>0</dd>\n",
       "\t<dt>PP15</dt>\n",
       "\t\t<dd>0</dd>\n",
       "\t<dt>PP19</dt>\n",
       "\t\t<dd>0</dd>\n",
       "</dl>\n"
      ],
      "text/latex": [
       "\\begin{description*}\n",
       "\\item[PP3] -0.401111380599023\n",
       "\\item[PP2] -0.382145081050017\n",
       "\\item[PP9] 0.261340180184696\n",
       "\\item[PP10] 0.259469745309819\n",
       "\\item[PP13] -0.174675280594219\n",
       "\\item[PP16] 0.159011882255772\n",
       "\\item[PP8] -0.121963591364628\n",
       "\\item[PP17] 0.107326232653867\n",
       "\\item[PP1] 0.0975200424889338\n",
       "\\item[PP11] -0.0958769161894652\n",
       "\\item[PP6] -0.0849132955675386\n",
       "\\item[PP14] -0.0627631795243902\n",
       "\\item[PP21] -0.0185568149294264\n",
       "\\item[PP20] -0.0149870524223361\n",
       "\\item[PP18] 0.0108617017733214\n",
       "\\item[PP7] 0.00372515376871208\n",
       "\\item[PP4] 0\n",
       "\\item[PP5] 0\n",
       "\\item[PP12] 0\n",
       "\\item[PP15] 0\n",
       "\\item[PP19] 0\n",
       "\\end{description*}\n"
      ],
      "text/markdown": [
       "PP3\n",
       ":   -0.401111380599023PP2\n",
       ":   -0.382145081050017PP9\n",
       ":   0.261340180184696PP10\n",
       ":   0.259469745309819PP13\n",
       ":   -0.174675280594219PP16\n",
       ":   0.159011882255772PP8\n",
       ":   -0.121963591364628PP17\n",
       ":   0.107326232653867PP1\n",
       ":   0.0975200424889338PP11\n",
       ":   -0.0958769161894652PP6\n",
       ":   -0.0849132955675386PP14\n",
       ":   -0.0627631795243902PP21\n",
       ":   -0.0185568149294264PP20\n",
       ":   -0.0149870524223361PP18\n",
       ":   0.0108617017733214PP7\n",
       ":   0.00372515376871208PP4\n",
       ":   0PP5\n",
       ":   0PP12\n",
       ":   0PP15\n",
       ":   0PP19\n",
       ":   0\n",
       "\n"
      ],
      "text/plain": [
       "         PP3          PP2          PP9         PP10         PP13         PP16 \n",
       "-0.401111381 -0.382145081  0.261340180  0.259469745 -0.174675281  0.159011882 \n",
       "         PP8         PP17          PP1         PP11          PP6         PP14 \n",
       "-0.121963591  0.107326233  0.097520042 -0.095876916 -0.084913296 -0.062763180 \n",
       "        PP21         PP20         PP18          PP7          PP4          PP5 \n",
       "-0.018556815 -0.014987052  0.010861702  0.003725154  0.000000000  0.000000000 \n",
       "        PP12         PP15         PP19 \n",
       " 0.000000000  0.000000000  0.000000000 "
      ]
     },
     "metadata": {},
     "output_type": "display_data"
    },
    {
     "data": {
      "text/html": [
       "<dl class=dl-horizontal>\n",
       "\t<dt>PP3</dt>\n",
       "\t\t<dd>-0.401111380599023</dd>\n",
       "\t<dt>PP2</dt>\n",
       "\t\t<dd>-0.382145081050017</dd>\n",
       "\t<dt>PP9</dt>\n",
       "\t\t<dd>0.261340180184696</dd>\n",
       "\t<dt>PP10</dt>\n",
       "\t\t<dd>0.259469745309819</dd>\n",
       "\t<dt>PP13</dt>\n",
       "\t\t<dd>-0.174675280594219</dd>\n",
       "\t<dt>PP16</dt>\n",
       "\t\t<dd>0.159011882255772</dd>\n",
       "</dl>\n"
      ],
      "text/latex": [
       "\\begin{description*}\n",
       "\\item[PP3] -0.401111380599023\n",
       "\\item[PP2] -0.382145081050017\n",
       "\\item[PP9] 0.261340180184696\n",
       "\\item[PP10] 0.259469745309819\n",
       "\\item[PP13] -0.174675280594219\n",
       "\\item[PP16] 0.159011882255772\n",
       "\\end{description*}\n"
      ],
      "text/markdown": [
       "PP3\n",
       ":   -0.401111380599023PP2\n",
       ":   -0.382145081050017PP9\n",
       ":   0.261340180184696PP10\n",
       ":   0.259469745309819PP13\n",
       ":   -0.174675280594219PP16\n",
       ":   0.159011882255772\n",
       "\n"
      ],
      "text/plain": [
       "       PP3        PP2        PP9       PP10       PP13       PP16 \n",
       "-0.4011114 -0.3821451  0.2613402  0.2594697 -0.1746753  0.1590119 "
      ]
     },
     "metadata": {},
     "output_type": "display_data"
    },
    {
     "data": {
      "image/png": "[encoded data removed]",
      "text/plain": [
       "plot without title"
      ]
     },
     "metadata": {},
     "output_type": "display_data"
    }
   ],
   "source": [
    "plot(enet$finalModel,use.color =T)\n",
    "enet.finalCoef<-predict(enet$finalModel,type=\"coefficients\",mode=\"fraction\",s=enet$bestTune$fraction)$coef\n",
    "enet.finalCoef[order(abs(enet.finalCoef),decreasing = T)]\n",
    "head(enet.finalCoef[order(abs(enet.finalCoef),decreasing = T)])"
   ]
  },
  {
   "cell_type": "markdown",
   "metadata": {},
   "source": [
    "通过lasso乃至elastic net等方法的变量选择特点，我们看到了自变量中哪些是重要的，哪些不是。由于所有自变量都是归一化的，这大致可以作为重要性的排序。"
   ]
  },
  {
   "cell_type": "markdown",
   "metadata": {},
   "source": [
    "### Partial Least Square"
   ]
  },
  {
   "cell_type": "code",
   "execution_count": 33,
   "metadata": {},
   "outputs": [
    {
     "data": {
      "text/plain": [
       "Partial Least Squares \n",
       "\n",
       "76 samples\n",
       "21 predictors\n",
       "\n",
       "No pre-processing\n",
       "Resampling: Cross-Validated (10 fold) \n",
       "Summary of sample sizes: 69, 68, 69, 68, 68, 68, ... \n",
       "Resampling results across tuning parameters:\n",
       "\n",
       "  ncomp  RMSE       Rsquared \n",
       "   1     0.7363147  0.3715763\n",
       "   2     0.6666783  0.4866863\n",
       "   3     0.6169916  0.5359418\n",
       "   4     0.6247479  0.5431368\n",
       "   5     0.6268527  0.5665616\n",
       "   6     0.6304428  0.5699974\n",
       "   7     0.6390508  0.5588724\n",
       "   8     0.6447784  0.5496344\n",
       "   9     0.6436157  0.5488394\n",
       "  10     0.6484118  0.5382332\n",
       "\n",
       "RMSE was used to select the optimal model using  the smallest value.\n",
       "The final value used for the model was ncomp = 3. "
      ]
     },
     "metadata": {},
     "output_type": "display_data"
    }
   ],
   "source": [
    "pls <- train(x = X, y = y,\n",
    "             method = \"pls\",\n",
    "             tuneLength=10,\n",
    "             trControl = trControl)\n",
    "pls"
   ]
  },
  {
   "cell_type": "code",
   "execution_count": 34,
   "metadata": {},
   "outputs": [
    {
     "data": {
      "text/html": [
       "<dl class=dl-horizontal>\n",
       "\t<dt>Comp 1</dt>\n",
       "\t\t<dd>31.5576018453549</dd>\n",
       "\t<dt>Comp 2</dt>\n",
       "\t\t<dd>11.8273390845132</dd>\n",
       "\t<dt>Comp 3</dt>\n",
       "\t\t<dd>8.96483205186216</dd>\n",
       "</dl>\n"
      ],
      "text/latex": [
       "\\begin{description*}\n",
       "\\item[Comp 1] 31.5576018453549\n",
       "\\item[Comp 2] 11.8273390845132\n",
       "\\item[Comp 3] 8.96483205186216\n",
       "\\end{description*}\n"
      ],
      "text/markdown": [
       "Comp 1\n",
       ":   31.5576018453549Comp 2\n",
       ":   11.8273390845132Comp 3\n",
       ":   8.96483205186216\n",
       "\n"
      ],
      "text/plain": [
       "   Comp 1    Comp 2    Comp 3 \n",
       "31.557602 11.827339  8.964832 "
      ]
     },
     "metadata": {},
     "output_type": "display_data"
    },
    {
     "data": {
      "image/png": "[encoded data removed]",
      "text/plain": [
       "Plot with title \"X scores and X loadings\""
      ]
     },
     "metadata": {},
     "output_type": "display_data"
    },
    {
     "data": {
      "image/png": "[encoded data removed]",
      "text/plain": [
       "Plot with title \"X scores and Y scores\""
      ]
     },
     "metadata": {},
     "output_type": "display_data"
    },
    {
     "data": {
      "image/png": "[encoded data removed]",
      "text/plain": [
       "plot without title"
      ]
     },
     "metadata": {},
     "output_type": "display_data"
    }
   ],
   "source": [
    "explvar(pls$finalModel)\n",
    "biplot(pls$finalModel,which=\"x\")\n",
    "biplot(pls$finalModel,which=\"scores\")\n",
    "plot(pls$finalModel,plottype=\"correlation\")"
   ]
  },
  {
   "cell_type": "code",
   "execution_count": 35,
   "metadata": {
    "scrolled": true
   },
   "outputs": [
    {
     "data": {
      "image/png": "[encoded data removed]",
      "text/plain": [
       "plot without title"
      ]
     },
     "metadata": {},
     "output_type": "display_data"
    },
    {
     "data": {
      "text/html": [
       "0.526525718214325"
      ],
      "text/latex": [
       "0.526525718214325"
      ],
      "text/markdown": [
       "0.526525718214325"
      ],
      "text/plain": [
       "[1] 0.5265257"
      ]
     },
     "metadata": {},
     "output_type": "display_data"
    },
    {
     "data": {
      "text/html": [
       "0.803357749109608"
      ],
      "text/latex": [
       "0.803357749109608"
      ],
      "text/markdown": [
       "0.803357749109608"
      ],
      "text/plain": [
       "[1] 0.8033577"
      ]
     },
     "metadata": {},
     "output_type": "display_data"
    },
    {
     "data": {
      "image/png": "[encoded data removed]",
      "text/plain": [
       "plot without title"
      ]
     },
     "metadata": {},
     "output_type": "display_data"
    }
   ],
   "source": [
    "pls.fitted<-predict(pls$finalModel,ncomp=pls$finalModel$ncomp)\n",
    "plot(pls.fitted,y)\n",
    "abline(a = 0, b = 1)\n",
    "plot(pls.fitted,y-pls.fitted)\n",
    "sqrt(mean((y-pls.fitted)^2))\n",
    "cor(pls.fitted,y)"
   ]
  },
  {
   "cell_type": "markdown",
   "metadata": {},
   "source": [
    "### SVM with Linear Kernel"
   ]
  },
  {
   "cell_type": "code",
   "execution_count": 37,
   "metadata": {},
   "outputs": [
    {
     "data": {
      "text/plain": [
       "Support Vector Machines with Linear Kernel \n",
       "\n",
       "76 samples\n",
       "21 predictors\n",
       "\n",
       "No pre-processing\n",
       "Resampling: Cross-Validated (10 fold) \n",
       "Summary of sample sizes: 69, 68, 69, 68, 68, 68, ... \n",
       "Resampling results across tuning parameters:\n",
       "\n",
       "  C     RMSE       Rsquared \n",
       "  0.01  0.6393900  0.5485496\n",
       "  0.02  0.6343082  0.5403752\n",
       "  0.03  0.6425667  0.5345902\n",
       "  0.04  0.6349063  0.5535948\n",
       "  0.05  0.6344177  0.5557623\n",
       "  0.06  0.6358040  0.5553976\n",
       "  0.07  0.6392375  0.5572223\n",
       "  0.08  0.6409081  0.5564324\n",
       "  0.09  0.6412407  0.5561485\n",
       "  0.10  0.6434297  0.5528126\n",
       "\n",
       "RMSE was used to select the optimal model using  the smallest value.\n",
       "The final value used for the model was C = 0.02. "
      ]
     },
     "metadata": {},
     "output_type": "display_data"
    }
   ],
   "source": [
    "svmLinear <- train(x = X, y = y,\n",
    "                   method = \"svmLinear\",\n",
    "                   #preProcess = \"pca\",\n",
    "                   trControl = trControl,\n",
    "                  tuneGrid=data.frame(C=seq(0.01,0.1,0.01)))\n",
    "svmLinear"
   ]
  },
  {
   "cell_type": "markdown",
   "metadata": {},
   "source": [
    "### SVM with Radial Kernel"
   ]
  },
  {
   "cell_type": "code",
   "execution_count": 39,
   "metadata": {},
   "outputs": [
    {
     "data": {
      "text/plain": [
       "Support Vector Machines with Radial Basis Function Kernel \n",
       "\n",
       "76 samples\n",
       "21 predictors\n",
       "\n",
       "No pre-processing\n",
       "Resampling: Cross-Validated (10 fold) \n",
       "Summary of sample sizes: 69, 68, 69, 68, 68, 68, ... \n",
       "Resampling results across tuning parameters:\n",
       "\n",
       "  C       RMSE       Rsquared \n",
       "    0.25  0.7356658  0.5128335\n",
       "    0.50  0.6786831  0.5385720\n",
       "    1.00  0.6231023  0.5792859\n",
       "    2.00  0.6087199  0.5751504\n",
       "    4.00  0.6140620  0.5463536\n",
       "    8.00  0.6263417  0.4956231\n",
       "   16.00  0.6249902  0.4957795\n",
       "   32.00  0.6249902  0.4957795\n",
       "   64.00  0.6249902  0.4957795\n",
       "  128.00  0.6249902  0.4957795\n",
       "\n",
       "Tuning parameter 'sigma' was held constant at a value of 0.03078952\n",
       "RMSE was used to select the optimal model using  the smallest value.\n",
       "The final values used for the model were sigma = 0.03078952 and C = 2. "
      ]
     },
     "metadata": {},
     "output_type": "display_data"
    }
   ],
   "source": [
    "set.seed(1)\n",
    "svmRadial <- train(x = X, y = y,\n",
    "                   method = \"svmRadial\",\n",
    "                   #preProcess = \"pca\",\n",
    "                   tuneLength = 10,\n",
    "                   trControl = trControl)\n",
    "svmRadial_knn <- train(x = powder.imputed.knn, y = y,\n",
    "                   method = \"svmRadial\",\n",
    "                   #preProcess = \"pca\",\n",
    "                   tuneLength = 10,\n",
    "                   trControl = trControl)\n",
    "svmRadial_mean <- train(x = powder.imputed.mean, y = y,\n",
    "                   method = \"svmRadial\",\n",
    "                   #preProcess = \"pca\",\n",
    "                   tuneLength = 10,\n",
    "                   trControl = trControl)\n",
    "svmRadial\n",
    "#svmRadial_knn\n",
    "#svmRadial_mean"
   ]
  },
  {
   "cell_type": "code",
   "execution_count": 40,
   "metadata": {},
   "outputs": [
    {
     "data": {
      "text/plain": [
       "Support Vector Machine object of class \"ksvm\" \n",
       "\n",
       "SV type: eps-svr  (regression) \n",
       " parameter : epsilon = 0.1  cost C = 2 \n",
       "\n",
       "Gaussian Radial Basis kernel function. \n",
       " Hyperparameter : sigma =  0.0307895168950236 \n",
       "\n",
       "Number of Support Vectors : 70 \n",
       "\n",
       "Objective Function Value : -39.9296 \n",
       "Training error : 0.136575 "
      ]
     },
     "metadata": {},
     "output_type": "display_data"
    },
    {
     "data": {
      "text/html": [
       "<table>\n",
       "<thead><tr><th scope=col>RMSE</th><th scope=col>Rsquared</th><th scope=col>Resample</th></tr></thead>\n",
       "<tbody>\n",
       "\t<tr><td>0.6261961</td><td>0.4181973</td><td>Fold03   </td></tr>\n",
       "\t<tr><td>0.3618959</td><td>0.8773446</td><td>Fold02   </td></tr>\n",
       "\t<tr><td>0.5654572</td><td>0.4066675</td><td>Fold06   </td></tr>\n",
       "\t<tr><td>0.5819365</td><td>0.4027495</td><td>Fold07   </td></tr>\n",
       "\t<tr><td>0.4926020</td><td>0.6360614</td><td>Fold01   </td></tr>\n",
       "\t<tr><td>0.7029894</td><td>0.6634662</td><td>Fold05   </td></tr>\n",
       "\t<tr><td>0.5444340</td><td>0.7929325</td><td>Fold09   </td></tr>\n",
       "\t<tr><td>0.6320659</td><td>0.4246423</td><td>Fold10   </td></tr>\n",
       "\t<tr><td>0.9384870</td><td>0.2531872</td><td>Fold04   </td></tr>\n",
       "\t<tr><td>0.6411350</td><td>0.8762554</td><td>Fold08   </td></tr>\n",
       "</tbody>\n",
       "</table>\n"
      ],
      "text/latex": [
       "\\begin{tabular}{r|lll}\n",
       " RMSE & Rsquared & Resample\\\\\n",
       "\\hline\n",
       "\t 0.6261961 & 0.4181973 & Fold03   \\\\\n",
       "\t 0.3618959 & 0.8773446 & Fold02   \\\\\n",
       "\t 0.5654572 & 0.4066675 & Fold06   \\\\\n",
       "\t 0.5819365 & 0.4027495 & Fold07   \\\\\n",
       "\t 0.4926020 & 0.6360614 & Fold01   \\\\\n",
       "\t 0.7029894 & 0.6634662 & Fold05   \\\\\n",
       "\t 0.5444340 & 0.7929325 & Fold09   \\\\\n",
       "\t 0.6320659 & 0.4246423 & Fold10   \\\\\n",
       "\t 0.9384870 & 0.2531872 & Fold04   \\\\\n",
       "\t 0.6411350 & 0.8762554 & Fold08   \\\\\n",
       "\\end{tabular}\n"
      ],
      "text/plain": [
       "   RMSE      Rsquared  Resample\n",
       "1  0.6261961 0.4181973 Fold03  \n",
       "2  0.3618959 0.8773446 Fold02  \n",
       "3  0.5654572 0.4066675 Fold06  \n",
       "4  0.5819365 0.4027495 Fold07  \n",
       "5  0.4926020 0.6360614 Fold01  \n",
       "6  0.7029894 0.6634662 Fold05  \n",
       "7  0.5444340 0.7929325 Fold09  \n",
       "8  0.6320659 0.4246423 Fold10  \n",
       "9  0.9384870 0.2531872 Fold04  \n",
       "10 0.6411350 0.8762554 Fold08  "
      ]
     },
     "metadata": {},
     "output_type": "display_data"
    }
   ],
   "source": [
    "svmRadial$finalModel\n",
    "svmRadial$resample"
   ]
  },
  {
   "cell_type": "markdown",
   "metadata": {},
   "source": [
    "## Comparing Models According to 10-fold CV\n",
    "\n",
    "反映模型评价能力的准则：10-fold CV MSE（或RMSE），认为该值越低的模型预测能力越强。"
   ]
  },
  {
   "cell_type": "code",
   "execution_count": 41,
   "metadata": {},
   "outputs": [
    {
     "data": {
      "text/html": [
       "<table>\n",
       "<thead><tr><th></th><th scope=col>Min.</th><th scope=col>1st Qu.</th><th scope=col>Median</th><th scope=col>Mean</th><th scope=col>3rd Qu.</th><th scope=col>Max.</th><th scope=col>NA's</th></tr></thead>\n",
       "<tbody>\n",
       "\t<tr><th scope=row>OLS</th><td>0.4245</td><td>0.5606</td><td>0.6383</td><td>0.6578</td><td>0.7554</td><td>1.0080</td><td>0     </td></tr>\n",
       "\t<tr><th scope=row>OLS_mean</th><td>0.4801</td><td>0.5416</td><td>0.6432</td><td>0.6931</td><td>0.8325</td><td>1.0360</td><td>0     </td></tr>\n",
       "\t<tr><th scope=row>OLS_knn</th><td>0.4973</td><td>0.5362</td><td>0.6238</td><td>0.6777</td><td>0.7807</td><td>1.0040</td><td>0     </td></tr>\n",
       "\t<tr><th scope=row>OLS.restricted</th><td>0.3115</td><td>0.4192</td><td>0.5976</td><td>0.5867</td><td>0.7260</td><td>0.9356</td><td>0     </td></tr>\n",
       "\t<tr><th scope=row>lmStepAIC</th><td>0.3949</td><td>0.5870</td><td>0.6264</td><td>0.6476</td><td>0.6745</td><td>1.0080</td><td>0     </td></tr>\n",
       "\t<tr><th scope=row>lmStepBIC</th><td>0.3870</td><td>0.6013</td><td>0.7014</td><td>0.6645</td><td>0.7308</td><td>1.0240</td><td>0     </td></tr>\n",
       "\t<tr><th scope=row>svmLinear</th><td>0.3933</td><td>0.5001</td><td>0.6226</td><td>0.6343</td><td>0.7592</td><td>0.9078</td><td>0     </td></tr>\n",
       "\t<tr><th scope=row>svmRadial</th><td>0.3619</td><td>0.5497</td><td>0.6041</td><td>0.6087</td><td>0.6389</td><td>0.9385</td><td>0     </td></tr>\n",
       "\t<tr><th scope=row>svmRadial_mean</th><td>0.3616</td><td>0.5962</td><td>0.6203</td><td>0.6398</td><td>0.6694</td><td>1.0000</td><td>0     </td></tr>\n",
       "\t<tr><th scope=row>svmRadial_knn</th><td>0.3651</td><td>0.5194</td><td>0.6299</td><td>0.6199</td><td>0.6700</td><td>0.9584</td><td>0     </td></tr>\n",
       "\t<tr><th scope=row>lasso</th><td>0.3790</td><td>0.5219</td><td>0.6052</td><td>0.6118</td><td>0.6986</td><td>0.9280</td><td>0     </td></tr>\n",
       "\t<tr><th scope=row>pls</th><td>0.3513</td><td>0.5131</td><td>0.5623</td><td>0.6170</td><td>0.7319</td><td>0.9749</td><td>0     </td></tr>\n",
       "\t<tr><th scope=row>enet</th><td>0.3796</td><td>0.5222</td><td>0.6036</td><td>0.6115</td><td>0.6987</td><td>0.9296</td><td>0     </td></tr>\n",
       "\t<tr><th scope=row>enet_mean</th><td>0.3856</td><td>0.4883</td><td>0.6194</td><td>0.6288</td><td>0.7078</td><td>0.9463</td><td>0     </td></tr>\n",
       "\t<tr><th scope=row>enet_knn</th><td>0.3764</td><td>0.5040</td><td>0.6123</td><td>0.6174</td><td>0.6888</td><td>0.9118</td><td>0     </td></tr>\n",
       "</tbody>\n",
       "</table>\n"
      ],
      "text/latex": [
       "\\begin{tabular}{r|lllllll}\n",
       "  & Min. & 1st Qu. & Median & Mean & 3rd Qu. & Max. & NA's\\\\\n",
       "\\hline\n",
       "\tOLS & 0.4245 & 0.5606 & 0.6383 & 0.6578 & 0.7554 & 1.0080 & 0     \\\\\n",
       "\tOLS\\_mean & 0.4801 & 0.5416 & 0.6432 & 0.6931 & 0.8325 & 1.0360 & 0     \\\\\n",
       "\tOLS\\_knn & 0.4973 & 0.5362 & 0.6238 & 0.6777 & 0.7807 & 1.0040 & 0     \\\\\n",
       "\tOLS.restricted & 0.3115 & 0.4192 & 0.5976 & 0.5867 & 0.7260 & 0.9356 & 0     \\\\\n",
       "\tlmStepAIC & 0.3949 & 0.5870 & 0.6264 & 0.6476 & 0.6745 & 1.0080 & 0     \\\\\n",
       "\tlmStepBIC & 0.3870 & 0.6013 & 0.7014 & 0.6645 & 0.7308 & 1.0240 & 0     \\\\\n",
       "\tsvmLinear & 0.3933 & 0.5001 & 0.6226 & 0.6343 & 0.7592 & 0.9078 & 0     \\\\\n",
       "\tsvmRadial & 0.3619 & 0.5497 & 0.6041 & 0.6087 & 0.6389 & 0.9385 & 0     \\\\\n",
       "\tsvmRadial\\_mean & 0.3616 & 0.5962 & 0.6203 & 0.6398 & 0.6694 & 1.0000 & 0     \\\\\n",
       "\tsvmRadial\\_knn & 0.3651 & 0.5194 & 0.6299 & 0.6199 & 0.6700 & 0.9584 & 0     \\\\\n",
       "\tlasso & 0.3790 & 0.5219 & 0.6052 & 0.6118 & 0.6986 & 0.9280 & 0     \\\\\n",
       "\tpls & 0.3513 & 0.5131 & 0.5623 & 0.6170 & 0.7319 & 0.9749 & 0     \\\\\n",
       "\tenet & 0.3796 & 0.5222 & 0.6036 & 0.6115 & 0.6987 & 0.9296 & 0     \\\\\n",
       "\tenet\\_mean & 0.3856 & 0.4883 & 0.6194 & 0.6288 & 0.7078 & 0.9463 & 0     \\\\\n",
       "\tenet\\_knn & 0.3764 & 0.5040 & 0.6123 & 0.6174 & 0.6888 & 0.9118 & 0     \\\\\n",
       "\\end{tabular}\n"
      ],
      "text/markdown": [
       "1. 0.4245\n",
       "2. 0.4801\n",
       "3. 0.4973\n",
       "4. 0.3115\n",
       "5. 0.3949\n",
       "6. 0.387\n",
       "7. 0.3933\n",
       "8. 0.3619\n",
       "9. 0.3616\n",
       "10. 0.3651\n",
       "11. 0.379\n",
       "12. 0.3513\n",
       "13. 0.3796\n",
       "14. 0.3856\n",
       "15. 0.3764\n",
       "16. 0.5606\n",
       "17. 0.5416\n",
       "18. 0.5362\n",
       "19. 0.4192\n",
       "20. 0.587\n",
       "21. 0.6013\n",
       "22. 0.5001\n",
       "23. 0.5497\n",
       "24. 0.5962\n",
       "25. 0.5194\n",
       "26. 0.5219\n",
       "27. 0.5131\n",
       "28. 0.5222\n",
       "29. 0.4883\n",
       "30. 0.504\n",
       "31. 0.6383\n",
       "32. 0.6432\n",
       "33. 0.6238\n",
       "34. 0.5976\n",
       "35. 0.6264\n",
       "36. 0.7014\n",
       "37. 0.6226\n",
       "38. 0.6041\n",
       "39. 0.6203\n",
       "40. 0.6299\n",
       "41. 0.6052\n",
       "42. 0.5623\n",
       "43. 0.6036\n",
       "44. 0.6194\n",
       "45. 0.6123\n",
       "46. 0.6578\n",
       "47. 0.6931\n",
       "48. 0.6777\n",
       "49. 0.5867\n",
       "50. 0.6476\n",
       "51. 0.6645\n",
       "52. 0.6343\n",
       "53. 0.6087\n",
       "54. 0.6398\n",
       "55. 0.6199\n",
       "56. 0.6118\n",
       "57. 0.617\n",
       "58. 0.6115\n",
       "59. 0.6288\n",
       "60. 0.6174\n",
       "61. 0.7554\n",
       "62. 0.8325\n",
       "63. 0.7807\n",
       "64. 0.726\n",
       "65. 0.6745\n",
       "66. 0.7308\n",
       "67. 0.7592\n",
       "68. 0.6389\n",
       "69. 0.6694\n",
       "70. 0.67\n",
       "71. 0.6986\n",
       "72. 0.7319\n",
       "73. 0.6987\n",
       "74. 0.7078\n",
       "75. 0.6888\n",
       "76. 1.008\n",
       "77. 1.036\n",
       "78. 1.004\n",
       "79. 0.9356\n",
       "80. 1.008\n",
       "81. 1.024\n",
       "82. 0.9078\n",
       "83. 0.9385\n",
       "84. 1\n",
       "85. 0.9584\n",
       "86. 0.928\n",
       "87. 0.9749\n",
       "88. 0.9296\n",
       "89. 0.9463\n",
       "90. 0.9118\n",
       "91. 0\n",
       "92. 0\n",
       "93. 0\n",
       "94. 0\n",
       "95. 0\n",
       "96. 0\n",
       "97. 0\n",
       "98. 0\n",
       "99. 0\n",
       "100. 0\n",
       "101. 0\n",
       "102. 0\n",
       "103. 0\n",
       "104. 0\n",
       "105. 0\n",
       "\n",
       "\n"
      ],
      "text/plain": [
       "               Min.   1st Qu. Median Mean   3rd Qu. Max.   NA's\n",
       "OLS            0.4245 0.5606  0.6383 0.6578 0.7554  1.0080 0   \n",
       "OLS_mean       0.4801 0.5416  0.6432 0.6931 0.8325  1.0360 0   \n",
       "OLS_knn        0.4973 0.5362  0.6238 0.6777 0.7807  1.0040 0   \n",
       "OLS.restricted 0.3115 0.4192  0.5976 0.5867 0.7260  0.9356 0   \n",
       "lmStepAIC      0.3949 0.5870  0.6264 0.6476 0.6745  1.0080 0   \n",
       "lmStepBIC      0.3870 0.6013  0.7014 0.6645 0.7308  1.0240 0   \n",
       "svmLinear      0.3933 0.5001  0.6226 0.6343 0.7592  0.9078 0   \n",
       "svmRadial      0.3619 0.5497  0.6041 0.6087 0.6389  0.9385 0   \n",
       "svmRadial_mean 0.3616 0.5962  0.6203 0.6398 0.6694  1.0000 0   \n",
       "svmRadial_knn  0.3651 0.5194  0.6299 0.6199 0.6700  0.9584 0   \n",
       "lasso          0.3790 0.5219  0.6052 0.6118 0.6986  0.9280 0   \n",
       "pls            0.3513 0.5131  0.5623 0.6170 0.7319  0.9749 0   \n",
       "enet           0.3796 0.5222  0.6036 0.6115 0.6987  0.9296 0   \n",
       "enet_mean      0.3856 0.4883  0.6194 0.6288 0.7078  0.9463 0   \n",
       "enet_knn       0.3764 0.5040  0.6123 0.6174 0.6888  0.9118 0   "
      ]
     },
     "metadata": {},
     "output_type": "display_data"
    },
    {
     "data": {
      "text/html": [
       "<table>\n",
       "<thead><tr><th></th><th scope=col>Min.</th><th scope=col>1st Qu.</th><th scope=col>Median</th><th scope=col>Mean</th><th scope=col>3rd Qu.</th><th scope=col>Max.</th><th scope=col>NA's</th></tr></thead>\n",
       "<tbody>\n",
       "\t<tr><th scope=row>OLS</th><td>0.2299</td><td>0.3752</td><td>0.5851</td><td>0.5342</td><td>0.6553</td><td>0.7722</td><td>0     </td></tr>\n",
       "\t<tr><th scope=row>OLS_mean</th><td>0.1882</td><td>0.3287</td><td>0.4705</td><td>0.4669</td><td>0.6050</td><td>0.7436</td><td>0     </td></tr>\n",
       "\t<tr><th scope=row>OLS_knn</th><td>0.2257</td><td>0.3771</td><td>0.5078</td><td>0.4894</td><td>0.6186</td><td>0.7493</td><td>0     </td></tr>\n",
       "\t<tr><th scope=row>OLS.restricted</th><td>0.2300</td><td>0.4518</td><td>0.5725</td><td>0.5770</td><td>0.7548</td><td>0.9174</td><td>0     </td></tr>\n",
       "\t<tr><th scope=row>lmStepAIC</th><td>0.1960</td><td>0.3366</td><td>0.5907</td><td>0.5115</td><td>0.6199</td><td>0.8051</td><td>0     </td></tr>\n",
       "\t<tr><th scope=row>lmStepBIC</th><td>0.1768</td><td>0.3259</td><td>0.5359</td><td>0.5038</td><td>0.6054</td><td>0.8570</td><td>0     </td></tr>\n",
       "\t<tr><th scope=row>svmLinear</th><td>0.2449</td><td>0.3620</td><td>0.6086</td><td>0.5404</td><td>0.6726</td><td>0.8298</td><td>0     </td></tr>\n",
       "\t<tr><th scope=row>svmRadial</th><td>0.2532</td><td>0.4095</td><td>0.5304</td><td>0.5752</td><td>0.7606</td><td>0.8773</td><td>0     </td></tr>\n",
       "\t<tr><th scope=row>svmRadial_mean</th><td>0.1393</td><td>0.2802</td><td>0.4092</td><td>0.4651</td><td>0.6506</td><td>0.8848</td><td>0     </td></tr>\n",
       "\t<tr><th scope=row>svmRadial_knn</th><td>0.1961</td><td>0.3247</td><td>0.5313</td><td>0.5429</td><td>0.7905</td><td>0.8821</td><td>0     </td></tr>\n",
       "\t<tr><th scope=row>lasso</th><td>0.2362</td><td>0.3315</td><td>0.5999</td><td>0.5475</td><td>0.7259</td><td>0.8030</td><td>0     </td></tr>\n",
       "\t<tr><th scope=row>pls</th><td>0.1614</td><td>0.3365</td><td>0.6082</td><td>0.5359</td><td>0.7295</td><td>0.8216</td><td>0     </td></tr>\n",
       "\t<tr><th scope=row>enet</th><td>0.2379</td><td>0.3314</td><td>0.6006</td><td>0.5485</td><td>0.7254</td><td>0.8078</td><td>0     </td></tr>\n",
       "\t<tr><th scope=row>enet_mean</th><td>0.2204</td><td>0.3372</td><td>0.5267</td><td>0.5206</td><td>0.7426</td><td>0.7531</td><td>0     </td></tr>\n",
       "\t<tr><th scope=row>enet_knn</th><td>0.2615</td><td>0.2983</td><td>0.5858</td><td>0.5283</td><td>0.7170</td><td>0.7602</td><td>0     </td></tr>\n",
       "</tbody>\n",
       "</table>\n"
      ],
      "text/latex": [
       "\\begin{tabular}{r|lllllll}\n",
       "  & Min. & 1st Qu. & Median & Mean & 3rd Qu. & Max. & NA's\\\\\n",
       "\\hline\n",
       "\tOLS & 0.2299 & 0.3752 & 0.5851 & 0.5342 & 0.6553 & 0.7722 & 0     \\\\\n",
       "\tOLS\\_mean & 0.1882 & 0.3287 & 0.4705 & 0.4669 & 0.6050 & 0.7436 & 0     \\\\\n",
       "\tOLS\\_knn & 0.2257 & 0.3771 & 0.5078 & 0.4894 & 0.6186 & 0.7493 & 0     \\\\\n",
       "\tOLS.restricted & 0.2300 & 0.4518 & 0.5725 & 0.5770 & 0.7548 & 0.9174 & 0     \\\\\n",
       "\tlmStepAIC & 0.1960 & 0.3366 & 0.5907 & 0.5115 & 0.6199 & 0.8051 & 0     \\\\\n",
       "\tlmStepBIC & 0.1768 & 0.3259 & 0.5359 & 0.5038 & 0.6054 & 0.8570 & 0     \\\\\n",
       "\tsvmLinear & 0.2449 & 0.3620 & 0.6086 & 0.5404 & 0.6726 & 0.8298 & 0     \\\\\n",
       "\tsvmRadial & 0.2532 & 0.4095 & 0.5304 & 0.5752 & 0.7606 & 0.8773 & 0     \\\\\n",
       "\tsvmRadial\\_mean & 0.1393 & 0.2802 & 0.4092 & 0.4651 & 0.6506 & 0.8848 & 0     \\\\\n",
       "\tsvmRadial\\_knn & 0.1961 & 0.3247 & 0.5313 & 0.5429 & 0.7905 & 0.8821 & 0     \\\\\n",
       "\tlasso & 0.2362 & 0.3315 & 0.5999 & 0.5475 & 0.7259 & 0.8030 & 0     \\\\\n",
       "\tpls & 0.1614 & 0.3365 & 0.6082 & 0.5359 & 0.7295 & 0.8216 & 0     \\\\\n",
       "\tenet & 0.2379 & 0.3314 & 0.6006 & 0.5485 & 0.7254 & 0.8078 & 0     \\\\\n",
       "\tenet\\_mean & 0.2204 & 0.3372 & 0.5267 & 0.5206 & 0.7426 & 0.7531 & 0     \\\\\n",
       "\tenet\\_knn & 0.2615 & 0.2983 & 0.5858 & 0.5283 & 0.7170 & 0.7602 & 0     \\\\\n",
       "\\end{tabular}\n"
      ],
      "text/markdown": [
       "1. 0.2299\n",
       "2. 0.1882\n",
       "3. 0.2257\n",
       "4. 0.23\n",
       "5. 0.196\n",
       "6. 0.1768\n",
       "7. 0.2449\n",
       "8. 0.2532\n",
       "9. 0.1393\n",
       "10. 0.1961\n",
       "11. 0.2362\n",
       "12. 0.1614\n",
       "13. 0.2379\n",
       "14. 0.2204\n",
       "15. 0.2615\n",
       "16. 0.3752\n",
       "17. 0.3287\n",
       "18. 0.3771\n",
       "19. 0.4518\n",
       "20. 0.3366\n",
       "21. 0.3259\n",
       "22. 0.362\n",
       "23. 0.4095\n",
       "24. 0.2802\n",
       "25. 0.3247\n",
       "26. 0.3315\n",
       "27. 0.3365\n",
       "28. 0.3314\n",
       "29. 0.3372\n",
       "30. 0.2983\n",
       "31. 0.5851\n",
       "32. 0.4705\n",
       "33. 0.5078\n",
       "34. 0.5725\n",
       "35. 0.5907\n",
       "36. 0.5359\n",
       "37. 0.6086\n",
       "38. 0.5304\n",
       "39. 0.4092\n",
       "40. 0.5313\n",
       "41. 0.5999\n",
       "42. 0.6082\n",
       "43. 0.6006\n",
       "44. 0.5267\n",
       "45. 0.5858\n",
       "46. 0.5342\n",
       "47. 0.4669\n",
       "48. 0.4894\n",
       "49. 0.577\n",
       "50. 0.5115\n",
       "51. 0.5038\n",
       "52. 0.5404\n",
       "53. 0.5752\n",
       "54. 0.4651\n",
       "55. 0.5429\n",
       "56. 0.5475\n",
       "57. 0.5359\n",
       "58. 0.5485\n",
       "59. 0.5206\n",
       "60. 0.5283\n",
       "61. 0.6553\n",
       "62. 0.605\n",
       "63. 0.6186\n",
       "64. 0.7548\n",
       "65. 0.6199\n",
       "66. 0.6054\n",
       "67. 0.6726\n",
       "68. 0.7606\n",
       "69. 0.6506\n",
       "70. 0.7905\n",
       "71. 0.7259\n",
       "72. 0.7295\n",
       "73. 0.7254\n",
       "74. 0.7426\n",
       "75. 0.717\n",
       "76. 0.7722\n",
       "77. 0.7436\n",
       "78. 0.7493\n",
       "79. 0.9174\n",
       "80. 0.8051\n",
       "81. 0.857\n",
       "82. 0.8298\n",
       "83. 0.8773\n",
       "84. 0.8848\n",
       "85. 0.8821\n",
       "86. 0.803\n",
       "87. 0.8216\n",
       "88. 0.8078\n",
       "89. 0.7531\n",
       "90. 0.7602\n",
       "91. 0\n",
       "92. 0\n",
       "93. 0\n",
       "94. 0\n",
       "95. 0\n",
       "96. 0\n",
       "97. 0\n",
       "98. 0\n",
       "99. 0\n",
       "100. 0\n",
       "101. 0\n",
       "102. 0\n",
       "103. 0\n",
       "104. 0\n",
       "105. 0\n",
       "\n",
       "\n"
      ],
      "text/plain": [
       "               Min.   1st Qu. Median Mean   3rd Qu. Max.   NA's\n",
       "OLS            0.2299 0.3752  0.5851 0.5342 0.6553  0.7722 0   \n",
       "OLS_mean       0.1882 0.3287  0.4705 0.4669 0.6050  0.7436 0   \n",
       "OLS_knn        0.2257 0.3771  0.5078 0.4894 0.6186  0.7493 0   \n",
       "OLS.restricted 0.2300 0.4518  0.5725 0.5770 0.7548  0.9174 0   \n",
       "lmStepAIC      0.1960 0.3366  0.5907 0.5115 0.6199  0.8051 0   \n",
       "lmStepBIC      0.1768 0.3259  0.5359 0.5038 0.6054  0.8570 0   \n",
       "svmLinear      0.2449 0.3620  0.6086 0.5404 0.6726  0.8298 0   \n",
       "svmRadial      0.2532 0.4095  0.5304 0.5752 0.7606  0.8773 0   \n",
       "svmRadial_mean 0.1393 0.2802  0.4092 0.4651 0.6506  0.8848 0   \n",
       "svmRadial_knn  0.1961 0.3247  0.5313 0.5429 0.7905  0.8821 0   \n",
       "lasso          0.2362 0.3315  0.5999 0.5475 0.7259  0.8030 0   \n",
       "pls            0.1614 0.3365  0.6082 0.5359 0.7295  0.8216 0   \n",
       "enet           0.2379 0.3314  0.6006 0.5485 0.7254  0.8078 0   \n",
       "enet_mean      0.2204 0.3372  0.5267 0.5206 0.7426  0.7531 0   \n",
       "enet_knn       0.2615 0.2983  0.5858 0.5283 0.7170  0.7602 0   "
      ]
     },
     "metadata": {},
     "output_type": "display_data"
    }
   ],
   "source": [
    "methods<-list(OLS = OLS, OLS_mean=OLS_mean,OLS_knn=OLS_knn, OLS.restricted=OLS.restricted, \n",
    "              lmStepAIC=lmStepAIC,lmStepBIC=lmStepBIC, svmLinear = svmLinear,\n",
    "                         svmRadial=svmRadial, svmRadial_mean=svmRadial_mean,svmRadial_knn=svmRadial_knn,\n",
    "                         lasso = lasso,pls = pls,enet=enet,enet_mean=enet_mean,enet_knn=enet_knn\n",
    "                         )\n",
    "resamp <- resamples(methods)                     \n",
    "summary(resamp)$statistics$RMSE\n",
    "summary(resamp)$statistics$Rsq"
   ]
  },
  {
   "cell_type": "markdown",
   "metadata": {},
   "source": [
    "## 对前10个样本的预测"
   ]
  },
  {
   "cell_type": "code",
   "execution_count": 42,
   "metadata": {},
   "outputs": [
    {
     "data": {
      "text/html": [
       "1.02941708086393"
      ],
      "text/latex": [
       "1.02941708086393"
      ],
      "text/markdown": [
       "1.02941708086393"
      ],
      "text/plain": [
       "[1] 1.029417"
      ]
     },
     "metadata": {},
     "output_type": "display_data"
    },
    {
     "data": {
      "text/html": [
       "<table>\n",
       "<thead><tr><th scope=col>id</th><th scope=col>ytrue</th><th scope=col>OLS</th><th scope=col>OLS_mean</th><th scope=col>OLS_knn</th><th scope=col>OLS.restricted</th><th scope=col>pls</th><th scope=col>lasso</th><th scope=col>enet</th><th scope=col>svmLinear</th><th scope=col>svmRadial</th><th scope=col>svmRadial_mean</th><th scope=col>svmRadial_knn</th></tr></thead>\n",
       "<tbody>\n",
       "\t<tr><td> 1          </td><td>-1.5855122  </td><td>-1.235586547</td><td>-1.2702002  </td><td>-1.33806520 </td><td>-1.2735787  </td><td>-1.26228901 </td><td>-1.0794214  </td><td>-1.0855943  </td><td>-0.7046725  </td><td>-1.09071624 </td><td>-0.86657842 </td><td>-0.91899215 </td></tr>\n",
       "\t<tr><td> 2          </td><td>-2.3714088  </td><td>-1.150952322</td><td>-1.0650698  </td><td>-1.11977439 </td><td>-1.0020097  </td><td>-1.08654185 </td><td>-1.0878594  </td><td>-1.0935166  </td><td>-0.5961632  </td><td>-0.94350796 </td><td>-0.77389403 </td><td>-0.82734383 </td></tr>\n",
       "\t<tr><td> 3          </td><td>-0.2747798  </td><td> 0.001373642</td><td> 0.1986472  </td><td> 0.23418961 </td><td> 0.5773681  </td><td> 0.03459549 </td><td> 0.3132947  </td><td> 0.3164747  </td><td> 0.1466207  </td><td> 0.44972470 </td><td> 0.29989199 </td><td> 0.48048836 </td></tr>\n",
       "\t<tr><td> 4          </td><td>-1.0845762  </td><td>-1.090128847</td><td>-0.9983714  </td><td>-1.07490514 </td><td>-1.9429371  </td><td>-1.00317991 </td><td>-0.9603596  </td><td>-0.9660995  </td><td>-0.6800874  </td><td>-0.53279319 </td><td>-0.38106606 </td><td>-0.48282601 </td></tr>\n",
       "\t<tr><td> 5          </td><td>-2.1562664  </td><td>-2.210344863</td><td>-2.1558682  </td><td>-2.18362914 </td><td>-2.6699820  </td><td>-2.14980363 </td><td>-1.9677296  </td><td>-1.9784179  </td><td>-1.5891415  </td><td>-1.10081480 </td><td>-0.66854778 </td><td>-1.00167237 </td></tr>\n",
       "\t<tr><td> 6          </td><td>-0.9666176  </td><td> 0.003946920</td><td>-0.0435570  </td><td>-0.06115095 </td><td>-0.5695284  </td><td>-0.10905434 </td><td>-0.2429749  </td><td>-0.2455679  </td><td>-0.2095178  </td><td> 0.09724259 </td><td> 0.05852838 </td><td> 0.16825398 </td></tr>\n",
       "\t<tr><td> 7          </td><td> 0.4459457  </td><td> 0.577643914</td><td> 0.6286399  </td><td> 0.76970469 </td><td> 0.7959296  </td><td> 0.71360882 </td><td> 0.7914424  </td><td> 0.7923066  </td><td> 0.5009531  </td><td> 0.32152408 </td><td> 0.17897974 </td><td> 0.31099530 </td></tr>\n",
       "\t<tr><td> 8          </td><td>-1.5368518  </td><td> 0.411712896</td><td> 0.5612333  </td><td> 0.55505744 </td><td> 0.2084053  </td><td> 0.60938670 </td><td> 0.6076258  </td><td> 0.6090758  </td><td> 0.3724530  </td><td> 0.03584050 </td><td>-0.19993435 </td><td> 0.07782884 </td></tr>\n",
       "\t<tr><td> 9          </td><td>-2.1313065  </td><td>-0.941475656</td><td>-0.9143817  </td><td>-0.92239325 </td><td>-0.8548945  </td><td>-0.59622142 </td><td>-0.5532731  </td><td>-0.5574353  </td><td>-0.3583275  </td><td>-1.05801435 </td><td>-0.98076291 </td><td>-0.97743151 </td></tr>\n",
       "\t<tr><td>10          </td><td> 0.3943648  </td><td> 0.570936897</td><td> 0.5388808  </td><td> 0.52756880 </td><td> 1.0405667  </td><td> 0.64252885 </td><td> 0.7463014  </td><td> 0.7421322  </td><td> 0.5510580  </td><td> 0.53640269 </td><td> 0.31294733 </td><td> 0.56056697 </td></tr>\n",
       "</tbody>\n",
       "</table>\n"
      ],
      "text/latex": [
       "\\begin{tabular}{r|lllllllllllll}\n",
       " id & ytrue & OLS & OLS\\_mean & OLS\\_knn & OLS.restricted & pls & lasso & enet & svmLinear & svmRadial & svmRadial\\_mean & svmRadial\\_knn\\\\\n",
       "\\hline\n",
       "\t  1           & -1.5855122   & -1.235586547 & -1.2702002   & -1.33806520  & -1.2735787   & -1.26228901  & -1.0794214   & -1.0855943   & -0.7046725   & -1.09071624  & -0.86657842  & -0.91899215 \\\\\n",
       "\t  2           & -2.3714088   & -1.150952322 & -1.0650698   & -1.11977439  & -1.0020097   & -1.08654185  & -1.0878594   & -1.0935166   & -0.5961632   & -0.94350796  & -0.77389403  & -0.82734383 \\\\\n",
       "\t  3           & -0.2747798   &  0.001373642 &  0.1986472   &  0.23418961  &  0.5773681   &  0.03459549  &  0.3132947   &  0.3164747   &  0.1466207   &  0.44972470  &  0.29989199  &  0.48048836 \\\\\n",
       "\t  4           & -1.0845762   & -1.090128847 & -0.9983714   & -1.07490514  & -1.9429371   & -1.00317991  & -0.9603596   & -0.9660995   & -0.6800874   & -0.53279319  & -0.38106606  & -0.48282601 \\\\\n",
       "\t  5           & -2.1562664   & -2.210344863 & -2.1558682   & -2.18362914  & -2.6699820   & -2.14980363  & -1.9677296   & -1.9784179   & -1.5891415   & -1.10081480  & -0.66854778  & -1.00167237 \\\\\n",
       "\t  6           & -0.9666176   &  0.003946920 & -0.0435570   & -0.06115095  & -0.5695284   & -0.10905434  & -0.2429749   & -0.2455679   & -0.2095178   &  0.09724259  &  0.05852838  &  0.16825398 \\\\\n",
       "\t  7           &  0.4459457   &  0.577643914 &  0.6286399   &  0.76970469  &  0.7959296   &  0.71360882  &  0.7914424   &  0.7923066   &  0.5009531   &  0.32152408  &  0.17897974  &  0.31099530 \\\\\n",
       "\t  8           & -1.5368518   &  0.411712896 &  0.5612333   &  0.55505744  &  0.2084053   &  0.60938670  &  0.6076258   &  0.6090758   &  0.3724530   &  0.03584050  & -0.19993435  &  0.07782884 \\\\\n",
       "\t  9           & -2.1313065   & -0.941475656 & -0.9143817   & -0.92239325  & -0.8548945   & -0.59622142  & -0.5532731   & -0.5574353   & -0.3583275   & -1.05801435  & -0.98076291  & -0.97743151 \\\\\n",
       "\t 10           &  0.3943648   &  0.570936897 &  0.5388808   &  0.52756880  &  1.0405667   &  0.64252885  &  0.7463014   &  0.7421322   &  0.5510580   &  0.53640269  &  0.31294733  &  0.56056697 \\\\\n",
       "\\end{tabular}\n"
      ],
      "text/plain": [
       "   id ytrue      OLS          OLS_mean   OLS_knn     OLS.restricted pls        \n",
       "1   1 -1.5855122 -1.235586547 -1.2702002 -1.33806520 -1.2735787     -1.26228901\n",
       "2   2 -2.3714088 -1.150952322 -1.0650698 -1.11977439 -1.0020097     -1.08654185\n",
       "3   3 -0.2747798  0.001373642  0.1986472  0.23418961  0.5773681      0.03459549\n",
       "4   4 -1.0845762 -1.090128847 -0.9983714 -1.07490514 -1.9429371     -1.00317991\n",
       "5   5 -2.1562664 -2.210344863 -2.1558682 -2.18362914 -2.6699820     -2.14980363\n",
       "6   6 -0.9666176  0.003946920 -0.0435570 -0.06115095 -0.5695284     -0.10905434\n",
       "7   7  0.4459457  0.577643914  0.6286399  0.76970469  0.7959296      0.71360882\n",
       "8   8 -1.5368518  0.411712896  0.5612333  0.55505744  0.2084053      0.60938670\n",
       "9   9 -2.1313065 -0.941475656 -0.9143817 -0.92239325 -0.8548945     -0.59622142\n",
       "10 10  0.3943648  0.570936897  0.5388808  0.52756880  1.0405667      0.64252885\n",
       "   lasso      enet       svmLinear  svmRadial   svmRadial_mean svmRadial_knn\n",
       "1  -1.0794214 -1.0855943 -0.7046725 -1.09071624 -0.86657842    -0.91899215  \n",
       "2  -1.0878594 -1.0935166 -0.5961632 -0.94350796 -0.77389403    -0.82734383  \n",
       "3   0.3132947  0.3164747  0.1466207  0.44972470  0.29989199     0.48048836  \n",
       "4  -0.9603596 -0.9660995 -0.6800874 -0.53279319 -0.38106606    -0.48282601  \n",
       "5  -1.9677296 -1.9784179 -1.5891415 -1.10081480 -0.66854778    -1.00167237  \n",
       "6  -0.2429749 -0.2455679 -0.2095178  0.09724259  0.05852838     0.16825398  \n",
       "7   0.7914424  0.7923066  0.5009531  0.32152408  0.17897974     0.31099530  \n",
       "8   0.6076258  0.6090758  0.3724530  0.03584050 -0.19993435     0.07782884  \n",
       "9  -0.5532731 -0.5574353 -0.3583275 -1.05801435 -0.98076291    -0.97743151  \n",
       "10  0.7463014  0.7421322  0.5510580  0.53640269  0.31294733     0.56056697  "
      ]
     },
     "metadata": {},
     "output_type": "display_data"
    },
    {
     "data": {
      "text/html": [
       "<dl class=dl-horizontal>\n",
       "\t<dt>OLS</dt>\n",
       "\t\t<dd>0.888498573947171</dd>\n",
       "\t<dt>OLS_knn</dt>\n",
       "\t\t<dd>0.93100478418183</dd>\n",
       "\t<dt>OLS_mean</dt>\n",
       "\t\t<dd>0.939504003458251</dd>\n",
       "\t<dt>svmRadial</dt>\n",
       "\t\t<dd>0.949728593187628</dd>\n",
       "\t<dt>OLS.restricted</dt>\n",
       "\t\t<dd>0.952485959801561</dd>\n",
       "\t<dt>pls</dt>\n",
       "\t\t<dd>0.984337636821213</dd>\n",
       "\t<dt>enet</dt>\n",
       "\t\t<dd>1.00603535567756</dd>\n",
       "\t<dt>lasso</dt>\n",
       "\t\t<dd>1.00778440565219</dd>\n",
       "\t<dt>svmRadial_mean</dt>\n",
       "\t\t<dd>1.01721789651837</dd>\n",
       "\t<dt>svmRadial_knn</dt>\n",
       "\t\t<dd>1.01815496016468</dd>\n",
       "\t<dt>svmLinear</dt>\n",
       "\t\t<dd>1.09452607341616</dd>\n",
       "</dl>\n"
      ],
      "text/latex": [
       "\\begin{description*}\n",
       "\\item[OLS] 0.888498573947171\n",
       "\\item[OLS\\textbackslash{}\\_knn] 0.93100478418183\n",
       "\\item[OLS\\textbackslash{}\\_mean] 0.939504003458251\n",
       "\\item[svmRadial] 0.949728593187628\n",
       "\\item[OLS.restricted] 0.952485959801561\n",
       "\\item[pls] 0.984337636821213\n",
       "\\item[enet] 1.00603535567756\n",
       "\\item[lasso] 1.00778440565219\n",
       "\\item[svmRadial\\textbackslash{}\\_mean] 1.01721789651837\n",
       "\\item[svmRadial\\textbackslash{}\\_knn] 1.01815496016468\n",
       "\\item[svmLinear] 1.09452607341616\n",
       "\\end{description*}\n"
      ],
      "text/markdown": [
       "OLS\n",
       ":   0.888498573947171OLS_knn\n",
       ":   0.93100478418183OLS_mean\n",
       ":   0.939504003458251svmRadial\n",
       ":   0.949728593187628OLS.restricted\n",
       ":   0.952485959801561pls\n",
       ":   0.984337636821213enet\n",
       ":   1.00603535567756lasso\n",
       ":   1.00778440565219svmRadial_mean\n",
       ":   1.01721789651837svmRadial_knn\n",
       ":   1.01815496016468svmLinear\n",
       ":   1.09452607341616\n",
       "\n"
      ],
      "text/plain": [
       "           OLS        OLS_knn       OLS_mean      svmRadial OLS.restricted \n",
       "     0.8884986      0.9310048      0.9395040      0.9497286      0.9524860 \n",
       "           pls           enet          lasso svmRadial_mean  svmRadial_knn \n",
       "     0.9843376      1.0060354      1.0077844      1.0172179      1.0181550 \n",
       "     svmLinear \n",
       "     1.0945261 "
      ]
     },
     "metadata": {},
     "output_type": "display_data"
    }
   ],
   "source": [
    "newx<- powder.scaled.test[,predictors.index]\n",
    "newy<-powder.scaled.test$factor1\n",
    "sd(newy)\n",
    "RMSE.record<-c()\n",
    "yhat.record<-data.frame(id=1:10,ytrue=newy)\n",
    "yhat.record[\"OLS\"]<-predict(OLS$finalModel,newdata=newx)\n",
    "yhat.record[\"OLS_mean\"]<-predict(OLS_mean$finalModel,newdata=newx)\n",
    "yhat.record[\"OLS_knn\"]<-predict(OLS_knn$finalModel,newdata=newx)\n",
    "yhat.record[\"OLS.restricted\"]<-predict(OLS.restricted$finalModel,newdata=newx)\n",
    "yhat.record[\"pls\"]<-predict(pls$finalModel,newdata=newx, ncomp = pls$finalModel$ncomp)\n",
    "yhat.record[\"lasso\"]<-predict(lasso$finalModel,newx=newx,s=lasso$bestTune$fraction,mode=\"fraction\")$fit\n",
    "yhat.record[\"enet\"]<-predict(enet$finalModel,newx=newx,s=enet$bestTune$fraction,mode=\"fraction\")$fit\n",
    "yhat.record[\"svmLinear\"]<-predict(svmLinear$finalModel,newdata=newx)\n",
    "yhat.record[\"svmRadial\"]<-predict(svmRadial$finalModel,newdata=newx)\n",
    "yhat.record[\"svmRadial_mean\"]<-predict(svmRadial_mean$finalModel,newdata=newx)\n",
    "yhat.record[\"svmRadial_knn\"]<-predict(svmRadial_knn$finalModel,newdata=newx)\n",
    "\n",
    "#yhat.record[\"mean\"]<-rowMeans(yhat.record[,-c(1,2)])\n",
    "for (method in colnames(yhat.record)[-c(1,2)]){\n",
    "    RMSE.record[method]<-sqrt(mean((yhat.record[method]-newy)^2))\n",
    "}\n",
    "yhat.record\n",
    "RMSE.record[order(RMSE.record)]\n",
    "# for (method in colnames(yhat.record)[-c(1,2)]){\n",
    "#     RMSE.record[method]<-sqrt(mean((yhat.record[-8,method]-newy[-8])^2))\n",
    "# }\n",
    "# RMSE.record[order(RMSE.record)]"
   ]
  },
  {
   "cell_type": "markdown",
   "metadata": {},
   "source": [
    "## 考虑平方项或交互项\n",
    "自变量总共有21个，如果考虑平方项则又有21个，如果考虑交互项则有$\\left(\\begin{array}{c}21\\\\2\\end{array}\\right)=210$个，甚至已经超出了样本得个数（$n=86$），这就要求只考虑有显著影响的变量。\n",
    "（注：之后一律采用标准化、`impute.knn`的数据）"
   ]
  },
  {
   "cell_type": "code",
   "execution_count": 43,
   "metadata": {},
   "outputs": [],
   "source": [
    "powder.augmented<-powder[,predictors.index]\n",
    "for (PP in (paste(\"PP\",1:21,sep=\"\"))){\n",
    "    powder.augmented[paste(PP,\"_sqrd\",sep = \"\")]<-powder[PP]^2\n",
    "}\n",
    "# head(powder.augmented)\n",
    "# colnames(powder.augmented)"
   ]
  },
  {
   "cell_type": "code",
   "execution_count": 44,
   "metadata": {},
   "outputs": [],
   "source": [
    "predictors.sqrt.index<-grep(\"PP\\\\d+[_]sqrd\", colnames(powder.augmented),value=T)\n",
    "#powder.augmented[,predictors.sqrt.index]<-scale(powder.augmented[,predictors.sqrt.index])\n",
    "#head(powder.augmented[,predictors.sqrt.index])"
   ]
  },
  {
   "cell_type": "code",
   "execution_count": 45,
   "metadata": {},
   "outputs": [],
   "source": [
    "combni<-combn(1:21,2)\n",
    "for (i in (1:ncol(combni))){\n",
    "    powder.augmented[paste(\"PP_\",combni[1,i],\"_\",combni[2,i],sep = \"\")]<-powder[,combni[1,i]]*powder[,combni[2,i]]\n",
    "}\n",
    "#head(powder.augmented)\n",
    "#colnames(powder.augmented);ncol(powder.augmented)"
   ]
  },
  {
   "cell_type": "code",
   "execution_count": 46,
   "metadata": {},
   "outputs": [],
   "source": [
    "predictors.ia.index<-grep(\"PP[_]\", colnames(powder.augmented),value=T) #交互项index\n",
    "predictors.tot.index<-c(predictors.index,predictors.sqrt.index,predictors.ia.index) # 所有自变量的index"
   ]
  },
  {
   "cell_type": "markdown",
   "metadata": {},
   "source": [
    "在加入了这些新的变量之后，仍然采用knn填补"
   ]
  },
  {
   "cell_type": "code",
   "execution_count": 47,
   "metadata": {
    "scrolled": true
   },
   "outputs": [],
   "source": [
    "powder.augmented.imputed.knn <-scale(powder.augmented)\n",
    "powder.augmented.imputed.knn[,predictors.index]<-t(impute::impute.knn(t(powder.augmented.imputed.knn[,predictors.index]))[['data']])\n",
    "powder.augmented.imputed.knn<-t(impute::impute.knn(t(powder.augmented.imputed.knn))[['data']])"
   ]
  },
  {
   "cell_type": "markdown",
   "metadata": {},
   "source": [
    "## 仍然分训练集和测试集\n",
    "前10个样本为测试集，其余为训练集。"
   ]
  },
  {
   "cell_type": "code",
   "execution_count": 48,
   "metadata": {},
   "outputs": [
    {
     "data": {
      "text/html": [
       "252"
      ],
      "text/latex": [
       "252"
      ],
      "text/markdown": [
       "252"
      ],
      "text/plain": [
       "[1] 252"
      ]
     },
     "metadata": {},
     "output_type": "display_data"
    }
   ],
   "source": [
    "X.aug<-powder.augmented.imputed.knn.train<-powder.augmented.imputed.knn[-(1:10),]\n",
    "powder.augmented.imputed.knn.test<-powder.augmented.imputed.knn[1:10,]\n",
    "#head(X.aug)\n",
    "ncol(X.aug)"
   ]
  },
  {
   "cell_type": "code",
   "execution_count": 49,
   "metadata": {},
   "outputs": [
    {
     "data": {
      "text/html": [
       "<ol class=list-inline>\n",
       "\t<li>'PP_2_17'</li>\n",
       "\t<li>'PP_2_18'</li>\n",
       "\t<li>'PP_2_19'</li>\n",
       "\t<li>'PP_2_20'</li>\n",
       "\t<li>'PP_2_11'</li>\n",
       "\t<li>'PP_2_13'</li>\n",
       "\t<li>'PP_2_21'</li>\n",
       "\t<li>'PP_2_16'</li>\n",
       "\t<li>'PP1'</li>\n",
       "\t<li>'PP_2_12'</li>\n",
       "\t<li>'PP_2_15'</li>\n",
       "\t<li>'PP_2_14'</li>\n",
       "\t<li>'PP_2_8'</li>\n",
       "\t<li>'PP_1_2'</li>\n",
       "\t<li>'PP1_sqrd'</li>\n",
       "\t<li>'PP_2_7'</li>\n",
       "\t<li>'PP_2_10'</li>\n",
       "\t<li>'PP_18_20'</li>\n",
       "\t<li>'PP_17_18'</li>\n",
       "\t<li>'PP_1_10'</li>\n",
       "</ol>\n"
      ],
      "text/latex": [
       "\\begin{enumerate*}\n",
       "\\item 'PP\\_2\\_17'\n",
       "\\item 'PP\\_2\\_18'\n",
       "\\item 'PP\\_2\\_19'\n",
       "\\item 'PP\\_2\\_20'\n",
       "\\item 'PP\\_2\\_11'\n",
       "\\item 'PP\\_2\\_13'\n",
       "\\item 'PP\\_2\\_21'\n",
       "\\item 'PP\\_2\\_16'\n",
       "\\item 'PP1'\n",
       "\\item 'PP\\_2\\_12'\n",
       "\\item 'PP\\_2\\_15'\n",
       "\\item 'PP\\_2\\_14'\n",
       "\\item 'PP\\_2\\_8'\n",
       "\\item 'PP\\_1\\_2'\n",
       "\\item 'PP1\\_sqrd'\n",
       "\\item 'PP\\_2\\_7'\n",
       "\\item 'PP\\_2\\_10'\n",
       "\\item 'PP\\_18\\_20'\n",
       "\\item 'PP\\_17\\_18'\n",
       "\\item 'PP\\_1\\_10'\n",
       "\\end{enumerate*}\n"
      ],
      "text/markdown": [
       "1. 'PP_2_17'\n",
       "2. 'PP_2_18'\n",
       "3. 'PP_2_19'\n",
       "4. 'PP_2_20'\n",
       "5. 'PP_2_11'\n",
       "6. 'PP_2_13'\n",
       "7. 'PP_2_21'\n",
       "8. 'PP_2_16'\n",
       "9. 'PP1'\n",
       "10. 'PP_2_12'\n",
       "11. 'PP_2_15'\n",
       "12. 'PP_2_14'\n",
       "13. 'PP_2_8'\n",
       "14. 'PP_1_2'\n",
       "15. 'PP1_sqrd'\n",
       "16. 'PP_2_7'\n",
       "17. 'PP_2_10'\n",
       "18. 'PP_18_20'\n",
       "19. 'PP_17_18'\n",
       "20. 'PP_1_10'\n",
       "\n",
       "\n"
      ],
      "text/plain": [
       " [1] \"PP_2_17\"  \"PP_2_18\"  \"PP_2_19\"  \"PP_2_20\"  \"PP_2_11\"  \"PP_2_13\" \n",
       " [7] \"PP_2_21\"  \"PP_2_16\"  \"PP1\"      \"PP_2_12\"  \"PP_2_15\"  \"PP_2_14\" \n",
       "[13] \"PP_2_8\"   \"PP_1_2\"   \"PP1_sqrd\" \"PP_2_7\"   \"PP_2_10\"  \"PP_18_20\"\n",
       "[19] \"PP_17_18\" \"PP_1_10\" "
      ]
     },
     "metadata": {},
     "output_type": "display_data"
    },
    {
     "data": {
      "text/html": [
       "<ol class=list-inline>\n",
       "\t<li>0.591914130260739</li>\n",
       "\t<li>0.590494003659334</li>\n",
       "\t<li>0.58810197632628</li>\n",
       "\t<li>0.580718721106926</li>\n",
       "\t<li>0.574823467063056</li>\n",
       "\t<li>0.571234325006761</li>\n",
       "\t<li>0.566034413411403</li>\n",
       "\t<li>0.565139835188463</li>\n",
       "\t<li>0.563516651531494</li>\n",
       "\t<li>0.559612766733417</li>\n",
       "\t<li>0.555474007583126</li>\n",
       "\t<li>0.549282671337936</li>\n",
       "\t<li>0.544021393569951</li>\n",
       "\t<li>0.534924180281109</li>\n",
       "\t<li>0.52476863407775</li>\n",
       "\t<li>0.524153892072867</li>\n",
       "\t<li>0.523199136760442</li>\n",
       "\t<li>0.48903180034014</li>\n",
       "\t<li>0.476351237931946</li>\n",
       "\t<li>0.473652006598174</li>\n",
       "</ol>\n"
      ],
      "text/latex": [
       "\\begin{enumerate*}\n",
       "\\item 0.591914130260739\n",
       "\\item 0.590494003659334\n",
       "\\item 0.58810197632628\n",
       "\\item 0.580718721106926\n",
       "\\item 0.574823467063056\n",
       "\\item 0.571234325006761\n",
       "\\item 0.566034413411403\n",
       "\\item 0.565139835188463\n",
       "\\item 0.563516651531494\n",
       "\\item 0.559612766733417\n",
       "\\item 0.555474007583126\n",
       "\\item 0.549282671337936\n",
       "\\item 0.544021393569951\n",
       "\\item 0.534924180281109\n",
       "\\item 0.52476863407775\n",
       "\\item 0.524153892072867\n",
       "\\item 0.523199136760442\n",
       "\\item 0.48903180034014\n",
       "\\item 0.476351237931946\n",
       "\\item 0.473652006598174\n",
       "\\end{enumerate*}\n"
      ],
      "text/markdown": [
       "1. 0.591914130260739\n",
       "2. 0.590494003659334\n",
       "3. 0.58810197632628\n",
       "4. 0.580718721106926\n",
       "5. 0.574823467063056\n",
       "6. 0.571234325006761\n",
       "7. 0.566034413411403\n",
       "8. 0.565139835188463\n",
       "9. 0.563516651531494\n",
       "10. 0.559612766733417\n",
       "11. 0.555474007583126\n",
       "12. 0.549282671337936\n",
       "13. 0.544021393569951\n",
       "14. 0.534924180281109\n",
       "15. 0.52476863407775\n",
       "16. 0.524153892072867\n",
       "17. 0.523199136760442\n",
       "18. 0.48903180034014\n",
       "19. 0.476351237931946\n",
       "20. 0.473652006598174\n",
       "\n",
       "\n"
      ],
      "text/plain": [
       " [1] 0.5919141 0.5904940 0.5881020 0.5807187 0.5748235 0.5712343 0.5660344\n",
       " [8] 0.5651398 0.5635167 0.5596128 0.5554740 0.5492827 0.5440214 0.5349242\n",
       "[15] 0.5247686 0.5241539 0.5231991 0.4890318 0.4763512 0.4736520"
      ]
     },
     "metadata": {},
     "output_type": "display_data"
    }
   ],
   "source": [
    "head(colnames(X.aug)[order(abs(cor(X.aug,y)),decreasing = T)],20)\n",
    "head(cor(X.aug,y)[order(abs(cor(X.aug,y)),decreasing = T)],20)"
   ]
  },
  {
   "cell_type": "markdown",
   "metadata": {},
   "source": [
    "### Stepwise Regression"
   ]
  },
  {
   "cell_type": "code",
   "execution_count": 50,
   "metadata": {
    "scrolled": true
   },
   "outputs": [
    {
     "data": {
      "text/plain": [
       "Linear Regression with Stepwise Selection \n",
       "\n",
       "76 samples\n",
       "41 predictors\n",
       "\n",
       "No pre-processing\n",
       "Resampling: Cross-Validated (10 fold) \n",
       "Summary of sample sizes: 69, 68, 69, 68, 68, 68, ... \n",
       "Resampling results:\n",
       "\n",
       "  RMSE       Rsquared \n",
       "  0.8183479  0.3905227\n",
       "\n",
       " "
      ]
     },
     "metadata": {},
     "output_type": "display_data"
    },
    {
     "data": {
      "text/plain": [
       "\n",
       "Call:\n",
       "lm(formula = .outcome ~ PP_2_4 + PP_2_5 + PP_2_6 + PP_2_8 + PP_2_11 + \n",
       "    PP_2_12 + PP_2_14 + PP_2_15 + PP_2_16 + PP_2_17 + PP_2_19 + \n",
       "    PP_2_20 + PP_20_21 + PP2 + PP4 + PP5 + PP11 + PP13 + PP14 + \n",
       "    PP16 + PP18 + PP19, data = dat)\n",
       "\n",
       "Residuals:\n",
       "     Min       1Q   Median       3Q      Max \n",
       "-1.22866 -0.25288  0.03902  0.21697  0.85571 \n",
       "\n",
       "Coefficients:\n",
       "             Estimate Std. Error t value Pr(>|t|)    \n",
       "(Intercept)  -0.05896    0.06261  -0.942 0.350654    \n",
       "PP_2_4       -0.73082    0.10091  -7.242 1.84e-09 ***\n",
       "PP_2_5       -2.84844    1.19505  -2.384 0.020762 *  \n",
       "PP_2_6        2.95227    1.36970   2.155 0.035691 *  \n",
       "PP_2_8        0.75014    0.33382   2.247 0.028819 *  \n",
       "PP_2_11       2.82678    0.76313   3.704 0.000507 ***\n",
       "PP_2_12     -22.61118    5.29503  -4.270 8.13e-05 ***\n",
       "PP_2_14       5.34036    2.44808   2.181 0.033607 *  \n",
       "PP_2_15      11.45102    4.31590   2.653 0.010498 *  \n",
       "PP_2_16       2.96623    1.15983   2.557 0.013441 *  \n",
       "PP_2_17      -7.94470    2.71796  -2.923 0.005087 ** \n",
       "PP_2_19      16.03747    5.13554   3.123 0.002901 ** \n",
       "PP_2_20      -8.78415    3.36342  -2.612 0.011694 *  \n",
       "PP_20_21     -0.74966    0.27176  -2.759 0.007951 ** \n",
       "PP2          -0.63322    0.10536  -6.010 1.75e-07 ***\n",
       "PP4           1.95263    0.69609   2.805 0.007017 ** \n",
       "PP5          -2.21596    0.75690  -2.928 0.005023 ** \n",
       "PP11          2.44014    0.61098   3.994 0.000202 ***\n",
       "PP13         -1.09787    0.40107  -2.737 0.008412 ** \n",
       "PP14         -1.55720    0.49985  -3.115 0.002964 ** \n",
       "PP16          1.24889    0.38793   3.219 0.002195 ** \n",
       "PP18         -1.33604    0.49582  -2.695 0.009419 ** \n",
       "PP19          1.59312    0.49557   3.215 0.002225 ** \n",
       "---\n",
       "Signif. codes:  0 '***' 0.001 '**' 0.01 '*' 0.05 '.' 0.1 ' ' 1\n",
       "\n",
       "Residual standard error: 0.4645 on 53 degrees of freedom\n",
       "Multiple R-squared:  0.8076,\tAdjusted R-squared:  0.7277 \n",
       "F-statistic: 10.11 on 22 and 53 DF,  p-value: 4.15e-12\n"
      ]
     },
     "metadata": {},
     "output_type": "display_data"
    }
   ],
   "source": [
    "lmStepBIC.aug <- train(x = X.aug[,c(grep(\"PP[_]2\",colnames(X.aug),value = T),predictors.index)],\n",
    "                       y = y,\n",
    "                       method = \"lmStepAIC\",trace=F,k=log(nrow(X.aug)),\n",
    "                       #preProcess = \"pca\",\n",
    "                       trControl = trControl)\n",
    "lmStepBIC.aug\n",
    "summary(lmStepBIC.aug$finalModel)"
   ]
  },
  {
   "cell_type": "markdown",
   "metadata": {},
   "source": [
    "似乎在加入了更多的自变量（平方项）后，逐步回归的效果反而变差了。（RMSE不降反增）。\n",
    "\n",
    "### Partial Least Square"
   ]
  },
  {
   "cell_type": "code",
   "execution_count": 51,
   "metadata": {},
   "outputs": [
    {
     "data": {
      "text/plain": [
       "Partial Least Squares \n",
       "\n",
       " 76 samples\n",
       "252 predictors\n",
       "\n",
       "No pre-processing\n",
       "Resampling: Cross-Validated (10 fold) \n",
       "Summary of sample sizes: 69, 68, 69, 68, 68, 68, ... \n",
       "Resampling results across tuning parameters:\n",
       "\n",
       "  ncomp  RMSE       Rsquared \n",
       "   1     0.7049500  0.4168898\n",
       "   2     0.5882099  0.5892351\n",
       "   3     0.5488371  0.6390946\n",
       "   4     0.5494725  0.6525460\n",
       "   5     0.5601271  0.6330738\n",
       "   6     0.5537498  0.6378837\n",
       "   7     0.5636878  0.6379009\n",
       "   8     0.5662743  0.6247688\n",
       "   9     0.5779131  0.6032797\n",
       "  10     0.5886000  0.5865689\n",
       "\n",
       "RMSE was used to select the optimal model using  the smallest value.\n",
       "The final value used for the model was ncomp = 3. "
      ]
     },
     "metadata": {},
     "output_type": "display_data"
    }
   ],
   "source": [
    "pls.aug <- train(x = X.aug,\n",
    "    #x = powder.augmented.imputed.knn[,predictors.index],\n",
    "                 y = y,\n",
    "                 method = \"pls\",\n",
    "                 #preProcess = \"pca\",\n",
    "                 tuneLength=10,\n",
    "                 trControl = trControl)\n",
    "pls.aug"
   ]
  },
  {
   "cell_type": "code",
   "execution_count": 52,
   "metadata": {
    "scrolled": true
   },
   "outputs": [
    {
     "name": "stdout",
     "output_type": "stream",
     "text": [
      "Data: \tX dimension: 76 252 \n",
      "\tY dimension: 76 1\n",
      "Fit method: oscorespls\n",
      "Number of components considered: 3\n",
      "TRAINING: % variance explained\n",
      "          1 comps  2 comps  3 comps\n",
      "X           30.96    44.28    55.37\n",
      ".outcome    40.72    63.11    67.66\n"
     ]
    },
    {
     "data": {
      "text/html": [
       "'mvr'"
      ],
      "text/latex": [
       "'mvr'"
      ],
      "text/markdown": [
       "'mvr'"
      ],
      "text/plain": [
       "[1] \"mvr\""
      ]
     },
     "metadata": {},
     "output_type": "display_data"
    },
    {
     "data": {
      "text/plain": [
       "\n",
       "Loadings:\n",
       "          Comp 1 Comp 2 Comp 3\n",
       "PP1        0.103              \n",
       "PP2                      0.160\n",
       "PP3                     -0.206\n",
       "PP4              -0.102       \n",
       "PP5                           \n",
       "PP6              -0.107       \n",
       "PP7                           \n",
       "PP8              -0.104       \n",
       "PP9                           \n",
       "PP10                          \n",
       "PP11                          \n",
       "PP12                          \n",
       "PP13                          \n",
       "PP14                          \n",
       "PP15                          \n",
       "PP16                          \n",
       "PP17                          \n",
       "PP18                          \n",
       "PP19                          \n",
       "PP20                          \n",
       "PP21                          \n",
       "PP1_sqrd                      \n",
       "PP2_sqrd                -0.118\n",
       "PP3_sqrd                -0.201\n",
       "PP4_sqrd                      \n",
       "PP5_sqrd                      \n",
       "PP6_sqrd         -0.109       \n",
       "PP7_sqrd                      \n",
       "PP8_sqrd         -0.104       \n",
       "PP9_sqrd                      \n",
       "PP10_sqrd                     \n",
       "PP11_sqrd                     \n",
       "PP12_sqrd                     \n",
       "PP13_sqrd                     \n",
       "PP14_sqrd                     \n",
       "PP15_sqrd                     \n",
       "PP16_sqrd                     \n",
       "PP17_sqrd                     \n",
       "PP18_sqrd                     \n",
       "PP19_sqrd                     \n",
       "PP20_sqrd                     \n",
       "PP21_sqrd                     \n",
       "PP_1_2                        \n",
       "PP_1_3                   0.150\n",
       "PP_1_4                  -0.111\n",
       "PP_1_5                        \n",
       "PP_1_6                        \n",
       "PP_1_7                        \n",
       "PP_1_8                        \n",
       "PP_1_9                        \n",
       "PP_1_10                       \n",
       "PP_1_11                       \n",
       "PP_1_12                       \n",
       "PP_1_13                       \n",
       "PP_1_14                       \n",
       "PP_1_15                       \n",
       "PP_1_16                       \n",
       "PP_1_17                       \n",
       "PP_1_18                       \n",
       "PP_1_19                       \n",
       "PP_1_20                       \n",
       "PP_1_21                       \n",
       "PP_2_3                   0.166\n",
       "PP_2_4                  -0.202\n",
       "PP_2_5     0.101              \n",
       "PP_2_6                        \n",
       "PP_2_7     0.104              \n",
       "PP_2_8     0.105              \n",
       "PP_2_9                        \n",
       "PP_2_10                       \n",
       "PP_2_11    0.106              \n",
       "PP_2_12    0.106              \n",
       "PP_2_13    0.108              \n",
       "PP_2_14    0.106              \n",
       "PP_2_15    0.106              \n",
       "PP_2_16    0.106              \n",
       "PP_2_17    0.109              \n",
       "PP_2_18    0.108              \n",
       "PP_2_19    0.108              \n",
       "PP_2_20    0.107              \n",
       "PP_2_21    0.106              \n",
       "PP_3_4                   0.161\n",
       "PP_3_5                   0.136\n",
       "PP_3_6                   0.136\n",
       "PP_3_7                   0.161\n",
       "PP_3_8                   0.161\n",
       "PP_3_9                   0.159\n",
       "PP_3_10                  0.160\n",
       "PP_3_11                  0.160\n",
       "PP_3_12                  0.162\n",
       "PP_3_13                  0.161\n",
       "PP_3_14                  0.160\n",
       "PP_3_15                  0.161\n",
       "PP_3_16                  0.161\n",
       "PP_3_17                  0.161\n",
       "PP_3_18                  0.161\n",
       "PP_3_19                  0.161\n",
       "PP_3_20                  0.161\n",
       "PP_3_21                  0.161\n",
       "PP_4_5                  -0.164\n",
       "PP_4_6                  -0.170\n",
       "PP_4_7                  -0.203\n",
       "PP_4_8                  -0.203\n",
       "PP_4_9                  -0.182\n",
       "PP_4_10                 -0.135\n",
       "PP_4_11                 -0.207\n",
       "PP_4_12                 -0.211\n",
       "PP_4_13                 -0.211\n",
       "PP_4_14                 -0.208\n",
       "PP_4_15                 -0.210\n",
       "PP_4_16                 -0.209\n",
       "PP_4_17                 -0.209\n",
       "PP_4_18                 -0.210\n",
       "PP_4_19                 -0.209\n",
       "PP_4_20                 -0.209\n",
       "PP_4_21                 -0.209\n",
       "PP_5_6                        \n",
       "PP_5_7           -0.114       \n",
       "PP_5_8           -0.110       \n",
       "PP_5_9                        \n",
       "PP_5_10                       \n",
       "PP_5_11          -0.105       \n",
       "PP_5_12          -0.103       \n",
       "PP_5_13          -0.102       \n",
       "PP_5_14          -0.105       \n",
       "PP_5_15          -0.103       \n",
       "PP_5_16          -0.103       \n",
       "PP_5_17          -0.105       \n",
       "PP_5_18          -0.103       \n",
       "PP_5_19          -0.102       \n",
       "PP_5_20          -0.104       \n",
       "PP_5_21          -0.102       \n",
       "PP_6_7           -0.113       \n",
       "PP_6_8           -0.109       \n",
       "PP_6_9                        \n",
       "PP_6_10                       \n",
       "PP_6_11          -0.104       \n",
       "PP_6_12          -0.102       \n",
       "PP_6_13          -0.102       \n",
       "PP_6_14          -0.103       \n",
       "PP_6_15          -0.102       \n",
       "PP_6_16          -0.102       \n",
       "PP_6_17          -0.105       \n",
       "PP_6_18          -0.102       \n",
       "PP_6_19          -0.101       \n",
       "PP_6_20          -0.104       \n",
       "PP_6_21          -0.102       \n",
       "PP_7_8           -0.115       \n",
       "PP_7_9           -0.120       \n",
       "PP_7_10                       \n",
       "PP_7_11          -0.109       \n",
       "PP_7_12          -0.110       \n",
       "PP_7_13          -0.108       \n",
       "PP_7_14          -0.120       \n",
       "PP_7_15          -0.109       \n",
       "PP_7_16          -0.112       \n",
       "PP_7_17                       \n",
       "PP_7_18                       \n",
       "PP_7_19                       \n",
       "PP_7_20                       \n",
       "PP_7_21          -0.107       \n",
       "PP_8_9           -0.111       \n",
       "PP_8_10                       \n",
       "PP_8_11                       \n",
       "PP_8_12                       \n",
       "PP_8_13                       \n",
       "PP_8_14                       \n",
       "PP_8_15                       \n",
       "PP_8_16                       \n",
       "PP_8_17                       \n",
       "PP_8_18                       \n",
       "PP_8_19                       \n",
       "PP_8_20                       \n",
       "PP_8_21                       \n",
       "PP_9_10                       \n",
       "PP_9_11          -0.106       \n",
       "PP_9_12          -0.104       \n",
       "PP_9_13          -0.104       \n",
       "PP_9_14          -0.115       \n",
       "PP_9_15          -0.105       \n",
       "PP_9_16          -0.105       \n",
       "PP_9_17                       \n",
       "PP_9_18                       \n",
       "PP_9_19                       \n",
       "PP_9_20          -0.100       \n",
       "PP_9_21          -0.103       \n",
       "PP_10_11                      \n",
       "PP_10_12                      \n",
       "PP_10_13                      \n",
       "PP_10_14                      \n",
       "PP_10_15                      \n",
       "PP_10_16                      \n",
       "PP_10_17                      \n",
       "PP_10_18                      \n",
       "PP_10_19                      \n",
       "PP_10_20                      \n",
       "PP_10_21                      \n",
       "PP_11_12                      \n",
       "PP_11_13                      \n",
       "PP_11_14                      \n",
       "PP_11_15                      \n",
       "PP_11_16                      \n",
       "PP_11_17                      \n",
       "PP_11_18                      \n",
       "PP_11_19                      \n",
       "PP_11_20                      \n",
       "PP_11_21                      \n",
       "PP_12_13                      \n",
       "PP_12_14                      \n",
       "PP_12_15                      \n",
       "PP_12_16                      \n",
       "PP_12_17   0.102              \n",
       "PP_12_18                      \n",
       "PP_12_19                      \n",
       "PP_12_20   0.105              \n",
       "PP_12_21                      \n",
       "PP_13_14                      \n",
       "PP_13_15                      \n",
       "PP_13_16                      \n",
       "PP_13_17   0.102              \n",
       "PP_13_18                      \n",
       "PP_13_19                      \n",
       "PP_13_20   0.101              \n",
       "PP_13_21                      \n",
       "PP_14_15                      \n",
       "PP_14_16                      \n",
       "PP_14_17                      \n",
       "PP_14_18                      \n",
       "PP_14_19                      \n",
       "PP_14_20                      \n",
       "PP_14_21                      \n",
       "PP_15_16                      \n",
       "PP_15_17   0.113              \n",
       "PP_15_18   0.106              \n",
       "PP_15_19   0.109              \n",
       "PP_15_20   0.108              \n",
       "PP_15_21                      \n",
       "PP_16_17   0.108              \n",
       "PP_16_18   0.109              \n",
       "PP_16_19   0.108              \n",
       "PP_16_20   0.105              \n",
       "PP_16_21                      \n",
       "PP_17_18                      \n",
       "PP_17_19                      \n",
       "PP_17_20                      \n",
       "PP_17_21   0.104              \n",
       "PP_18_19                      \n",
       "PP_18_20   0.105              \n",
       "PP_18_21   0.105              \n",
       "PP_19_20   0.102              \n",
       "PP_19_21   0.105              \n",
       "PP_20_21                      \n",
       "\n",
       "               Comp 1 Comp 2 Comp 3\n",
       "SS loadings     1.269  1.117  1.610\n",
       "Proportion Var  0.005  0.004  0.006\n",
       "Cumulative Var  0.005  0.009  0.016"
      ]
     },
     "metadata": {},
     "output_type": "display_data"
    },
    {
     "data": {
      "text/plain": [
       "\n",
       "Loadings:\n",
       "          Comp 1 Comp 2 Comp 3\n",
       "PP1        0.119              \n",
       "PP2                           \n",
       "PP3                     -0.123\n",
       "PP4                           \n",
       "PP5                           \n",
       "PP6                           \n",
       "PP7                           \n",
       "PP8                           \n",
       "PP9                           \n",
       "PP10                          \n",
       "PP11                    -0.127\n",
       "PP12                          \n",
       "PP13                          \n",
       "PP14                    -0.122\n",
       "PP15                          \n",
       "PP16                          \n",
       "PP17                          \n",
       "PP18                          \n",
       "PP19                          \n",
       "PP20                          \n",
       "PP21                          \n",
       "PP1_sqrd   0.110              \n",
       "PP2_sqrd                -0.185\n",
       "PP3_sqrd                -0.124\n",
       "PP4_sqrd                      \n",
       "PP5_sqrd                      \n",
       "PP6_sqrd                      \n",
       "PP7_sqrd                      \n",
       "PP8_sqrd                      \n",
       "PP9_sqrd                      \n",
       "PP10_sqrd                     \n",
       "PP11_sqrd               -0.127\n",
       "PP12_sqrd                     \n",
       "PP13_sqrd                     \n",
       "PP14_sqrd               -0.121\n",
       "PP15_sqrd                     \n",
       "PP16_sqrd                     \n",
       "PP17_sqrd                     \n",
       "PP18_sqrd                     \n",
       "PP19_sqrd                     \n",
       "PP20_sqrd                     \n",
       "PP21_sqrd                     \n",
       "PP_1_2     0.107              \n",
       "PP_1_3                        \n",
       "PP_1_4                        \n",
       "PP_1_5                        \n",
       "PP_1_6                        \n",
       "PP_1_7                        \n",
       "PP_1_8                        \n",
       "PP_1_9                        \n",
       "PP_1_10                       \n",
       "PP_1_11                       \n",
       "PP_1_12                       \n",
       "PP_1_13                       \n",
       "PP_1_14                       \n",
       "PP_1_15                       \n",
       "PP_1_16                       \n",
       "PP_1_17                       \n",
       "PP_1_18                       \n",
       "PP_1_19                       \n",
       "PP_1_20                       \n",
       "PP_1_21                       \n",
       "PP_2_3                   0.108\n",
       "PP_2_4                  -0.179\n",
       "PP_2_5                        \n",
       "PP_2_6                        \n",
       "PP_2_7     0.111              \n",
       "PP_2_8     0.115              \n",
       "PP_2_9                        \n",
       "PP_2_10    0.107              \n",
       "PP_2_11    0.120              \n",
       "PP_2_12    0.117              \n",
       "PP_2_13    0.119              \n",
       "PP_2_14    0.115              \n",
       "PP_2_15    0.117              \n",
       "PP_2_16    0.119              \n",
       "PP_2_17    0.124              \n",
       "PP_2_18    0.124              \n",
       "PP_2_19    0.123              \n",
       "PP_2_20    0.122              \n",
       "PP_2_21    0.119              \n",
       "PP_3_4                   0.122\n",
       "PP_3_5                        \n",
       "PP_3_6                        \n",
       "PP_3_7                        \n",
       "PP_3_8                        \n",
       "PP_3_9                        \n",
       "PP_3_10                       \n",
       "PP_3_11                       \n",
       "PP_3_12                       \n",
       "PP_3_13                       \n",
       "PP_3_14                       \n",
       "PP_3_15                       \n",
       "PP_3_16                       \n",
       "PP_3_17                       \n",
       "PP_3_18                       \n",
       "PP_3_19                       \n",
       "PP_3_20                       \n",
       "PP_3_21                       \n",
       "PP_4_5                        \n",
       "PP_4_6                        \n",
       "PP_4_7                  -0.114\n",
       "PP_4_8                  -0.113\n",
       "PP_4_9                        \n",
       "PP_4_10                       \n",
       "PP_4_11                 -0.116\n",
       "PP_4_12                 -0.137\n",
       "PP_4_13                 -0.132\n",
       "PP_4_14                 -0.122\n",
       "PP_4_15                 -0.136\n",
       "PP_4_16                 -0.128\n",
       "PP_4_17                 -0.124\n",
       "PP_4_18                 -0.132\n",
       "PP_4_19                 -0.130\n",
       "PP_4_20                 -0.123\n",
       "PP_4_21                 -0.128\n",
       "PP_5_6                        \n",
       "PP_5_7                        \n",
       "PP_5_8                        \n",
       "PP_5_9                        \n",
       "PP_5_10                       \n",
       "PP_5_11                       \n",
       "PP_5_12                       \n",
       "PP_5_13                       \n",
       "PP_5_14                       \n",
       "PP_5_15                       \n",
       "PP_5_16                       \n",
       "PP_5_17                       \n",
       "PP_5_18                       \n",
       "PP_5_19                       \n",
       "PP_5_20                       \n",
       "PP_5_21                       \n",
       "PP_6_7                        \n",
       "PP_6_8                        \n",
       "PP_6_9                        \n",
       "PP_6_10                       \n",
       "PP_6_11                       \n",
       "PP_6_12                       \n",
       "PP_6_13                       \n",
       "PP_6_14                       \n",
       "PP_6_15                       \n",
       "PP_6_16                       \n",
       "PP_6_17                       \n",
       "PP_6_18                       \n",
       "PP_6_19                       \n",
       "PP_6_20                       \n",
       "PP_6_21                       \n",
       "PP_7_8                        \n",
       "PP_7_9           -0.104       \n",
       "PP_7_10                       \n",
       "PP_7_11                       \n",
       "PP_7_12          -0.113       \n",
       "PP_7_13          -0.104       \n",
       "PP_7_14          -0.111       \n",
       "PP_7_15          -0.110       \n",
       "PP_7_16                       \n",
       "PP_7_17                       \n",
       "PP_7_18                       \n",
       "PP_7_19                       \n",
       "PP_7_20                       \n",
       "PP_7_21                       \n",
       "PP_8_9                        \n",
       "PP_8_10                       \n",
       "PP_8_11                       \n",
       "PP_8_12                       \n",
       "PP_8_13                       \n",
       "PP_8_14                       \n",
       "PP_8_15                       \n",
       "PP_8_16                       \n",
       "PP_8_17                       \n",
       "PP_8_18                       \n",
       "PP_8_19                       \n",
       "PP_8_20                       \n",
       "PP_8_21                       \n",
       "PP_9_10                       \n",
       "PP_9_11                       \n",
       "PP_9_12          -0.100       \n",
       "PP_9_13                       \n",
       "PP_9_14          -0.107       \n",
       "PP_9_15          -0.101       \n",
       "PP_9_16                       \n",
       "PP_9_17                       \n",
       "PP_9_18                       \n",
       "PP_9_19                       \n",
       "PP_9_20                       \n",
       "PP_9_21                       \n",
       "PP_10_11                      \n",
       "PP_10_12                      \n",
       "PP_10_13                      \n",
       "PP_10_14                      \n",
       "PP_10_15                      \n",
       "PP_10_16                      \n",
       "PP_10_17                      \n",
       "PP_10_18                      \n",
       "PP_10_19                      \n",
       "PP_10_20                      \n",
       "PP_10_21                      \n",
       "PP_11_12                      \n",
       "PP_11_13                      \n",
       "PP_11_14                      \n",
       "PP_11_15                      \n",
       "PP_11_16                      \n",
       "PP_11_17                      \n",
       "PP_11_18                      \n",
       "PP_11_19                      \n",
       "PP_11_20                      \n",
       "PP_11_21                      \n",
       "PP_12_13                      \n",
       "PP_12_14         -0.104       \n",
       "PP_12_15                -0.136\n",
       "PP_12_16                      \n",
       "PP_12_17                      \n",
       "PP_12_18                      \n",
       "PP_12_19                      \n",
       "PP_12_20                      \n",
       "PP_12_21                      \n",
       "PP_13_14                      \n",
       "PP_13_15                      \n",
       "PP_13_16                      \n",
       "PP_13_17                      \n",
       "PP_13_18                      \n",
       "PP_13_19                      \n",
       "PP_13_20                      \n",
       "PP_13_21                      \n",
       "PP_14_15         -0.102       \n",
       "PP_14_16                      \n",
       "PP_14_17                      \n",
       "PP_14_18                      \n",
       "PP_14_19                      \n",
       "PP_14_20                      \n",
       "PP_14_21                      \n",
       "PP_15_16                      \n",
       "PP_15_17                      \n",
       "PP_15_18                      \n",
       "PP_15_19                      \n",
       "PP_15_20                      \n",
       "PP_15_21                      \n",
       "PP_16_17                      \n",
       "PP_16_18                      \n",
       "PP_16_19                      \n",
       "PP_16_20                      \n",
       "PP_16_21                      \n",
       "PP_17_18   0.102              \n",
       "PP_17_19   0.100              \n",
       "PP_17_20                      \n",
       "PP_17_21                      \n",
       "PP_18_19                      \n",
       "PP_18_20   0.103              \n",
       "PP_18_21                      \n",
       "PP_19_20                      \n",
       "PP_19_21                      \n",
       "PP_20_21                      \n",
       "\n",
       "               Comp 1 Comp 2 Comp 3\n",
       "SS loadings     1.000  1.000  1.000\n",
       "Proportion Var  0.004  0.004  0.004\n",
       "Cumulative Var  0.004  0.008  0.012"
      ]
     },
     "metadata": {},
     "output_type": "display_data"
    },
    {
     "data": {
      "text/html": [
       "<table>\n",
       "<thead><tr><th></th><th scope=col>Comp 1</th><th scope=col>Comp 2</th><th scope=col>Comp 3</th></tr></thead>\n",
       "<tbody>\n",
       "\t<tr><th scope=row>PP1</th><td> 0.118759210</td><td> 0.09149002 </td><td>-0.035766133</td></tr>\n",
       "\t<tr><th scope=row>PP2</th><td>-0.072409509</td><td>-0.09061438 </td><td> 0.042277453</td></tr>\n",
       "\t<tr><th scope=row>PP3</th><td>-0.055474404</td><td>-0.08005158 </td><td>-0.150769805</td></tr>\n",
       "\t<tr><th scope=row>PP4</th><td> 0.009646413</td><td>-0.07518959 </td><td> 0.036989695</td></tr>\n",
       "\t<tr><th scope=row>PP5</th><td>-0.010200806</td><td>-0.09426079 </td><td>-0.002032959</td></tr>\n",
       "\t<tr><th scope=row>PP6</th><td>-0.006936449</td><td>-0.09444220 </td><td> 0.013558782</td></tr>\n",
       "\t<tr><th scope=row>PP7</th><td> 0.006389051</td><td>-0.05483053 </td><td> 0.034255844</td></tr>\n",
       "\t<tr><th scope=row>PP8</th><td>-0.017556883</td><td>-0.09944592 </td><td> 0.004456789</td></tr>\n",
       "\t<tr><th scope=row>PP9</th><td> 0.082713952</td><td> 0.06096664 </td><td> 0.090159742</td></tr>\n",
       "\t<tr><th scope=row>PP10</th><td> 0.059825142</td><td> 0.01285354 </td><td> 0.067609998</td></tr>\n",
       "\t<tr><th scope=row>PP11</th><td> 0.028248507</td><td>-0.07271316 </td><td>-0.152009192</td></tr>\n",
       "\t<tr><th scope=row>PP12</th><td> 0.047246894</td><td>-0.04498210 </td><td>-0.073874483</td></tr>\n",
       "\t<tr><th scope=row>PP13</th><td> 0.012796823</td><td>-0.06554987 </td><td>-0.050972228</td></tr>\n",
       "\t<tr><th scope=row>PP14</th><td> 0.041891221</td><td>-0.06583521 </td><td>-0.144832909</td></tr>\n",
       "\t<tr><th scope=row>PP15</th><td> 0.054676541</td><td>-0.03739935 </td><td>-0.016162240</td></tr>\n",
       "\t<tr><th scope=row>PP16</th><td> 0.094966066</td><td> 0.05773261 </td><td> 0.072468186</td></tr>\n",
       "\t<tr><th scope=row>PP17</th><td> 0.091678197</td><td> 0.04706831 </td><td> 0.008517196</td></tr>\n",
       "\t<tr><th scope=row>PP18</th><td> 0.090570072</td><td> 0.03847118 </td><td> 0.006273106</td></tr>\n",
       "\t<tr><th scope=row>PP19</th><td> 0.082658086</td><td> 0.03128104 </td><td> 0.029265391</td></tr>\n",
       "\t<tr><th scope=row>PP20</th><td> 0.052184559</td><td>-0.03861413 </td><td>-0.042155469</td></tr>\n",
       "\t<tr><th scope=row>PP21</th><td> 0.040099784</td><td>-0.06039249 </td><td>-0.065947953</td></tr>\n",
       "\t<tr><th scope=row>PP1_sqrd</th><td> 0.109750194</td><td> 0.09132392 </td><td>-0.042114447</td></tr>\n",
       "\t<tr><th scope=row>PP2_sqrd</th><td>-0.016191825</td><td>-0.01401890 </td><td>-0.189888503</td></tr>\n",
       "\t<tr><th scope=row>PP3_sqrd</th><td>-0.044230936</td><td>-0.06728901 </td><td>-0.147366952</td></tr>\n",
       "\t<tr><th scope=row>PP4_sqrd</th><td> 0.008673256</td><td>-0.07532407 </td><td> 0.029980954</td></tr>\n",
       "\t<tr><th scope=row>PP5_sqrd</th><td>-0.011842822</td><td>-0.09324287 </td><td>-0.009215439</td></tr>\n",
       "\t<tr><th scope=row>PP6_sqrd</th><td>-0.007647740</td><td>-0.09589922 </td><td> 0.016639546</td></tr>\n",
       "\t<tr><th scope=row>PP7_sqrd</th><td> 0.004509228</td><td>-0.05876404 </td><td> 0.033520564</td></tr>\n",
       "\t<tr><th scope=row>PP8_sqrd</th><td>-0.016234346</td><td>-0.09912730 </td><td> 0.003892938</td></tr>\n",
       "\t<tr><th scope=row>PP9_sqrd</th><td> 0.072309340</td><td> 0.05770022 </td><td> 0.102671900</td></tr>\n",
       "\t<tr><th scope=row>...</th><td>...</td><td>...</td><td>...</td></tr>\n",
       "\t<tr><th scope=row>223</th><td>0.07746043   </td><td>-0.0056675124</td><td>-0.021043936 </td></tr>\n",
       "\t<tr><th scope=row>224</th><td>0.05700647   </td><td>-0.0477947052</td><td>-0.066116482 </td></tr>\n",
       "\t<tr><th scope=row>225</th><td>0.03087135   </td><td>-0.0858029476</td><td>-0.113717055 </td></tr>\n",
       "\t<tr><th scope=row>226</th><td>0.03699514   </td><td>-0.0669447847</td><td>-0.043832646 </td></tr>\n",
       "\t<tr><th scope=row>227</th><td>0.06411484   </td><td>-0.0039003236</td><td> 0.014988139 </td></tr>\n",
       "\t<tr><th scope=row>228</th><td>0.05996070   </td><td>-0.0239384003</td><td>-0.033957176 </td></tr>\n",
       "\t<tr><th scope=row>229</th><td>0.05590734   </td><td>-0.0329415529</td><td>-0.036996041 </td></tr>\n",
       "\t<tr><th scope=row>230</th><td>0.05230978   </td><td>-0.0263921205</td><td>-0.014819007 </td></tr>\n",
       "\t<tr><th scope=row>231</th><td>0.03545315   </td><td>-0.0706030108</td><td>-0.058612611 </td></tr>\n",
       "\t<tr><th scope=row>232</th><td>0.05128619   </td><td>-0.0527392613</td><td>-0.079234445 </td></tr>\n",
       "\t<tr><th scope=row>233</th><td>0.09439782   </td><td> 0.0128863328</td><td>-0.012421897 </td></tr>\n",
       "\t<tr><th scope=row>234</th><td>0.08049369   </td><td>-0.0067128760</td><td>-0.073045656 </td></tr>\n",
       "\t<tr><th scope=row>235</th><td>0.07903335   </td><td>-0.0164423874</td><td>-0.081528339 </td></tr>\n",
       "\t<tr><th scope=row>236</th><td>0.07895789   </td><td>-0.0140967813</td><td>-0.055628238 </td></tr>\n",
       "\t<tr><th scope=row>237</th><td>0.05239029   </td><td>-0.0584852632</td><td>-0.102747832 </td></tr>\n",
       "\t<tr><th scope=row>238</th><td>0.09523432   </td><td> 0.0238616870</td><td> 0.046094238 </td></tr>\n",
       "\t<tr><th scope=row>239</th><td>0.08917494   </td><td> 0.0082304973</td><td>-0.001697522 </td></tr>\n",
       "\t<tr><th scope=row>240</th><td>0.08503264   </td><td>-0.0006238618</td><td>-0.003771402 </td></tr>\n",
       "\t<tr><th scope=row>241</th><td>0.08252482   </td><td> 0.0001545641</td><td> 0.013122231 </td></tr>\n",
       "\t<tr><th scope=row>242</th><td>0.05854536   </td><td>-0.0408692490</td><td>-0.027029472 </td></tr>\n",
       "\t<tr><th scope=row>243</th><td>0.10174720   </td><td> 0.0595807169</td><td> 0.052899441 </td></tr>\n",
       "\t<tr><th scope=row>244</th><td>0.10012476   </td><td> 0.0560351093</td><td> 0.054089583 </td></tr>\n",
       "\t<tr><th scope=row>245</th><td>0.09672113   </td><td> 0.0506600678</td><td> 0.061006999 </td></tr>\n",
       "\t<tr><th scope=row>246</th><td>0.09274425   </td><td> 0.0264293682</td><td> 0.038792530 </td></tr>\n",
       "\t<tr><th scope=row>247</th><td>0.09478237   </td><td> 0.0472584964</td><td> 0.012628952 </td></tr>\n",
       "\t<tr><th scope=row>248</th><td>0.10254764   </td><td> 0.0475497686</td><td> 0.027700385 </td></tr>\n",
       "\t<tr><th scope=row>249</th><td>0.08663481   </td><td> 0.0100154149</td><td>-0.013511437 </td></tr>\n",
       "\t<tr><th scope=row>250</th><td>0.09662884   </td><td> 0.0403339543</td><td> 0.025579789 </td></tr>\n",
       "\t<tr><th scope=row>251</th><td>0.08320639   </td><td> 0.0016019811</td><td>-0.016161891 </td></tr>\n",
       "\t<tr><th scope=row>252</th><td>0.07660640   </td><td> 0.0019834525</td><td> 0.002936655 </td></tr>\n",
       "</tbody>\n",
       "</table>\n"
      ],
      "text/latex": [
       "\\begin{tabular}{r|lll}\n",
       "  & Comp 1 & Comp 2 & Comp 3\\\\\n",
       "\\hline\n",
       "\tPP1 &  0.118759210 &  0.09149002  & -0.035766133\\\\\n",
       "\tPP2 & -0.072409509 & -0.09061438  &  0.042277453\\\\\n",
       "\tPP3 & -0.055474404 & -0.08005158  & -0.150769805\\\\\n",
       "\tPP4 &  0.009646413 & -0.07518959  &  0.036989695\\\\\n",
       "\tPP5 & -0.010200806 & -0.09426079  & -0.002032959\\\\\n",
       "\tPP6 & -0.006936449 & -0.09444220  &  0.013558782\\\\\n",
       "\tPP7 &  0.006389051 & -0.05483053  &  0.034255844\\\\\n",
       "\tPP8 & -0.017556883 & -0.09944592  &  0.004456789\\\\\n",
       "\tPP9 &  0.082713952 &  0.06096664  &  0.090159742\\\\\n",
       "\tPP10 &  0.059825142 &  0.01285354  &  0.067609998\\\\\n",
       "\tPP11 &  0.028248507 & -0.07271316  & -0.152009192\\\\\n",
       "\tPP12 &  0.047246894 & -0.04498210  & -0.073874483\\\\\n",
       "\tPP13 &  0.012796823 & -0.06554987  & -0.050972228\\\\\n",
       "\tPP14 &  0.041891221 & -0.06583521  & -0.144832909\\\\\n",
       "\tPP15 &  0.054676541 & -0.03739935  & -0.016162240\\\\\n",
       "\tPP16 &  0.094966066 &  0.05773261  &  0.072468186\\\\\n",
       "\tPP17 &  0.091678197 &  0.04706831  &  0.008517196\\\\\n",
       "\tPP18 &  0.090570072 &  0.03847118  &  0.006273106\\\\\n",
       "\tPP19 &  0.082658086 &  0.03128104  &  0.029265391\\\\\n",
       "\tPP20 &  0.052184559 & -0.03861413  & -0.042155469\\\\\n",
       "\tPP21 &  0.040099784 & -0.06039249  & -0.065947953\\\\\n",
       "\tPP1\\_sqrd &  0.109750194 &  0.09132392  & -0.042114447\\\\\n",
       "\tPP2\\_sqrd & -0.016191825 & -0.01401890  & -0.189888503\\\\\n",
       "\tPP3\\_sqrd & -0.044230936 & -0.06728901  & -0.147366952\\\\\n",
       "\tPP4\\_sqrd &  0.008673256 & -0.07532407  &  0.029980954\\\\\n",
       "\tPP5\\_sqrd & -0.011842822 & -0.09324287  & -0.009215439\\\\\n",
       "\tPP6\\_sqrd & -0.007647740 & -0.09589922  &  0.016639546\\\\\n",
       "\tPP7\\_sqrd &  0.004509228 & -0.05876404  &  0.033520564\\\\\n",
       "\tPP8\\_sqrd & -0.016234346 & -0.09912730  &  0.003892938\\\\\n",
       "\tPP9\\_sqrd &  0.072309340 &  0.05770022  &  0.102671900\\\\\n",
       "\t... & ... & ... & ...\\\\\n",
       "\t223 & 0.07746043    & -0.0056675124 & -0.021043936 \\\\\n",
       "\t224 & 0.05700647    & -0.0477947052 & -0.066116482 \\\\\n",
       "\t225 & 0.03087135    & -0.0858029476 & -0.113717055 \\\\\n",
       "\t226 & 0.03699514    & -0.0669447847 & -0.043832646 \\\\\n",
       "\t227 & 0.06411484    & -0.0039003236 &  0.014988139 \\\\\n",
       "\t228 & 0.05996070    & -0.0239384003 & -0.033957176 \\\\\n",
       "\t229 & 0.05590734    & -0.0329415529 & -0.036996041 \\\\\n",
       "\t230 & 0.05230978    & -0.0263921205 & -0.014819007 \\\\\n",
       "\t231 & 0.03545315    & -0.0706030108 & -0.058612611 \\\\\n",
       "\t232 & 0.05128619    & -0.0527392613 & -0.079234445 \\\\\n",
       "\t233 & 0.09439782    &  0.0128863328 & -0.012421897 \\\\\n",
       "\t234 & 0.08049369    & -0.0067128760 & -0.073045656 \\\\\n",
       "\t235 & 0.07903335    & -0.0164423874 & -0.081528339 \\\\\n",
       "\t236 & 0.07895789    & -0.0140967813 & -0.055628238 \\\\\n",
       "\t237 & 0.05239029    & -0.0584852632 & -0.102747832 \\\\\n",
       "\t238 & 0.09523432    &  0.0238616870 &  0.046094238 \\\\\n",
       "\t239 & 0.08917494    &  0.0082304973 & -0.001697522 \\\\\n",
       "\t240 & 0.08503264    & -0.0006238618 & -0.003771402 \\\\\n",
       "\t241 & 0.08252482    &  0.0001545641 &  0.013122231 \\\\\n",
       "\t242 & 0.05854536    & -0.0408692490 & -0.027029472 \\\\\n",
       "\t243 & 0.10174720    &  0.0595807169 &  0.052899441 \\\\\n",
       "\t244 & 0.10012476    &  0.0560351093 &  0.054089583 \\\\\n",
       "\t245 & 0.09672113    &  0.0506600678 &  0.061006999 \\\\\n",
       "\t246 & 0.09274425    &  0.0264293682 &  0.038792530 \\\\\n",
       "\t247 & 0.09478237    &  0.0472584964 &  0.012628952 \\\\\n",
       "\t248 & 0.10254764    &  0.0475497686 &  0.027700385 \\\\\n",
       "\t249 & 0.08663481    &  0.0100154149 & -0.013511437 \\\\\n",
       "\t250 & 0.09662884    &  0.0403339543 &  0.025579789 \\\\\n",
       "\t251 & 0.08320639    &  0.0016019811 & -0.016161891 \\\\\n",
       "\t252 & 0.07660640    &  0.0019834525 &  0.002936655 \\\\\n",
       "\\end{tabular}\n"
      ],
      "text/markdown": [
       "1. 0.118759210143104\n",
       "2. -0.0724095091146267\n",
       "3. -0.0554744042083435\n",
       "4. 0.00964641279427938\n",
       "5. -0.0102008059646998\n",
       "6. -0.00693644913067797\n",
       "7. 0.00638905120317593\n",
       "8. -0.0175568827007907\n",
       "9. 0.0827139523218634\n",
       "10. 0.0598251416476932\n",
       "11. 0.028248506519967\n",
       "12. 0.0472468943627055\n",
       "13. 0.0127968229350684\n",
       "14. 0.0418912207298814\n",
       "15. 0.0546765407485781\n",
       "16. 0.0949660656607866\n",
       "17. 0.0916781973894343\n",
       "18. 0.0905700724585254\n",
       "19. 0.082658086032596\n",
       "20. 0.0521845586488005\n",
       "21. 0.0400997840236248\n",
       "22. 0.109750193556993\n",
       "23. -0.0161918251200028\n",
       "24. -0.0442309363754057\n",
       "25. 0.0086732557500291\n",
       "26. -0.0118428219579139\n",
       "27. -0.0076477396071753\n",
       "28. 0.00450922820213725\n",
       "29. -0.0162343464174463\n",
       "30. 0.0723093404036394\n",
       "31. 0.059493167756089\n",
       "32. 0.0282951446689663\n",
       "33. 0.0480885719527216\n",
       "34. 0.0124109206304009\n",
       "35. 0.0418903700765546\n",
       "36. 0.054617154620188\n",
       "37. 0.0960510767467398\n",
       "38. 0.0918932552194652\n",
       "39. 0.091340700026825\n",
       "40. 0.0822159554258242\n",
       "41. 0.0518584124255105\n",
       "42. 0.0395491005221208\n",
       "43. 0.106998701703561\n",
       "44. -0.0844721779595726\n",
       "45. 0.00801351966189199\n",
       "46. 0.0391660474372573\n",
       "47. 0.0339404475556035\n",
       "48. 0.0569656796072268\n",
       "49. 0.0565142808871247\n",
       "50. 0.0497906523954942\n",
       "51. 0.0937358837223104\n",
       "52. 0.0623607231041819\n",
       "53. 0.0584912216674477\n",
       "54. 0.0599636030826922\n",
       "55. 0.0595095245666144\n",
       "56. 0.0595296349030389\n",
       "57. 0.0610796393824015\n",
       "58. 0.0669803862983135\n",
       "59. 0.0627836291880021\n",
       "60. 0.0624380185233103\n",
       "61. 0.0638331870598921\n",
       "62. 0.0605211547666468\n",
       "63. -0.0509852697856932\n",
       "64. 0.0115242012559608\n",
       "65. 0.0960318668711877\n",
       "66. 0.0913446024006666\n",
       "67. 0.110584902565117\n",
       "68. 0.114639820941852\n",
       "69. 0.0932090722277382\n",
       "70. 0.106744716586119\n",
       "71. 0.120093601986942\n",
       "72. 0.116991031545819\n",
       "73. 0.119160855085716\n",
       "74. 0.115181369037787\n",
       "75. 0.117380603609341\n",
       "76. 0.118829361354677\n",
       "77. 0.123747043964378\n",
       "78. 0.124008817041378\n",
       "79. 0.123434426779664\n",
       "80. 0.121892919582078\n",
       "81. 0.118581606069296\n",
       "82. -0.0573803772400824\n",
       "83. -0.058054843865393\n",
       "84. -0.0578896523822818\n",
       "85. -0.0723287183404719\n",
       "86. -0.0728849200350824\n",
       "87. -0.0707913986092351\n",
       "88. -0.0638057301718352\n",
       "89. -0.0733162581491891\n",
       "90. -0.0722970044190471\n",
       "91. -0.072507801995649\n",
       "92. -0.0719922425534658\n",
       "93. -0.0722795637377752\n",
       "94. -0.0724480535786994\n",
       "95. -0.0723109139950147\n",
       "96. -0.0721639483651012\n",
       "97. -0.0724717125969127\n",
       "98. -0.0726211937595165\n",
       "99. -0.0722987896459886\n",
       "100. -0.0506541056396344\n",
       "101. -0.0558165590229985\n",
       "102. -0.0559939215209539\n",
       "103. -0.052768387630056\n",
       "104. -0.0575951994324178\n",
       "105. 0.0110337685624762\n",
       "106. -0.0507603044045375\n",
       "107. -0.0547435094133279\n",
       "108. -0.0539118169158668\n",
       "109. -0.0529813572661208\n",
       "110. -0.0538743791832051\n",
       "111. -0.0526246943818357\n",
       "112. -0.0477804083490332\n",
       "113. -0.050485096820478\n",
       "114. -0.051055531021092\n",
       "115. -0.0497807079633047\n",
       "116. -0.0533344220152265\n",
       "117. -0.00524501833798115\n",
       "118. 0.00992335262378924\n",
       "119. 0.0128342376482232\n",
       "120. 0.0165972717601732\n",
       "121. 0.0662249240799311\n",
       "122. 0.0145904431613367\n",
       "123. 0.0113437332863113\n",
       "124. 0.0140014921239431\n",
       "125. 0.0127469326574363\n",
       "126. 0.0125185920161455\n",
       "127. 0.01424412017021\n",
       "128. 0.0176620444808564\n",
       "129. 0.0150496615552681\n",
       "130. 0.014655921913517\n",
       "131. 0.0197034315429905\n",
       "132. 0.01619773487337\n",
       "133. -0.00800171054098735\n",
       "134. -0.00521028015854106\n",
       "135. 0.00716940666663994\n",
       "136. 0.0630970834431546\n",
       "137. -0.00428091212024912\n",
       "138. -0.00830489904913055\n",
       "139. -0.00511085707221336\n",
       "140. -0.00575126513421408\n",
       "141. -0.00661731885801701\n",
       "142. -0.0046587140653545\n",
       "143. -0.00156379546224597\n",
       "144. -0.00465125373628794\n",
       "145. -0.0048679569773478\n",
       "146. 0.000570115650350942\n",
       "147. -0.00283492947843877\n",
       "148. -0.00186094852215431\n",
       "149. -0.0161148482877758\n",
       "150. 0.0737541672624434\n",
       "151. 0.0225747079433491\n",
       "152. 0.00413041787126712\n",
       "153. 0.0130204449617107\n",
       "154. 0.00168039283355941\n",
       "155. 0.00928890413401647\n",
       "156. 0.0142022610192805\n",
       "157. 0.042770233081999\n",
       "158. 0.0313796093317051\n",
       "159. 0.0256020030612162\n",
       "160. 0.0291122418281791\n",
       "161. 0.0116057616030622\n",
       "162. -0.0124079057780675\n",
       "163. 0.0773073988639634\n",
       "164. 0.0354066504832594\n",
       "165. 0.0156709522406959\n",
       "166. 0.0249841128558734\n",
       "167. 0.0132558062328964\n",
       "168. 0.0202186783199407\n",
       "169. 0.0266226637786023\n",
       "170. 0.0577911725633649\n",
       "171. 0.0427047718121396\n",
       "172. 0.0389817959757264\n",
       "173. 0.0420591101083226\n",
       "174. 0.0224823740139598\n",
       "175. 0.058607018635327\n",
       "176. -0.000712272256675269\n",
       "177. -0.0106001747667413\n",
       "178. -0.00567356623689584\n",
       "179. -0.0129042106126102\n",
       "180. -0.00815872838350615\n",
       "181. -0.00456558559693595\n",
       "182. 0.0133345841593015\n",
       "183. 0.00362246951835679\n",
       "184. 0.000673478448176893\n",
       "185. 0.00378466745284385\n",
       "186. -0.00638753158502626\n",
       "187. 0.0867637860292232\n",
       "188. 0.0822473573653163\n",
       "189. 0.0832569867517204\n",
       "190. 0.0830105910783306\n",
       "191. 0.0833004335167991\n",
       "192. 0.0830232727484569\n",
       "193. 0.089812301713232\n",
       "194. 0.0890090689782596\n",
       "195. 0.0870146970487373\n",
       "196. 0.0867805367804496\n",
       "197. 0.0827386445950543\n",
       "198. 0.0554702446803151\n",
       "199. 0.0654343539301278\n",
       "200. 0.037057465026101\n",
       "201. 0.0623520406479328\n",
       "202. 0.0675891919296694\n",
       "203. 0.0895067343032094\n",
       "204. 0.0898444901645387\n",
       "205. 0.087238036197111\n",
       "206. 0.0820134308642736\n",
       "207. 0.0707923970000992\n",
       "208. 0.0410105348161004\n",
       "209. 0.0254199760895657\n",
       "210. 0.0376883204200666\n",
       "211. 0.0461452952950591\n",
       "212. 0.0842788689125032\n",
       "213. 0.0694196515255774\n",
       "214. 0.0673938982211902\n",
       "215. 0.0748056963943893\n",
       "216. 0.046706431517669\n",
       "217. 0.0354784515893247\n",
       "218. 0.0502627765539627\n",
       "219. 0.0580778435827265\n",
       "220. 0.0882538958628992\n",
       "221. 0.0771314202657699\n",
       "222. 0.0745345581456819\n",
       "223. 0.0774604331823297\n",
       "224. 0.0570064725708148\n",
       "225. 0.0308713523661731\n",
       "226. 0.036995140833601\n",
       "227. 0.0641148405823294\n",
       "228. 0.0599607015176947\n",
       "229. 0.0559073424437759\n",
       "230. 0.0523097824206947\n",
       "231. 0.035453153684109\n",
       "232. 0.0512861856617165\n",
       "233. 0.0943978198935982\n",
       "234. 0.0804936858341861\n",
       "235. 0.0790333526425747\n",
       "236. 0.0789578850239255\n",
       "237. 0.0523902865806723\n",
       "238. 0.0952343200910093\n",
       "239. 0.0891749414151142\n",
       "240. 0.0850326354263069\n",
       "241. 0.0825248196907469\n",
       "242. 0.0585453589779132\n",
       "243. 0.101747200907984\n",
       "244. 0.100124759058763\n",
       "245. 0.0967211261279273\n",
       "246. 0.0927442511003702\n",
       "247. 0.0947823670867226\n",
       "248. 0.102547644659263\n",
       "249. 0.0866348081697291\n",
       "250. 0.0966288395024042\n",
       "251. 0.0832063889564996\n",
       "252. 0.0766063969061256\n",
       "253. 0.091490016678048\n",
       "254. -0.0906143760557771\n",
       "255. -0.0800515839501336\n",
       "256. -0.0751895853694775\n",
       "257. -0.0942607887251757\n",
       "258. -0.0944422013723934\n",
       "259. -0.0548305309491091\n",
       "260. -0.0994459182597753\n",
       "261. 0.0609666358003983\n",
       "262. 0.0128535413534653\n",
       "263. -0.0727131567514428\n",
       "264. -0.0449820970575523\n",
       "265. -0.0655498660144319\n",
       "266. -0.0658352056998438\n",
       "267. -0.0373993493200959\n",
       "268. 0.0577326102124064\n",
       "269. 0.0470683082766002\n",
       "270. 0.0384711829106078\n",
       "271. 0.0312810375656756\n",
       "272. -0.0386141278629509\n",
       "273. -0.0603924920720014\n",
       "274. 0.0913239154384286\n",
       "275. -0.014018897944144\n",
       "276. -0.0672890055566867\n",
       "277. -0.075324068051772\n",
       "278. -0.093242873570874\n",
       "279. -0.0958992249779924\n",
       "280. -0.058764043726985\n",
       "281. -0.099127298017719\n",
       "282. 0.0577002228528188\n",
       "283. 0.0119807842784648\n",
       "284. -0.0723745280822976\n",
       "285. -0.0433845746646787\n",
       "286. -0.0663125985230252\n",
       "287. -0.0653924689321533\n",
       "288. -0.0360645049780854\n",
       "289. 0.0597261922502016\n",
       "290. 0.0489287345196686\n",
       "291. 0.0412489673312869\n",
       "292. 0.0314524883674088\n",
       "293. -0.0386542569102066\n",
       "294. -0.0608598840709666\n",
       "295. 0.120675248684119\n",
       "296. -0.104672183214465\n",
       "297. 0.0129883324341433\n",
       "298. 0.0248917141345386\n",
       "299. 0.0188162772914868\n",
       "300. 0.0685567235946591\n",
       "301. 0.0731566718365842\n",
       "302. 0.0520661562304652\n",
       "303. 0.10066842760898\n",
       "304. 0.0837642086207197\n",
       "305. 0.0763327632709475\n",
       "306. 0.0781530402259513\n",
       "307. 0.0775030913444506\n",
       "308. 0.0778601848376176\n",
       "309. 0.0802633447937163\n",
       "310. 0.0880156027693638\n",
       "311. 0.0838562107792521\n",
       "312. 0.0837581338137748\n",
       "313. 0.0850582731785032\n",
       "314. 0.0802256007480381\n",
       "315. -0.0757630573249474\n",
       "316. -0.0323319627791982\n",
       "317. 0.0411337690801795\n",
       "318. 0.0347657610554227\n",
       "319. 0.0692271190092445\n",
       "320. 0.0782901817967203\n",
       "321. 0.0397014643298543\n",
       "322. 0.0855600552986875\n",
       "323. 0.0887959422452811\n",
       "324. 0.0819754011703538\n",
       "325. 0.0834688898972442\n",
       "326. 0.0780897246136983\n",
       "327. 0.0831446727691013\n",
       "328. 0.0859555777137243\n",
       "329. 0.093327474132312\n",
       "330. 0.0943613290701185\n",
       "331. 0.0933801928799765\n",
       "332. 0.0911849548738487\n",
       "333. 0.0865391307832609\n",
       "334. -0.06469213242508\n",
       "335. -0.0678843823269898\n",
       "336. -0.0689231619836839\n",
       "337. -0.0919428877924667\n",
       "338. -0.0953690834024296\n",
       "339. -0.0848825446134191\n",
       "340. -0.0772711280627202\n",
       "341. -0.0916601430724849\n",
       "342. -0.0902229481631869\n",
       "343. -0.0907854075950575\n",
       "344. -0.0892644043218698\n",
       "345. -0.0911725806515891\n",
       "346. -0.0907887037028608\n",
       "347. -0.0897446509784921\n",
       "348. -0.0903119964053739\n",
       "349. -0.0906457962713315\n",
       "350. -0.0919572002842964\n",
       "351. -0.0914597015637042\n",
       "352. -0.100390150065483\n",
       "353. -0.104701416667226\n",
       "354. -0.0930315754585252\n",
       "355. -0.0850302921574015\n",
       "356. -0.103693458291794\n",
       "357. -0.0298643721728099\n",
       "358. -0.0791628609862162\n",
       "359. -0.0876013873845035\n",
       "360. -0.0869528085637925\n",
       "361. -0.0845640818907646\n",
       "362. -0.0869204179637861\n",
       "363. -0.0854105350577858\n",
       "364. -0.0776847195596513\n",
       "365. -0.0799343835718424\n",
       "366. -0.0800086379045938\n",
       "367. -0.0789450525276991\n",
       "368. -0.0850151166489389\n",
       "369. -0.0897534937521933\n",
       "370. -0.0857373153554418\n",
       "371. -0.0790428234262805\n",
       "372. -0.0600971291667297\n",
       "373. 0.0246206131381294\n",
       "374. -0.0757289579721557\n",
       "375. -0.0806365827250214\n",
       "376. -0.0763393897500857\n",
       "377. -0.0811125955052825\n",
       "378. -0.0803489947500997\n",
       "379. -0.0755343625348059\n",
       "380. -0.0739215925342259\n",
       "381. -0.076139780504927\n",
       "382. -0.0749819539997494\n",
       "383. -0.0710660653134079\n",
       "384. -0.0738127773173435\n",
       "385. -0.103995050480792\n",
       "386. -0.0979006414627366\n",
       "387. -0.0692954479105057\n",
       "388. 0.0208994866606221\n",
       "389. -0.0942443534241963\n",
       "390. -0.10138298530498\n",
       "391. -0.096310013955057\n",
       "392. -0.0987621112151277\n",
       "393. -0.100267785191312\n",
       "394. -0.0953188908368414\n",
       "395. -0.0941125812361856\n",
       "396. -0.0969994676203488\n",
       "397. -0.0951928742583116\n",
       "398. -0.0915320783185689\n",
       "399. -0.0942588165367274\n",
       "400. -0.0936151400255957\n",
       "401. -0.112024429689907\n",
       "402. 0.041508374987743\n",
       "403. -0.074149719628177\n",
       "404. -0.111277078915861\n",
       "405. -0.0970754007207656\n",
       "406. -0.110131448448872\n",
       "407. -0.105483982542722\n",
       "408. -0.09191291110732\n",
       "409. -0.0399927121026835\n",
       "410. -0.0636153401507259\n",
       "411. -0.0692184863604664\n",
       "412. -0.0613227323497544\n",
       "413. -0.090080728834351\n",
       "414. -0.0994799528306355\n",
       "415. 0.0492947748053539\n",
       "416. -0.038522823562067\n",
       "417. -0.0747574757577549\n",
       "418. -0.063793497527723\n",
       "419. -0.0798938683285687\n",
       "420. -0.0693236235154261\n",
       "421. -0.0583690669991324\n",
       "422. -0.00975169532845203\n",
       "423. -0.024986142716247\n",
       "424. -0.0314974420023365\n",
       "425. -0.0288479320506602\n",
       "426. -0.0574953154451344\n",
       "427. 0.0220364173412877\n",
       "428. -0.0891674519621479\n",
       "429. -0.10584233068694\n",
       "430. -0.0995305510951865\n",
       "431. -0.113353602588432\n",
       "432. -0.104855747488969\n",
       "433. -0.0954296591296894\n",
       "434. -0.0725541812269226\n",
       "435. -0.0844883354576012\n",
       "436. -0.086885556640609\n",
       "437. -0.084733115714446\n",
       "438. -0.0965433390889633\n",
       "439. 0.0605496669607084\n",
       "440. 0.0539724040004768\n",
       "441. 0.0546319448375849\n",
       "442. 0.0520658381036223\n",
       "443. 0.0553475038633972\n",
       "444. 0.0566500158279105\n",
       "445. 0.0649476038018951\n",
       "446. 0.0644690453343154\n",
       "447. 0.062285030077915\n",
       "448. 0.0610954916701557\n",
       "449. 0.0570227522706653\n",
       "450. -0.0304000713085017\n",
       "451. -0.01787335403503\n",
       "452. -0.0315768961831581\n",
       "453. -0.0263259087699951\n",
       "454. -0.0112870078025749\n",
       "455. 0.0419191854518487\n",
       "456. 0.0349227003380756\n",
       "457. 0.0288081361930685\n",
       "458. 0.0250922866545127\n",
       "459. -0.0104801998134577\n",
       "460. -0.0610134700676603\n",
       "461. -0.0913049061056141\n",
       "462. -0.0758615864199001\n",
       "463. -0.0601251999908504\n",
       "464. 0.0089484081666495\n",
       "465. -0.0105986331354946\n",
       "466. -0.0201253862683612\n",
       "467. -0.0195206225285708\n",
       "468. -0.0658380355516712\n",
       "469. -0.0735239068395663\n",
       "470. -0.0619242782058339\n",
       "471. -0.0464447332608786\n",
       "472. 0.0184238829424767\n",
       "473. 0.00227886826433168\n",
       "474. -0.00521691288958869\n",
       "475. -0.00566751237354413\n",
       "476. -0.0477947051533028\n",
       "477. -0.0858029476476996\n",
       "478. -0.066944784677969\n",
       "479. -0.00390032364738487\n",
       "480. -0.0239384003215287\n",
       "481. -0.0329415529351911\n",
       "482. -0.0263921205260408\n",
       "483. -0.070603010794968\n",
       "484. -0.0527392613233476\n",
       "485. 0.0128863327974743\n",
       "486. -0.00671287602921265\n",
       "487. -0.0164423873683305\n",
       "488. -0.0140967812607035\n",
       "489. -0.0584852632142662\n",
       "490. 0.0238616869987244\n",
       "491. 0.00823049733095672\n",
       "492. -0.000623861753569217\n",
       "493. 0.000154564124376394\n",
       "494. -0.0408692489521532\n",
       "495. 0.0595807168528654\n",
       "496. 0.0560351092588763\n",
       "497. 0.0506600677944922\n",
       "498. 0.0264293682041211\n",
       "499. 0.0472584963868539\n",
       "500. 0.0475497685835978\n",
       "501. 0.0100154148925213\n",
       "502. 0.0403339542829689\n",
       "503. 0.00160198107072147\n",
       "504. 0.0019834525332406\n",
       "505. -0.0357661325573896\n",
       "506. 0.0422774533993319\n",
       "507. -0.150769804717954\n",
       "508. 0.0369896951463593\n",
       "509. -0.00203295890563543\n",
       "510. 0.0135587818225286\n",
       "511. 0.0342558443248276\n",
       "512. 0.00445678917760216\n",
       "513. 0.0901597416707985\n",
       "514. 0.0676099980584309\n",
       "515. -0.152009192464794\n",
       "516. -0.0738744829930686\n",
       "517. -0.0509722284511018\n",
       "518. -0.144832908730484\n",
       "519. -0.0161622403248871\n",
       "520. 0.0724681863373784\n",
       "521. 0.00851719566835735\n",
       "522. 0.00627310569765791\n",
       "523. 0.0292653908029154\n",
       "524. -0.0421554687533442\n",
       "525. -0.065947952915666\n",
       "526. -0.0421144465492263\n",
       "527. -0.189888503006758\n",
       "528. -0.147366952016845\n",
       "529. 0.0299809543954023\n",
       "530. -0.00921543872692515\n",
       "531. 0.0166395461856935\n",
       "532. 0.0335205642713999\n",
       "533. 0.00389293826070289\n",
       "534. 0.10267190037635\n",
       "535. 0.0666487022628375\n",
       "536. -0.152061424515257\n",
       "537. -0.0701536248724878\n",
       "538. -0.0537730907889076\n",
       "539. -0.143061026990979\n",
       "540. -0.0120075793084349\n",
       "541. 0.0760436459901349\n",
       "542. 0.0123185807530542\n",
       "543. 0.0112311228672852\n",
       "544. 0.0324867511672824\n",
       "545. -0.0390940776344662\n",
       "546. -0.06298886191799\n",
       "547. 0.0485149957068172\n",
       "548. -0.00134170179725077\n",
       "549. -0.0429765284362717\n",
       "550. -0.000708238108967314\n",
       "551. -0.0129413485131901\n",
       "552. 0.0543305131835991\n",
       "553. 0.0594490086871837\n",
       "554. 0.0455817688572208\n",
       "555. 0.080199343061417\n",
       "556. 0.0632842881456138\n",
       "557. 0.0495103378150246\n",
       "558. 0.0536157353199528\n",
       "559. 0.0520073382476691\n",
       "560. 0.0496525370567485\n",
       "561. 0.0574393064433701\n",
       "562. 0.0657678901286961\n",
       "563. 0.0603512935106171\n",
       "564. 0.0605408256807547\n",
       "565. 0.0610046805280247\n",
       "566. 0.055772303126446\n",
       "567. 0.0822102153212088\n",
       "568. -0.190356177000863\n",
       "569. 0.0105182456737822\n",
       "570. -0.0123550626343691\n",
       "571. -0.0209382083754499\n",
       "572. -0.0221325347180183\n",
       "573. -0.0155004769205606\n",
       "574. 0.0459076325644125\n",
       "575. -0.0240381395011639\n",
       "576. -0.04823229010894\n",
       "577. -0.0415848072279549\n",
       "578. -0.0397288488923084\n",
       "579. -0.0433758975643406\n",
       "580. -0.0304469511504463\n",
       "581. -0.0254771759813382\n",
       "582. -0.0319583744260537\n",
       "583. -0.0327171040676335\n",
       "584. -0.0288425165247342\n",
       "585. -0.0327676430125199\n",
       "586. 0.100247875414026\n",
       "587. 0.0148086992575019\n",
       "588. 0.0217022854808461\n",
       "589. 0.033165940850161\n",
       "590. 0.0298052378013569\n",
       "591. 0.0273728832106342\n",
       "592. 0.0613262303508724\n",
       "593. 0.03689937735368\n",
       "594. 0.0435636255620188\n",
       "595. 0.0393565459239457\n",
       "596. 0.0404485544918365\n",
       "597. 0.0410731303717543\n",
       "598. 0.0408063883247655\n",
       "599. 0.0454581288569125\n",
       "600. 0.0450333992083604\n",
       "601. 0.0438346901831116\n",
       "602. 0.0378110946532687\n",
       "603. 0.0391858909639119\n",
       "604. -0.0997325848679477\n",
       "605. -0.117465688236079\n",
       "606. -0.146338955650886\n",
       "607. -0.142235408668799\n",
       "608. -0.131944371490088\n",
       "609. -0.0848795915446773\n",
       "610. -0.143334558816198\n",
       "611. -0.167023674884919\n",
       "612. -0.161820487262048\n",
       "613. -0.151112301467877\n",
       "614. -0.16613739559104\n",
       "615. -0.157071655731249\n",
       "616. -0.150987223477583\n",
       "617. -0.158910415870302\n",
       "618. -0.157027947399672\n",
       "619. -0.150256803889295\n",
       "620. -0.157522990380529\n",
       "621. 0.00516252962727772\n",
       "622. 0.0373184151848808\n",
       "623. 0.0423984399682918\n",
       "624. 0.0624931860389103\n",
       "625. 0.10177870039607\n",
       "626. 0.0383197310406055\n",
       "627. 0.0208123184878488\n",
       "628. 0.0287544905563373\n",
       "629. 0.0222821043313738\n",
       "630. 0.0198609226813161\n",
       "631. 0.032268765656751\n",
       "632. 0.0400549407888097\n",
       "633. 0.028422293960262\n",
       "634. 0.0324089352320082\n",
       "635. 0.0427629512673493\n",
       "636. 0.0331167963318781\n",
       "637. 0.00247896806377824\n",
       "638. 0.00606236206120104\n",
       "639. 0.0439360397724304\n",
       "640. 0.0906288198622246\n",
       "641. 0.00167926215441663\n",
       "642. -0.0190198059347398\n",
       "643. -0.00959911550937094\n",
       "644. -0.0137728824847077\n",
       "645. -0.0192637703466321\n",
       "646. -0.00561835753479046\n",
       "647. 0.00156645468203095\n",
       "648. -0.0116017166948081\n",
       "649. -0.00730007287372912\n",
       "650. 0.00447020736422164\n",
       "651. -0.00501741332253442\n",
       "652. 0.0320167447628906\n",
       "653. 0.0102805150410277\n",
       "654. 0.0907907196388353\n",
       "655. 0.0431018003503089\n",
       "656. -0.0473843243565456\n",
       "657. -0.0198891249553349\n",
       "658. -0.012693912771586\n",
       "659. -0.0399833229498681\n",
       "660. 0.00606801651917152\n",
       "661. 0.0517411051828593\n",
       "662. 0.0167585501634919\n",
       "663. 0.0149037783137312\n",
       "664. 0.0254163176313009\n",
       "665. 0.000234435181059423\n",
       "666. 0.018703822178954\n",
       "667. 0.0980493883016806\n",
       "668. 0.0671661046601018\n",
       "669. -0.030320171834025\n",
       "670. -0.00162565258748193\n",
       "671. 0.00610887780683977\n",
       "672. -0.023640682899298\n",
       "673. 0.0268491657961944\n",
       "674. 0.0705088637477788\n",
       "675. 0.0344219754873174\n",
       "676. 0.0348793145177722\n",
       "677. 0.0450671459398522\n",
       "678. 0.0155718747155901\n",
       "679. 0.0846078357285311\n",
       "680. 0.0210478301108207\n",
       "681. -0.025124337302055\n",
       "682. -0.0127367822334152\n",
       "683. -0.0140412859127851\n",
       "684. -0.0236321566054115\n",
       "685. 0.00304107490337038\n",
       "686. 0.028973121183909\n",
       "687. 0.00806377135699548\n",
       "688. 0.00689106347756508\n",
       "689. 0.0110224786649932\n",
       "690. -0.00320778229024282\n",
       "691. 0.0926582964754977\n",
       "692. 0.0761991693108982\n",
       "693. 0.0806440811951427\n",
       "694. 0.0802370460748531\n",
       "695. 0.079605689429599\n",
       "696. 0.0886057107798255\n",
       "697. 0.0938782543074887\n",
       "698. 0.0896085270523943\n",
       "699. 0.0890966737234855\n",
       "700. 0.0899354127112506\n",
       "701. 0.0879317256699648\n",
       "702. -0.0362555327784772\n",
       "703. 0.000994606465345401\n",
       "704. 0.00439197189011901\n",
       "705. -0.0295700808188058\n",
       "706. 0.0364632880527071\n",
       "707. 0.0801472586721858\n",
       "708. 0.0496085240995027\n",
       "709. 0.0506899756049989\n",
       "710. 0.058181337830381\n",
       "711. 0.0294821981659299\n",
       "712. -0.116102257923174\n",
       "713. -0.122086537402938\n",
       "714. -0.161799394287216\n",
       "715. -0.0908888814258446\n",
       "716. -0.0180195723539115\n",
       "717. -0.0746447254819622\n",
       "718. -0.0830107414011701\n",
       "719. -0.0658915692448608\n",
       "720. -0.114442149539112\n",
       "721. -0.077435562392325\n",
       "722. -0.119743788970876\n",
       "723. -0.0509068865199133\n",
       "724. 0.0161075568652452\n",
       "725. -0.032130531477947\n",
       "726. -0.0358881669771443\n",
       "727. -0.0210439363623814\n",
       "728. -0.066116482278393\n",
       "729. -0.113717055310673\n",
       "730. -0.0438326455654064\n",
       "731. 0.0149881386434072\n",
       "732. -0.0339571758989133\n",
       "733. -0.036996041154099\n",
       "734. -0.014819007389388\n",
       "735. -0.0586126113690082\n",
       "736. -0.0792344453207471\n",
       "737. -0.0124218972732558\n",
       "738. -0.0730456557007612\n",
       "739. -0.0815283388326002\n",
       "740. -0.0556282380384965\n",
       "741. -0.102747831581246\n",
       "742. 0.0460942382680248\n",
       "743. -0.00169752225355054\n",
       "744. -0.00377140183140992\n",
       "745. 0.0131222305295807\n",
       "746. -0.0270294722878377\n",
       "747. 0.0528994411509596\n",
       "748. 0.0540895831788145\n",
       "749. 0.0610069985439951\n",
       "750. 0.0387925297172497\n",
       "751. 0.0126289522930241\n",
       "752. 0.0277003850664262\n",
       "753. -0.0135114373741215\n",
       "754. 0.0255797885640869\n",
       "755. -0.016161890697142\n",
       "756. 0.00293665486748249\n",
       "\n",
       "\n"
      ],
      "text/plain": [
       "         Comp 1       Comp 2        Comp 3      \n",
       "PP1       0.118759210  0.09149002   -0.035766133\n",
       "PP2      -0.072409509 -0.09061438    0.042277453\n",
       "PP3      -0.055474404 -0.08005158   -0.150769805\n",
       "PP4       0.009646413 -0.07518959    0.036989695\n",
       "PP5      -0.010200806 -0.09426079   -0.002032959\n",
       "PP6      -0.006936449 -0.09444220    0.013558782\n",
       "PP7       0.006389051 -0.05483053    0.034255844\n",
       "PP8      -0.017556883 -0.09944592    0.004456789\n",
       "PP9       0.082713952  0.06096664    0.090159742\n",
       "PP10      0.059825142  0.01285354    0.067609998\n",
       "PP11      0.028248507 -0.07271316   -0.152009192\n",
       "PP12      0.047246894 -0.04498210   -0.073874483\n",
       "PP13      0.012796823 -0.06554987   -0.050972228\n",
       "PP14      0.041891221 -0.06583521   -0.144832909\n",
       "PP15      0.054676541 -0.03739935   -0.016162240\n",
       "PP16      0.094966066  0.05773261    0.072468186\n",
       "PP17      0.091678197  0.04706831    0.008517196\n",
       "PP18      0.090570072  0.03847118    0.006273106\n",
       "PP19      0.082658086  0.03128104    0.029265391\n",
       "PP20      0.052184559 -0.03861413   -0.042155469\n",
       "PP21      0.040099784 -0.06039249   -0.065947953\n",
       "PP1_sqrd  0.109750194  0.09132392   -0.042114447\n",
       "PP2_sqrd -0.016191825 -0.01401890   -0.189888503\n",
       "PP3_sqrd -0.044230936 -0.06728901   -0.147366952\n",
       "PP4_sqrd  0.008673256 -0.07532407    0.029980954\n",
       "PP5_sqrd -0.011842822 -0.09324287   -0.009215439\n",
       "PP6_sqrd -0.007647740 -0.09589922    0.016639546\n",
       "PP7_sqrd  0.004509228 -0.05876404    0.033520564\n",
       "PP8_sqrd -0.016234346 -0.09912730    0.003892938\n",
       "PP9_sqrd  0.072309340  0.05770022    0.102671900\n",
       "...      ...          ...           ...         \n",
       "223      0.07746043   -0.0056675124 -0.021043936\n",
       "224      0.05700647   -0.0477947052 -0.066116482\n",
       "225      0.03087135   -0.0858029476 -0.113717055\n",
       "226      0.03699514   -0.0669447847 -0.043832646\n",
       "227      0.06411484   -0.0039003236  0.014988139\n",
       "228      0.05996070   -0.0239384003 -0.033957176\n",
       "229      0.05590734   -0.0329415529 -0.036996041\n",
       "230      0.05230978   -0.0263921205 -0.014819007\n",
       "231      0.03545315   -0.0706030108 -0.058612611\n",
       "232      0.05128619   -0.0527392613 -0.079234445\n",
       "233      0.09439782    0.0128863328 -0.012421897\n",
       "234      0.08049369   -0.0067128760 -0.073045656\n",
       "235      0.07903335   -0.0164423874 -0.081528339\n",
       "236      0.07895789   -0.0140967813 -0.055628238\n",
       "237      0.05239029   -0.0584852632 -0.102747832\n",
       "238      0.09523432    0.0238616870  0.046094238\n",
       "239      0.08917494    0.0082304973 -0.001697522\n",
       "240      0.08503264   -0.0006238618 -0.003771402\n",
       "241      0.08252482    0.0001545641  0.013122231\n",
       "242      0.05854536   -0.0408692490 -0.027029472\n",
       "243      0.10174720    0.0595807169  0.052899441\n",
       "244      0.10012476    0.0560351093  0.054089583\n",
       "245      0.09672113    0.0506600678  0.061006999\n",
       "246      0.09274425    0.0264293682  0.038792530\n",
       "247      0.09478237    0.0472584964  0.012628952\n",
       "248      0.10254764    0.0475497686  0.027700385\n",
       "249      0.08663481    0.0100154149 -0.013511437\n",
       "250      0.09662884    0.0403339543  0.025579789\n",
       "251      0.08320639    0.0016019811 -0.016161891\n",
       "252      0.07660640    0.0019834525  0.002936655"
      ]
     },
     "metadata": {},
     "output_type": "display_data"
    }
   ],
   "source": [
    "summary(pls.aug$finalModel)\n",
    "class(pls.aug$finalModel)\n",
    "pls.aug$finalModel$loadings\n",
    "pls.aug$finalModel$loading.weights\n",
    "pls.aug$finalModel$projection"
   ]
  },
  {
   "cell_type": "code",
   "execution_count": 53,
   "metadata": {
    "scrolled": true
   },
   "outputs": [
    {
     "data": {
      "text/html": [
       "<dl class=dl-horizontal>\n",
       "\t<dt>Comp 1</dt>\n",
       "\t\t<dd>30.955423179187</dd>\n",
       "\t<dt>Comp 2</dt>\n",
       "\t\t<dd>13.3277593395779</dd>\n",
       "\t<dt>Comp 3</dt>\n",
       "\t\t<dd>11.0889187761211</dd>\n",
       "</dl>\n"
      ],
      "text/latex": [
       "\\begin{description*}\n",
       "\\item[Comp 1] 30.955423179187\n",
       "\\item[Comp 2] 13.3277593395779\n",
       "\\item[Comp 3] 11.0889187761211\n",
       "\\end{description*}\n"
      ],
      "text/markdown": [
       "Comp 1\n",
       ":   30.955423179187Comp 2\n",
       ":   13.3277593395779Comp 3\n",
       ":   11.0889187761211\n",
       "\n"
      ],
      "text/plain": [
       "  Comp 1   Comp 2   Comp 3 \n",
       "30.95542 13.32776 11.08892 "
      ]
     },
     "metadata": {},
     "output_type": "display_data"
    },
    {
     "data": {
      "image/png": "[encoded data removed]",
      "text/plain": [
       "Plot with title \"X scores and X loadings\""
      ]
     },
     "metadata": {},
     "output_type": "display_data"
    },
    {
     "data": {
      "image/png": "[encoded data removed]",
      "text/plain": [
       "plot without title"
      ]
     },
     "metadata": {},
     "output_type": "display_data"
    }
   ],
   "source": [
    "explvar(pls.aug$finalModel)\n",
    "biplot(pls.aug$finalModel,which=\"x\")\n",
    "#coef(pls.aug.finalModel)  # 252个\n",
    "corrplot(pls.aug$finalModel,labels=colnames(X.aug))"
   ]
  },
  {
   "cell_type": "code",
   "execution_count": 54,
   "metadata": {
    "scrolled": true
   },
   "outputs": [
    {
     "data": {
      "image/png": "[encoded data removed]",
      "text/plain": [
       "plot without title"
      ]
     },
     "metadata": {},
     "output_type": "display_data"
    },
    {
     "data": {
      "text/html": [
       "0.502778736218023"
      ],
      "text/latex": [
       "0.502778736218023"
      ],
      "text/markdown": [
       "0.502778736218023"
      ],
      "text/plain": [
       "[1] 0.5027787"
      ]
     },
     "metadata": {},
     "output_type": "display_data"
    },
    {
     "data": {
      "text/html": [
       "0.822587160784378"
      ],
      "text/latex": [
       "0.822587160784378"
      ],
      "text/markdown": [
       "0.822587160784378"
      ],
      "text/plain": [
       "[1] 0.8225872"
      ]
     },
     "metadata": {},
     "output_type": "display_data"
    },
    {
     "data": {
      "image/png": "[encoded data removed]",
      "text/plain": [
       "plot without title"
      ]
     },
     "metadata": {},
     "output_type": "display_data"
    }
   ],
   "source": [
    "pls.aug.fitted<-predict(pls.aug$finalModel,ncomp=pls.aug$bestTune$ncomp)\n",
    "plot(pls.aug.fitted,y)\n",
    "abline(a = 0, b = 1)\n",
    "plot(pls.aug.fitted,y-pls.aug.fitted)\n",
    "sqrt(mean((y-pls.aug.fitted)^2))\n",
    "cor(pls.aug.fitted,y)"
   ]
  },
  {
   "cell_type": "code",
   "execution_count": 56,
   "metadata": {},
   "outputs": [
    {
     "name": "stdout",
     "output_type": "stream",
     "text": [
      "Data: \tX dimension: 76 252 \n",
      "\tY dimension: 76 1\n",
      "Fit method: oscorespls\n",
      "Number of components considered: 3\n",
      "TRAINING: % variance explained\n",
      "          1 comps  2 comps  3 comps\n",
      "X           30.96    44.28    55.37\n",
      ".outcome    40.72    63.11    67.66\n"
     ]
    }
   ],
   "source": [
    "pls.aug.finalCoef<-coef(pls.aug$finalModel, ncomp=pls.aug$bestTune$ncomp)\n",
    "summary(pls.aug$finalModel)\n",
    "#pls.aug$finalModel$xNames[order(abs(pls.aug.finalCoef),decreasing = T)]\n",
    "#pls.aug.finalCoef[order(abs(pls.aug.finalCoef),decreasing = T)]"
   ]
  },
  {
   "cell_type": "markdown",
   "metadata": {},
   "source": [
    "### Lasso"
   ]
  },
  {
   "cell_type": "code",
   "execution_count": 57,
   "metadata": {},
   "outputs": [
    {
     "data": {
      "text/plain": [
       "The lasso \n",
       "\n",
       " 76 samples\n",
       "252 predictors\n",
       "\n",
       "No pre-processing\n",
       "Resampling: Cross-Validated (10 fold) \n",
       "Summary of sample sizes: 69, 68, 69, 68, 68, 68, ... \n",
       "Resampling results across tuning parameters:\n",
       "\n",
       "  fraction  RMSE       Rsquared \n",
       "  0.01      0.6513141  0.4614004\n",
       "  0.02      0.5845682  0.5818238\n",
       "  0.03      0.5759930  0.6128123\n",
       "  0.04      0.5921489  0.6010864\n",
       "  0.05      0.6144012  0.5753466\n",
       "  0.06      0.6515288  0.5276755\n",
       "  0.07      0.6808084  0.4896541\n",
       "  0.08      0.7055652  0.4631316\n",
       "  0.09      0.7293999  0.4361376\n",
       "  0.10      0.7448612  0.4196183\n",
       "\n",
       "RMSE was used to select the optimal model using  the smallest value.\n",
       "The final value used for the model was fraction = 0.03. "
      ]
     },
     "metadata": {},
     "output_type": "display_data"
    }
   ],
   "source": [
    "lasso.aug <- train(x =X.aug, y = y,\n",
    "               method = \"lasso\",\n",
    "               #preProcess = \"pca\",\n",
    "               tuneGrid=data.frame(fraction=seq(0.01,0.1,0.01)),\n",
    "               trControl = trControl)\n",
    "lasso.aug"
   ]
  },
  {
   "cell_type": "code",
   "execution_count": 58,
   "metadata": {},
   "outputs": [
    {
     "data": {
      "text/html": [
       "0.03"
      ],
      "text/latex": [
       "0.03"
      ],
      "text/markdown": [
       "0.03"
      ],
      "text/plain": [
       "[1] 0.03"
      ]
     },
     "metadata": {},
     "output_type": "display_data"
    },
    {
     "data": {
      "text/html": [
       "<dl class=dl-horizontal>\n",
       "\t<dt>PP_3_8</dt>\n",
       "\t\t<dd>-0.44023484628095</dd>\n",
       "\t<dt>PP_4_15</dt>\n",
       "\t\t<dd>-0.283769134902364</dd>\n",
       "\t<dt>PP_1_2</dt>\n",
       "\t\t<dd>0.24968469221558</dd>\n",
       "\t<dt>PP_11_17</dt>\n",
       "\t\t<dd>0.196207876184588</dd>\n",
       "\t<dt>PP_8_10</dt>\n",
       "\t\t<dd>0.16967804623736</dd>\n",
       "\t<dt>PP_12_15</dt>\n",
       "\t\t<dd>-0.160999487128847</dd>\n",
       "\t<dt>PP_11_16</dt>\n",
       "\t\t<dd>0.155864333744217</dd>\n",
       "\t<dt>PP9_sqrd</dt>\n",
       "\t\t<dd>0.150712637928911</dd>\n",
       "\t<dt>PP_9_14</dt>\n",
       "\t\t<dd>-0.147286568128846</dd>\n",
       "\t<dt>PP_1_17</dt>\n",
       "\t\t<dd>0.14102626771825</dd>\n",
       "\t<dt>PP_1_6</dt>\n",
       "\t\t<dd>-0.116685629310125</dd>\n",
       "\t<dt>PP2_sqrd</dt>\n",
       "\t\t<dd>-0.110399619818136</dd>\n",
       "\t<dt>PP_2_4</dt>\n",
       "\t\t<dd>-0.108348204659041</dd>\n",
       "\t<dt>PP5_sqrd</dt>\n",
       "\t\t<dd>-0.107728680325285</dd>\n",
       "\t<dt>PP_14_21</dt>\n",
       "\t\t<dd>-0.0908635692571555</dd>\n",
       "\t<dt>PP14</dt>\n",
       "\t\t<dd>-0.0780257353203281</dd>\n",
       "\t<dt>PP_11_18</dt>\n",
       "\t\t<dd>0.0754888409351019</dd>\n",
       "\t<dt>PP_16_17</dt>\n",
       "\t\t<dd>0.0704991630118812</dd>\n",
       "\t<dt>PP_7_13</dt>\n",
       "\t\t<dd>-0.0582623104051556</dd>\n",
       "\t<dt>PP_8_17</dt>\n",
       "\t\t<dd>0.0485411688702478</dd>\n",
       "\t<dt>PP_2_5</dt>\n",
       "\t\t<dd>0.0312992572016031</dd>\n",
       "\t<dt>PP_12_21</dt>\n",
       "\t\t<dd>-0.024485457864718</dd>\n",
       "\t<dt>PP_1_3</dt>\n",
       "\t\t<dd>-0.0237443033135885</dd>\n",
       "</dl>\n"
      ],
      "text/latex": [
       "\\begin{description*}\n",
       "\\item[PP\\textbackslash{}\\_3\\textbackslash{}\\_8] -0.44023484628095\n",
       "\\item[PP\\textbackslash{}\\_4\\textbackslash{}\\_15] -0.283769134902364\n",
       "\\item[PP\\textbackslash{}\\_1\\textbackslash{}\\_2] 0.24968469221558\n",
       "\\item[PP\\textbackslash{}\\_11\\textbackslash{}\\_17] 0.196207876184588\n",
       "\\item[PP\\textbackslash{}\\_8\\textbackslash{}\\_10] 0.16967804623736\n",
       "\\item[PP\\textbackslash{}\\_12\\textbackslash{}\\_15] -0.160999487128847\n",
       "\\item[PP\\textbackslash{}\\_11\\textbackslash{}\\_16] 0.155864333744217\n",
       "\\item[PP9\\textbackslash{}\\_sqrd] 0.150712637928911\n",
       "\\item[PP\\textbackslash{}\\_9\\textbackslash{}\\_14] -0.147286568128846\n",
       "\\item[PP\\textbackslash{}\\_1\\textbackslash{}\\_17] 0.14102626771825\n",
       "\\item[PP\\textbackslash{}\\_1\\textbackslash{}\\_6] -0.116685629310125\n",
       "\\item[PP2\\textbackslash{}\\_sqrd] -0.110399619818136\n",
       "\\item[PP\\textbackslash{}\\_2\\textbackslash{}\\_4] -0.108348204659041\n",
       "\\item[PP5\\textbackslash{}\\_sqrd] -0.107728680325285\n",
       "\\item[PP\\textbackslash{}\\_14\\textbackslash{}\\_21] -0.0908635692571555\n",
       "\\item[PP14] -0.0780257353203281\n",
       "\\item[PP\\textbackslash{}\\_11\\textbackslash{}\\_18] 0.0754888409351019\n",
       "\\item[PP\\textbackslash{}\\_16\\textbackslash{}\\_17] 0.0704991630118812\n",
       "\\item[PP\\textbackslash{}\\_7\\textbackslash{}\\_13] -0.0582623104051556\n",
       "\\item[PP\\textbackslash{}\\_8\\textbackslash{}\\_17] 0.0485411688702478\n",
       "\\item[PP\\textbackslash{}\\_2\\textbackslash{}\\_5] 0.0312992572016031\n",
       "\\item[PP\\textbackslash{}\\_12\\textbackslash{}\\_21] -0.024485457864718\n",
       "\\item[PP\\textbackslash{}\\_1\\textbackslash{}\\_3] -0.0237443033135885\n",
       "\\end{description*}\n"
      ],
      "text/markdown": [
       "PP_3_8\n",
       ":   -0.44023484628095PP_4_15\n",
       ":   -0.283769134902364PP_1_2\n",
       ":   0.24968469221558PP_11_17\n",
       ":   0.196207876184588PP_8_10\n",
       ":   0.16967804623736PP_12_15\n",
       ":   -0.160999487128847PP_11_16\n",
       ":   0.155864333744217PP9_sqrd\n",
       ":   0.150712637928911PP_9_14\n",
       ":   -0.147286568128846PP_1_17\n",
       ":   0.14102626771825PP_1_6\n",
       ":   -0.116685629310125PP2_sqrd\n",
       ":   -0.110399619818136PP_2_4\n",
       ":   -0.108348204659041PP5_sqrd\n",
       ":   -0.107728680325285PP_14_21\n",
       ":   -0.0908635692571555PP14\n",
       ":   -0.0780257353203281PP_11_18\n",
       ":   0.0754888409351019PP_16_17\n",
       ":   0.0704991630118812PP_7_13\n",
       ":   -0.0582623104051556PP_8_17\n",
       ":   0.0485411688702478PP_2_5\n",
       ":   0.0312992572016031PP_12_21\n",
       ":   -0.024485457864718PP_1_3\n",
       ":   -0.0237443033135885\n",
       "\n"
      ],
      "text/plain": [
       "     PP_3_8     PP_4_15      PP_1_2    PP_11_17     PP_8_10    PP_12_15 \n",
       "-0.44023485 -0.28376913  0.24968469  0.19620788  0.16967805 -0.16099949 \n",
       "   PP_11_16    PP9_sqrd     PP_9_14     PP_1_17      PP_1_6    PP2_sqrd \n",
       " 0.15586433  0.15071264 -0.14728657  0.14102627 -0.11668563 -0.11039962 \n",
       "     PP_2_4    PP5_sqrd    PP_14_21        PP14    PP_11_18    PP_16_17 \n",
       "-0.10834820 -0.10772868 -0.09086357 -0.07802574  0.07548884  0.07049916 \n",
       "    PP_7_13     PP_8_17      PP_2_5    PP_12_21      PP_1_3 \n",
       "-0.05826231  0.04854117  0.03129926 -0.02448546 -0.02374430 "
      ]
     },
     "metadata": {},
     "output_type": "display_data"
    },
    {
     "data": {
      "image/png": "[encoded data removed]",
      "text/plain": [
       "plot without title"
      ]
     },
     "metadata": {},
     "output_type": "display_data"
    },
    {
     "data": {
      "text/html": [
       "0.3996429926043"
      ],
      "text/latex": [
       "0.3996429926043"
      ],
      "text/markdown": [
       "0.3996429926043"
      ],
      "text/plain": [
       "[1] 0.399643"
      ]
     },
     "metadata": {},
     "output_type": "display_data"
    },
    {
     "data": {
      "image/png": "[encoded data removed]",
      "text/plain": [
       "plot without title"
      ]
     },
     "metadata": {},
     "output_type": "display_data"
    }
   ],
   "source": [
    "#根据我们bestTune的参数lambda\n",
    "lasso.aug$bestTune$fraction\n",
    "lasso.aug.finalCoef<-predict(lasso.aug$finalModel,type=\"coefficients\",mode=\"fraction\",s=lasso.aug$bestTune$fraction)$coef\n",
    "lasso.aug.finalCoef.nonzero<-lasso.aug.finalCoef[which(lasso.aug.finalCoef!=0)]\n",
    "lasso.aug.finalCoef.nonzero[order(abs(lasso.aug.finalCoef.nonzero),decreasing = T)]\n",
    "lasso.aug.fitted<-predict(lasso.aug$finalModel,mode=\"fraction\",s=lasso.aug$bestTune$fraction,newx=X.aug)$fit\n",
    "plot(lasso.aug.fitted,y)\n",
    "abline(a = 0, b = 1)\n",
    "plot(lasso.aug.fitted,y-lasso.aug.fitted) # 残差依然和y高度相关\n",
    "sqrt(mean((y-lasso.aug.fitted)^2))"
   ]
  },
  {
   "cell_type": "code",
   "execution_count": 59,
   "metadata": {
    "scrolled": true
   },
   "outputs": [
    {
     "data": {
      "image/png": "[encoded data removed]",
      "text/plain": [
       "plot without title"
      ]
     },
     "metadata": {},
     "output_type": "display_data"
    }
   ],
   "source": [
    "plot(lasso.aug$finalModel,use.color =T)"
   ]
  },
  {
   "cell_type": "markdown",
   "metadata": {},
   "source": [
    "### SVM with Linear Kernel"
   ]
  },
  {
   "cell_type": "code",
   "execution_count": 60,
   "metadata": {},
   "outputs": [
    {
     "data": {
      "text/plain": [
       "Support Vector Machines with Linear Kernel \n",
       "\n",
       " 76 samples\n",
       "252 predictors\n",
       "\n",
       "No pre-processing\n",
       "Resampling: Cross-Validated (10 fold) \n",
       "Summary of sample sizes: 69, 68, 69, 68, 68, 68, ... \n",
       "Resampling results across tuning parameters:\n",
       "\n",
       "  C     RMSE       Rsquared \n",
       "  0.01  0.5449292  0.6697547\n",
       "  0.02  0.5440998  0.6668167\n",
       "  0.03  0.5520797  0.6555191\n",
       "  0.04  0.5577137  0.6487326\n",
       "  0.05  0.5671280  0.6361169\n",
       "  0.06  0.5768440  0.6206023\n",
       "  0.07  0.5852009  0.6083794\n",
       "  0.08  0.5948885  0.5953382\n",
       "  0.09  0.6023343  0.5865995\n",
       "  0.10  0.6072084  0.5793817\n",
       "\n",
       "RMSE was used to select the optimal model using  the smallest value.\n",
       "The final value used for the model was C = 0.02. "
      ]
     },
     "metadata": {},
     "output_type": "display_data"
    }
   ],
   "source": [
    "set.seed(1)\n",
    "svmLinear.aug <- train(x=X.aug,y=y,\n",
    "    #x = X.aug[,names(lasso.aug.finalCoef.nonzero)], y = y,\n",
    "    \n",
    "                       method = \"svmLinear\",\n",
    "                       #preProcess = \"pca\",\n",
    "                       tuneGrid=data.frame(C=seq(0.01,0.1,0.01)),\n",
    "                       trControl = trControl)\n",
    "svmLinear.aug"
   ]
  },
  {
   "cell_type": "markdown",
   "metadata": {},
   "source": [
    "### SVM with Radial Kernel"
   ]
  },
  {
   "cell_type": "code",
   "execution_count": 61,
   "metadata": {},
   "outputs": [
    {
     "data": {
      "text/plain": [
       "Support Vector Machines with Radial Basis Function Kernel \n",
       "\n",
       " 76 samples\n",
       "252 predictors\n",
       "\n",
       "No pre-processing\n",
       "Resampling: Cross-Validated (10 fold) \n",
       "Summary of sample sizes: 69, 68, 69, 68, 68, 68, ... \n",
       "Resampling results across tuning parameters:\n",
       "\n",
       "  C       RMSE       Rsquared \n",
       "    0.25  0.7098923  0.5744243\n",
       "    0.50  0.6168695  0.5974411\n",
       "    1.00  0.5658658  0.6304510\n",
       "    2.00  0.5721891  0.6081474\n",
       "    4.00  0.5705370  0.5771910\n",
       "    8.00  0.5838142  0.5401925\n",
       "   16.00  0.5859070  0.5391797\n",
       "   32.00  0.5859070  0.5391797\n",
       "   64.00  0.5859070  0.5391797\n",
       "  128.00  0.5859070  0.5391797\n",
       "\n",
       "Tuning parameter 'sigma' was held constant at a value of 0.003132951\n",
       "RMSE was used to select the optimal model using  the smallest value.\n",
       "The final values used for the model were sigma = 0.003132951 and C = 1. "
      ]
     },
     "metadata": {},
     "output_type": "display_data"
    }
   ],
   "source": [
    "set.seed(1)\n",
    "svmRadial.aug <- train(x = X.aug, y = y,\n",
    "                       method = \"svmRadial\",\n",
    "                       #preProcess = \"pca\",\n",
    "                       tuneLength = 10,\n",
    "                       trControl = trControl)\n",
    "svmRadial.aug"
   ]
  },
  {
   "cell_type": "markdown",
   "metadata": {},
   "source": [
    "可以看到，加入线性项之后，之前表现最好的SVM with Radial Kernel的方法预测效果也有不小的提升。"
   ]
  },
  {
   "cell_type": "code",
   "execution_count": 62,
   "metadata": {},
   "outputs": [
    {
     "data": {
      "text/plain": [
       "Linear Regression \n",
       "\n",
       "76 samples\n",
       "10 predictors\n",
       "\n",
       "No pre-processing\n",
       "Resampling: Cross-Validated (10 fold) \n",
       "Summary of sample sizes: 69, 68, 69, 68, 68, 68, ... \n",
       "Resampling results:\n",
       "\n",
       "  RMSE       Rsquared \n",
       "  0.5751537  0.5757133\n",
       "\n",
       "Tuning parameter 'intercept' was held constant at a value of TRUE\n",
       " "
      ]
     },
     "metadata": {},
     "output_type": "display_data"
    }
   ],
   "source": [
    "OLS.aug <- train(x = X.aug[,head(names(lasso.aug.finalCoef.nonzero),10)], y = y,\n",
    "                       method = \"lm\",\n",
    "                       #preProcess = \"pca\",\n",
    "                       tuneLength = 10,\n",
    "                       trControl = trControl)\n",
    "OLS.aug"
   ]
  },
  {
   "cell_type": "markdown",
   "metadata": {},
   "source": [
    "# 模型总结\n",
    "## 污渍1 `powdow.scaled['factor1']`"
   ]
  },
  {
   "cell_type": "markdown",
   "metadata": {},
   "source": [
    "### 重要自变量\n",
    "注：认为lasso回归中系数较大的自变量为对响应变量有显著的。"
   ]
  },
  {
   "cell_type": "code",
   "execution_count": 63,
   "metadata": {},
   "outputs": [
    {
     "data": {
      "text/html": [
       "<dl class=dl-horizontal>\n",
       "\t<dt>PP_3_8</dt>\n",
       "\t\t<dd>-0.44023484628095</dd>\n",
       "\t<dt>PP_4_15</dt>\n",
       "\t\t<dd>-0.283769134902364</dd>\n",
       "\t<dt>PP_1_2</dt>\n",
       "\t\t<dd>0.24968469221558</dd>\n",
       "\t<dt>PP_11_17</dt>\n",
       "\t\t<dd>0.196207876184588</dd>\n",
       "\t<dt>PP_8_10</dt>\n",
       "\t\t<dd>0.16967804623736</dd>\n",
       "\t<dt>PP_12_15</dt>\n",
       "\t\t<dd>-0.160999487128847</dd>\n",
       "\t<dt>PP_11_16</dt>\n",
       "\t\t<dd>0.155864333744217</dd>\n",
       "\t<dt>PP9_sqrd</dt>\n",
       "\t\t<dd>0.150712637928911</dd>\n",
       "\t<dt>PP_9_14</dt>\n",
       "\t\t<dd>-0.147286568128846</dd>\n",
       "\t<dt>PP_1_17</dt>\n",
       "\t\t<dd>0.14102626771825</dd>\n",
       "\t<dt>PP_1_6</dt>\n",
       "\t\t<dd>-0.116685629310125</dd>\n",
       "\t<dt>PP2_sqrd</dt>\n",
       "\t\t<dd>-0.110399619818136</dd>\n",
       "\t<dt>PP_2_4</dt>\n",
       "\t\t<dd>-0.108348204659041</dd>\n",
       "\t<dt>PP5_sqrd</dt>\n",
       "\t\t<dd>-0.107728680325285</dd>\n",
       "\t<dt>PP_14_21</dt>\n",
       "\t\t<dd>-0.0908635692571555</dd>\n",
       "\t<dt>PP14</dt>\n",
       "\t\t<dd>-0.0780257353203281</dd>\n",
       "\t<dt>PP_11_18</dt>\n",
       "\t\t<dd>0.0754888409351019</dd>\n",
       "\t<dt>PP_16_17</dt>\n",
       "\t\t<dd>0.0704991630118812</dd>\n",
       "\t<dt>PP_7_13</dt>\n",
       "\t\t<dd>-0.0582623104051556</dd>\n",
       "\t<dt>PP_8_17</dt>\n",
       "\t\t<dd>0.0485411688702478</dd>\n",
       "\t<dt>PP_2_5</dt>\n",
       "\t\t<dd>0.0312992572016031</dd>\n",
       "\t<dt>PP_12_21</dt>\n",
       "\t\t<dd>-0.024485457864718</dd>\n",
       "\t<dt>PP_1_3</dt>\n",
       "\t\t<dd>-0.0237443033135885</dd>\n",
       "</dl>\n"
      ],
      "text/latex": [
       "\\begin{description*}\n",
       "\\item[PP\\textbackslash{}\\_3\\textbackslash{}\\_8] -0.44023484628095\n",
       "\\item[PP\\textbackslash{}\\_4\\textbackslash{}\\_15] -0.283769134902364\n",
       "\\item[PP\\textbackslash{}\\_1\\textbackslash{}\\_2] 0.24968469221558\n",
       "\\item[PP\\textbackslash{}\\_11\\textbackslash{}\\_17] 0.196207876184588\n",
       "\\item[PP\\textbackslash{}\\_8\\textbackslash{}\\_10] 0.16967804623736\n",
       "\\item[PP\\textbackslash{}\\_12\\textbackslash{}\\_15] -0.160999487128847\n",
       "\\item[PP\\textbackslash{}\\_11\\textbackslash{}\\_16] 0.155864333744217\n",
       "\\item[PP9\\textbackslash{}\\_sqrd] 0.150712637928911\n",
       "\\item[PP\\textbackslash{}\\_9\\textbackslash{}\\_14] -0.147286568128846\n",
       "\\item[PP\\textbackslash{}\\_1\\textbackslash{}\\_17] 0.14102626771825\n",
       "\\item[PP\\textbackslash{}\\_1\\textbackslash{}\\_6] -0.116685629310125\n",
       "\\item[PP2\\textbackslash{}\\_sqrd] -0.110399619818136\n",
       "\\item[PP\\textbackslash{}\\_2\\textbackslash{}\\_4] -0.108348204659041\n",
       "\\item[PP5\\textbackslash{}\\_sqrd] -0.107728680325285\n",
       "\\item[PP\\textbackslash{}\\_14\\textbackslash{}\\_21] -0.0908635692571555\n",
       "\\item[PP14] -0.0780257353203281\n",
       "\\item[PP\\textbackslash{}\\_11\\textbackslash{}\\_18] 0.0754888409351019\n",
       "\\item[PP\\textbackslash{}\\_16\\textbackslash{}\\_17] 0.0704991630118812\n",
       "\\item[PP\\textbackslash{}\\_7\\textbackslash{}\\_13] -0.0582623104051556\n",
       "\\item[PP\\textbackslash{}\\_8\\textbackslash{}\\_17] 0.0485411688702478\n",
       "\\item[PP\\textbackslash{}\\_2\\textbackslash{}\\_5] 0.0312992572016031\n",
       "\\item[PP\\textbackslash{}\\_12\\textbackslash{}\\_21] -0.024485457864718\n",
       "\\item[PP\\textbackslash{}\\_1\\textbackslash{}\\_3] -0.0237443033135885\n",
       "\\end{description*}\n"
      ],
      "text/markdown": [
       "PP_3_8\n",
       ":   -0.44023484628095PP_4_15\n",
       ":   -0.283769134902364PP_1_2\n",
       ":   0.24968469221558PP_11_17\n",
       ":   0.196207876184588PP_8_10\n",
       ":   0.16967804623736PP_12_15\n",
       ":   -0.160999487128847PP_11_16\n",
       ":   0.155864333744217PP9_sqrd\n",
       ":   0.150712637928911PP_9_14\n",
       ":   -0.147286568128846PP_1_17\n",
       ":   0.14102626771825PP_1_6\n",
       ":   -0.116685629310125PP2_sqrd\n",
       ":   -0.110399619818136PP_2_4\n",
       ":   -0.108348204659041PP5_sqrd\n",
       ":   -0.107728680325285PP_14_21\n",
       ":   -0.0908635692571555PP14\n",
       ":   -0.0780257353203281PP_11_18\n",
       ":   0.0754888409351019PP_16_17\n",
       ":   0.0704991630118812PP_7_13\n",
       ":   -0.0582623104051556PP_8_17\n",
       ":   0.0485411688702478PP_2_5\n",
       ":   0.0312992572016031PP_12_21\n",
       ":   -0.024485457864718PP_1_3\n",
       ":   -0.0237443033135885\n",
       "\n"
      ],
      "text/plain": [
       "     PP_3_8     PP_4_15      PP_1_2    PP_11_17     PP_8_10    PP_12_15 \n",
       "-0.44023485 -0.28376913  0.24968469  0.19620788  0.16967805 -0.16099949 \n",
       "   PP_11_16    PP9_sqrd     PP_9_14     PP_1_17      PP_1_6    PP2_sqrd \n",
       " 0.15586433  0.15071264 -0.14728657  0.14102627 -0.11668563 -0.11039962 \n",
       "     PP_2_4    PP5_sqrd    PP_14_21        PP14    PP_11_18    PP_16_17 \n",
       "-0.10834820 -0.10772868 -0.09086357 -0.07802574  0.07548884  0.07049916 \n",
       "    PP_7_13     PP_8_17      PP_2_5    PP_12_21      PP_1_3 \n",
       "-0.05826231  0.04854117  0.03129926 -0.02448546 -0.02374430 "
      ]
     },
     "metadata": {},
     "output_type": "display_data"
    },
    {
     "data": {
      "text/html": [
       "<ol class=list-inline>\n",
       "\t<li>'PP14'</li>\n",
       "\t<li>'PP2_sqrd'</li>\n",
       "\t<li>'PP5_sqrd'</li>\n",
       "\t<li>'PP9_sqrd'</li>\n",
       "\t<li>'PP_1_2'</li>\n",
       "\t<li>'PP_1_3'</li>\n",
       "\t<li>'PP_1_6'</li>\n",
       "\t<li>'PP_1_17'</li>\n",
       "\t<li>'PP_2_4'</li>\n",
       "\t<li>'PP_2_5'</li>\n",
       "\t<li>'PP_3_8'</li>\n",
       "\t<li>'PP_4_15'</li>\n",
       "\t<li>'PP_7_13'</li>\n",
       "\t<li>'PP_8_10'</li>\n",
       "\t<li>'PP_8_17'</li>\n",
       "\t<li>'PP_9_14'</li>\n",
       "\t<li>'PP_11_16'</li>\n",
       "\t<li>'PP_11_17'</li>\n",
       "\t<li>'PP_11_18'</li>\n",
       "\t<li>'PP_12_15'</li>\n",
       "\t<li>'PP_12_21'</li>\n",
       "\t<li>'PP_14_21'</li>\n",
       "\t<li>'PP_16_17'</li>\n",
       "</ol>\n"
      ],
      "text/latex": [
       "\\begin{enumerate*}\n",
       "\\item 'PP14'\n",
       "\\item 'PP2\\_sqrd'\n",
       "\\item 'PP5\\_sqrd'\n",
       "\\item 'PP9\\_sqrd'\n",
       "\\item 'PP\\_1\\_2'\n",
       "\\item 'PP\\_1\\_3'\n",
       "\\item 'PP\\_1\\_6'\n",
       "\\item 'PP\\_1\\_17'\n",
       "\\item 'PP\\_2\\_4'\n",
       "\\item 'PP\\_2\\_5'\n",
       "\\item 'PP\\_3\\_8'\n",
       "\\item 'PP\\_4\\_15'\n",
       "\\item 'PP\\_7\\_13'\n",
       "\\item 'PP\\_8\\_10'\n",
       "\\item 'PP\\_8\\_17'\n",
       "\\item 'PP\\_9\\_14'\n",
       "\\item 'PP\\_11\\_16'\n",
       "\\item 'PP\\_11\\_17'\n",
       "\\item 'PP\\_11\\_18'\n",
       "\\item 'PP\\_12\\_15'\n",
       "\\item 'PP\\_12\\_21'\n",
       "\\item 'PP\\_14\\_21'\n",
       "\\item 'PP\\_16\\_17'\n",
       "\\end{enumerate*}\n"
      ],
      "text/markdown": [
       "1. 'PP14'\n",
       "2. 'PP2_sqrd'\n",
       "3. 'PP5_sqrd'\n",
       "4. 'PP9_sqrd'\n",
       "5. 'PP_1_2'\n",
       "6. 'PP_1_3'\n",
       "7. 'PP_1_6'\n",
       "8. 'PP_1_17'\n",
       "9. 'PP_2_4'\n",
       "10. 'PP_2_5'\n",
       "11. 'PP_3_8'\n",
       "12. 'PP_4_15'\n",
       "13. 'PP_7_13'\n",
       "14. 'PP_8_10'\n",
       "15. 'PP_8_17'\n",
       "16. 'PP_9_14'\n",
       "17. 'PP_11_16'\n",
       "18. 'PP_11_17'\n",
       "19. 'PP_11_18'\n",
       "20. 'PP_12_15'\n",
       "21. 'PP_12_21'\n",
       "22. 'PP_14_21'\n",
       "23. 'PP_16_17'\n",
       "\n",
       "\n"
      ],
      "text/plain": [
       " [1] \"PP14\"     \"PP2_sqrd\" \"PP5_sqrd\" \"PP9_sqrd\" \"PP_1_2\"   \"PP_1_3\"  \n",
       " [7] \"PP_1_6\"   \"PP_1_17\"  \"PP_2_4\"   \"PP_2_5\"   \"PP_3_8\"   \"PP_4_15\" \n",
       "[13] \"PP_7_13\"  \"PP_8_10\"  \"PP_8_17\"  \"PP_9_14\"  \"PP_11_16\" \"PP_11_17\"\n",
       "[19] \"PP_11_18\" \"PP_12_15\" \"PP_12_21\" \"PP_14_21\" \"PP_16_17\""
      ]
     },
     "metadata": {},
     "output_type": "display_data"
    }
   ],
   "source": [
    "lasso.aug.finalCoef.nonzero<-lasso.aug.finalCoef[which(lasso.aug.finalCoef!=0)]\n",
    "lasso.aug.finalCoef.nonzero[order(abs(lasso.aug.finalCoef.nonzero),decreasing = T)]\n",
    "names(lasso.aug.finalCoef.nonzero)"
   ]
  },
  {
   "cell_type": "markdown",
   "metadata": {},
   "source": [
    "### 预测\n",
    "#### 10-fold CV"
   ]
  },
  {
   "cell_type": "code",
   "execution_count": 64,
   "metadata": {},
   "outputs": [
    {
     "data": {
      "text/html": [
       "<table>\n",
       "<thead><tr><th></th><th scope=col>Min.</th><th scope=col>1st Qu.</th><th scope=col>Median</th><th scope=col>Mean</th><th scope=col>3rd Qu.</th><th scope=col>Max.</th><th scope=col>NA's</th></tr></thead>\n",
       "<tbody>\n",
       "\t<tr><th scope=row>OLS</th><td>0.4245</td><td>0.5606</td><td>0.6383</td><td>0.6578</td><td>0.7554</td><td>1.0080</td><td>0     </td></tr>\n",
       "\t<tr><th scope=row>OLS.restricted</th><td>0.3115</td><td>0.4192</td><td>0.5976</td><td>0.5867</td><td>0.7260</td><td>0.9356</td><td>0     </td></tr>\n",
       "\t<tr><th scope=row>lmStepAIC</th><td>0.3949</td><td>0.5870</td><td>0.6264</td><td>0.6476</td><td>0.6745</td><td>1.0080</td><td>0     </td></tr>\n",
       "\t<tr><th scope=row>svmLinear</th><td>0.3933</td><td>0.5001</td><td>0.6226</td><td>0.6343</td><td>0.7592</td><td>0.9078</td><td>0     </td></tr>\n",
       "\t<tr><th scope=row>svmRadial</th><td>0.3619</td><td>0.5497</td><td>0.6041</td><td>0.6087</td><td>0.6389</td><td>0.9385</td><td>0     </td></tr>\n",
       "\t<tr><th scope=row>lasso</th><td>0.3790</td><td>0.5219</td><td>0.6052</td><td>0.6118</td><td>0.6986</td><td>0.9280</td><td>0     </td></tr>\n",
       "\t<tr><th scope=row>pls</th><td>0.3513</td><td>0.5131</td><td>0.5623</td><td>0.6170</td><td>0.7319</td><td>0.9749</td><td>0     </td></tr>\n",
       "\t<tr><th scope=row>enet</th><td>0.3796</td><td>0.5222</td><td>0.6036</td><td>0.6115</td><td>0.6987</td><td>0.9296</td><td>0     </td></tr>\n",
       "\t<tr><th scope=row>svmRadial.aug</th><td>0.3639</td><td>0.4644</td><td>0.5752</td><td>0.5659</td><td>0.6453</td><td>0.8672</td><td>0     </td></tr>\n",
       "\t<tr><th scope=row>svmLinear.aug</th><td>0.3758</td><td>0.4061</td><td>0.5215</td><td>0.5441</td><td>0.6397</td><td>0.8623</td><td>0     </td></tr>\n",
       "\t<tr><th scope=row>lasso.aug</th><td>0.3239</td><td>0.4648</td><td>0.5387</td><td>0.5760</td><td>0.6424</td><td>0.9332</td><td>0     </td></tr>\n",
       "\t<tr><th scope=row>pls.aug</th><td>0.3761</td><td>0.4199</td><td>0.4352</td><td>0.5488</td><td>0.6551</td><td>0.9169</td><td>0     </td></tr>\n",
       "</tbody>\n",
       "</table>\n"
      ],
      "text/latex": [
       "\\begin{tabular}{r|lllllll}\n",
       "  & Min. & 1st Qu. & Median & Mean & 3rd Qu. & Max. & NA's\\\\\n",
       "\\hline\n",
       "\tOLS & 0.4245 & 0.5606 & 0.6383 & 0.6578 & 0.7554 & 1.0080 & 0     \\\\\n",
       "\tOLS.restricted & 0.3115 & 0.4192 & 0.5976 & 0.5867 & 0.7260 & 0.9356 & 0     \\\\\n",
       "\tlmStepAIC & 0.3949 & 0.5870 & 0.6264 & 0.6476 & 0.6745 & 1.0080 & 0     \\\\\n",
       "\tsvmLinear & 0.3933 & 0.5001 & 0.6226 & 0.6343 & 0.7592 & 0.9078 & 0     \\\\\n",
       "\tsvmRadial & 0.3619 & 0.5497 & 0.6041 & 0.6087 & 0.6389 & 0.9385 & 0     \\\\\n",
       "\tlasso & 0.3790 & 0.5219 & 0.6052 & 0.6118 & 0.6986 & 0.9280 & 0     \\\\\n",
       "\tpls & 0.3513 & 0.5131 & 0.5623 & 0.6170 & 0.7319 & 0.9749 & 0     \\\\\n",
       "\tenet & 0.3796 & 0.5222 & 0.6036 & 0.6115 & 0.6987 & 0.9296 & 0     \\\\\n",
       "\tsvmRadial.aug & 0.3639 & 0.4644 & 0.5752 & 0.5659 & 0.6453 & 0.8672 & 0     \\\\\n",
       "\tsvmLinear.aug & 0.3758 & 0.4061 & 0.5215 & 0.5441 & 0.6397 & 0.8623 & 0     \\\\\n",
       "\tlasso.aug & 0.3239 & 0.4648 & 0.5387 & 0.5760 & 0.6424 & 0.9332 & 0     \\\\\n",
       "\tpls.aug & 0.3761 & 0.4199 & 0.4352 & 0.5488 & 0.6551 & 0.9169 & 0     \\\\\n",
       "\\end{tabular}\n"
      ],
      "text/markdown": [
       "1. 0.4245\n",
       "2. 0.3115\n",
       "3. 0.3949\n",
       "4. 0.3933\n",
       "5. 0.3619\n",
       "6. 0.379\n",
       "7. 0.3513\n",
       "8. 0.3796\n",
       "9. 0.3639\n",
       "10. 0.3758\n",
       "11. 0.3239\n",
       "12. 0.3761\n",
       "13. 0.5606\n",
       "14. 0.4192\n",
       "15. 0.587\n",
       "16. 0.5001\n",
       "17. 0.5497\n",
       "18. 0.5219\n",
       "19. 0.5131\n",
       "20. 0.5222\n",
       "21. 0.4644\n",
       "22. 0.4061\n",
       "23. 0.4648\n",
       "24. 0.4199\n",
       "25. 0.6383\n",
       "26. 0.5976\n",
       "27. 0.6264\n",
       "28. 0.6226\n",
       "29. 0.6041\n",
       "30. 0.6052\n",
       "31. 0.5623\n",
       "32. 0.6036\n",
       "33. 0.5752\n",
       "34. 0.5215\n",
       "35. 0.5387\n",
       "36. 0.4352\n",
       "37. 0.6578\n",
       "38. 0.5867\n",
       "39. 0.6476\n",
       "40. 0.6343\n",
       "41. 0.6087\n",
       "42. 0.6118\n",
       "43. 0.617\n",
       "44. 0.6115\n",
       "45. 0.5659\n",
       "46. 0.5441\n",
       "47. 0.576\n",
       "48. 0.5488\n",
       "49. 0.7554\n",
       "50. 0.726\n",
       "51. 0.6745\n",
       "52. 0.7592\n",
       "53. 0.6389\n",
       "54. 0.6986\n",
       "55. 0.7319\n",
       "56. 0.6987\n",
       "57. 0.6453\n",
       "58. 0.6397\n",
       "59. 0.6424\n",
       "60. 0.6551\n",
       "61. 1.008\n",
       "62. 0.9356\n",
       "63. 1.008\n",
       "64. 0.9078\n",
       "65. 0.9385\n",
       "66. 0.928\n",
       "67. 0.9749\n",
       "68. 0.9296\n",
       "69. 0.8672\n",
       "70. 0.8623\n",
       "71. 0.9332\n",
       "72. 0.9169\n",
       "73. 0\n",
       "74. 0\n",
       "75. 0\n",
       "76. 0\n",
       "77. 0\n",
       "78. 0\n",
       "79. 0\n",
       "80. 0\n",
       "81. 0\n",
       "82. 0\n",
       "83. 0\n",
       "84. 0\n",
       "\n",
       "\n"
      ],
      "text/plain": [
       "               Min.   1st Qu. Median Mean   3rd Qu. Max.   NA's\n",
       "OLS            0.4245 0.5606  0.6383 0.6578 0.7554  1.0080 0   \n",
       "OLS.restricted 0.3115 0.4192  0.5976 0.5867 0.7260  0.9356 0   \n",
       "lmStepAIC      0.3949 0.5870  0.6264 0.6476 0.6745  1.0080 0   \n",
       "svmLinear      0.3933 0.5001  0.6226 0.6343 0.7592  0.9078 0   \n",
       "svmRadial      0.3619 0.5497  0.6041 0.6087 0.6389  0.9385 0   \n",
       "lasso          0.3790 0.5219  0.6052 0.6118 0.6986  0.9280 0   \n",
       "pls            0.3513 0.5131  0.5623 0.6170 0.7319  0.9749 0   \n",
       "enet           0.3796 0.5222  0.6036 0.6115 0.6987  0.9296 0   \n",
       "svmRadial.aug  0.3639 0.4644  0.5752 0.5659 0.6453  0.8672 0   \n",
       "svmLinear.aug  0.3758 0.4061  0.5215 0.5441 0.6397  0.8623 0   \n",
       "lasso.aug      0.3239 0.4648  0.5387 0.5760 0.6424  0.9332 0   \n",
       "pls.aug        0.3761 0.4199  0.4352 0.5488 0.6551  0.9169 0   "
      ]
     },
     "metadata": {},
     "output_type": "display_data"
    }
   ],
   "source": [
    "methods<-list(OLS = OLS, OLS.restricted=OLS.restricted, lmStepAIC=lmStepAIC, svmLinear = svmLinear,\n",
    "                         svmRadial=svmRadial,\n",
    "                         lasso = lasso, pls = pls,enet=enet,\n",
    "                         svmRadial.aug=svmRadial.aug,svmLinear.aug=svmLinear.aug,\n",
    "                         lasso.aug=lasso.aug, pls.aug=pls.aug)\n",
    "resamp <- resamples(methods)                     \n",
    "summary(resamp)$statistics$RMSE"
   ]
  },
  {
   "cell_type": "markdown",
   "metadata": {},
   "source": [
    "#### 对前10个样本的预测"
   ]
  },
  {
   "cell_type": "code",
   "execution_count": 65,
   "metadata": {},
   "outputs": [
    {
     "data": {
      "text/html": [
       "<table>\n",
       "<thead><tr><th scope=col>id</th><th scope=col>ytrue</th><th scope=col>OLS</th><th scope=col>pls</th><th scope=col>pls.aug</th><th scope=col>lasso</th><th scope=col>lasso.aug</th><th scope=col>enet</th><th scope=col>svmLinear</th><th scope=col>svmLinear.aug</th><th scope=col>svmRadial</th><th scope=col>svmRadial.aug</th></tr></thead>\n",
       "<tbody>\n",
       "\t<tr><td> 1          </td><td>-1.5855122  </td><td>-1.235586547</td><td>-1.26228901 </td><td>-1.5898191  </td><td>-1.0794214  </td><td>-1.65089485 </td><td>-1.0855943  </td><td>-0.7046725  </td><td>-1.73474293 </td><td>-1.09071624 </td><td>-0.78368548 </td></tr>\n",
       "\t<tr><td> 2          </td><td>-2.3714088  </td><td>-1.150952322</td><td>-1.08654185 </td><td>-1.5856431  </td><td>-1.0878594  </td><td>-1.31247786 </td><td>-1.0935166  </td><td>-0.5961632  </td><td>-1.38487626 </td><td>-0.94350796 </td><td>-1.07801483 </td></tr>\n",
       "\t<tr><td> 3          </td><td>-0.2747798  </td><td> 0.001373642</td><td> 0.03459549 </td><td>-0.4910662  </td><td> 0.3132947  </td><td> 0.24028108 </td><td> 0.3164747  </td><td> 0.1466207  </td><td>-0.13518253 </td><td> 0.44972470 </td><td> 0.16250107 </td></tr>\n",
       "\t<tr><td> 4          </td><td>-1.0845762  </td><td>-1.090128847</td><td>-1.00317991 </td><td>-1.3115291  </td><td>-0.9603596  </td><td>-1.19699602 </td><td>-0.9660995  </td><td>-0.6800874  </td><td>-1.44070819 </td><td>-0.53279319 </td><td>-0.52732721 </td></tr>\n",
       "\t<tr><td> 5          </td><td>-2.1562664  </td><td>-2.210344863</td><td>-2.14980363 </td><td>-2.5096955  </td><td>-1.9677296  </td><td>-2.01033885 </td><td>-1.9784179  </td><td>-1.5891415  </td><td>-2.75956045 </td><td>-1.10081480 </td><td>-0.76743581 </td></tr>\n",
       "\t<tr><td> 6          </td><td>-0.9666176  </td><td> 0.003946920</td><td>-0.10905434 </td><td>-0.1984712  </td><td>-0.2429749  </td><td>-0.15351906 </td><td>-0.2455679  </td><td>-0.2095178  </td><td>-0.05311603 </td><td> 0.09724259 </td><td>-0.07981223 </td></tr>\n",
       "\t<tr><td> 7          </td><td> 0.4459457  </td><td> 0.577643914</td><td> 0.71360882 </td><td> 0.3512938  </td><td> 0.7914424  </td><td> 0.47569562 </td><td> 0.7923066  </td><td> 0.5009531  </td><td> 0.49920565 </td><td> 0.32152408 </td><td> 0.25383973 </td></tr>\n",
       "\t<tr><td> 8          </td><td>-1.5368518  </td><td> 0.411712896</td><td> 0.60938670 </td><td> 0.2226336  </td><td> 0.6076258  </td><td> 0.38929570 </td><td> 0.6090758  </td><td> 0.3724530  </td><td> 0.26735330 </td><td> 0.03584050 </td><td> 0.11835985 </td></tr>\n",
       "\t<tr><td> 9          </td><td>-2.1313065  </td><td>-0.941475656</td><td>-0.59622142 </td><td>-0.9975191  </td><td>-0.5532731  </td><td>-1.12587152 </td><td>-0.5574353  </td><td>-0.3583275  </td><td>-1.35485482 </td><td>-1.05801435 </td><td>-0.85970426 </td></tr>\n",
       "\t<tr><td>10          </td><td> 0.3943648  </td><td> 0.570936897</td><td> 0.64252885 </td><td> 0.3890659  </td><td> 0.7463014  </td><td> 0.03921184 </td><td> 0.7421322  </td><td> 0.5510580  </td><td>-0.01244875 </td><td> 0.53640269 </td><td> 0.33144626 </td></tr>\n",
       "</tbody>\n",
       "</table>\n"
      ],
      "text/latex": [
       "\\begin{tabular}{r|llllllllllll}\n",
       " id & ytrue & OLS & pls & pls.aug & lasso & lasso.aug & enet & svmLinear & svmLinear.aug & svmRadial & svmRadial.aug\\\\\n",
       "\\hline\n",
       "\t  1           & -1.5855122   & -1.235586547 & -1.26228901  & -1.5898191   & -1.0794214   & -1.65089485  & -1.0855943   & -0.7046725   & -1.73474293  & -1.09071624  & -0.78368548 \\\\\n",
       "\t  2           & -2.3714088   & -1.150952322 & -1.08654185  & -1.5856431   & -1.0878594   & -1.31247786  & -1.0935166   & -0.5961632   & -1.38487626  & -0.94350796  & -1.07801483 \\\\\n",
       "\t  3           & -0.2747798   &  0.001373642 &  0.03459549  & -0.4910662   &  0.3132947   &  0.24028108  &  0.3164747   &  0.1466207   & -0.13518253  &  0.44972470  &  0.16250107 \\\\\n",
       "\t  4           & -1.0845762   & -1.090128847 & -1.00317991  & -1.3115291   & -0.9603596   & -1.19699602  & -0.9660995   & -0.6800874   & -1.44070819  & -0.53279319  & -0.52732721 \\\\\n",
       "\t  5           & -2.1562664   & -2.210344863 & -2.14980363  & -2.5096955   & -1.9677296   & -2.01033885  & -1.9784179   & -1.5891415   & -2.75956045  & -1.10081480  & -0.76743581 \\\\\n",
       "\t  6           & -0.9666176   &  0.003946920 & -0.10905434  & -0.1984712   & -0.2429749   & -0.15351906  & -0.2455679   & -0.2095178   & -0.05311603  &  0.09724259  & -0.07981223 \\\\\n",
       "\t  7           &  0.4459457   &  0.577643914 &  0.71360882  &  0.3512938   &  0.7914424   &  0.47569562  &  0.7923066   &  0.5009531   &  0.49920565  &  0.32152408  &  0.25383973 \\\\\n",
       "\t  8           & -1.5368518   &  0.411712896 &  0.60938670  &  0.2226336   &  0.6076258   &  0.38929570  &  0.6090758   &  0.3724530   &  0.26735330  &  0.03584050  &  0.11835985 \\\\\n",
       "\t  9           & -2.1313065   & -0.941475656 & -0.59622142  & -0.9975191   & -0.5532731   & -1.12587152  & -0.5574353   & -0.3583275   & -1.35485482  & -1.05801435  & -0.85970426 \\\\\n",
       "\t 10           &  0.3943648   &  0.570936897 &  0.64252885  &  0.3890659   &  0.7463014   &  0.03921184  &  0.7421322   &  0.5510580   & -0.01244875  &  0.53640269  &  0.33144626 \\\\\n",
       "\\end{tabular}\n"
      ],
      "text/plain": [
       "   id ytrue      OLS          pls         pls.aug    lasso      lasso.aug  \n",
       "1   1 -1.5855122 -1.235586547 -1.26228901 -1.5898191 -1.0794214 -1.65089485\n",
       "2   2 -2.3714088 -1.150952322 -1.08654185 -1.5856431 -1.0878594 -1.31247786\n",
       "3   3 -0.2747798  0.001373642  0.03459549 -0.4910662  0.3132947  0.24028108\n",
       "4   4 -1.0845762 -1.090128847 -1.00317991 -1.3115291 -0.9603596 -1.19699602\n",
       "5   5 -2.1562664 -2.210344863 -2.14980363 -2.5096955 -1.9677296 -2.01033885\n",
       "6   6 -0.9666176  0.003946920 -0.10905434 -0.1984712 -0.2429749 -0.15351906\n",
       "7   7  0.4459457  0.577643914  0.71360882  0.3512938  0.7914424  0.47569562\n",
       "8   8 -1.5368518  0.411712896  0.60938670  0.2226336  0.6076258  0.38929570\n",
       "9   9 -2.1313065 -0.941475656 -0.59622142 -0.9975191 -0.5532731 -1.12587152\n",
       "10 10  0.3943648  0.570936897  0.64252885  0.3890659  0.7463014  0.03921184\n",
       "   enet       svmLinear  svmLinear.aug svmRadial   svmRadial.aug\n",
       "1  -1.0855943 -0.7046725 -1.73474293   -1.09071624 -0.78368548  \n",
       "2  -1.0935166 -0.5961632 -1.38487626   -0.94350796 -1.07801483  \n",
       "3   0.3164747  0.1466207 -0.13518253    0.44972470  0.16250107  \n",
       "4  -0.9660995 -0.6800874 -1.44070819   -0.53279319 -0.52732721  \n",
       "5  -1.9784179 -1.5891415 -2.75956045   -1.10081480 -0.76743581  \n",
       "6  -0.2455679 -0.2095178 -0.05311603    0.09724259 -0.07981223  \n",
       "7   0.7923066  0.5009531  0.49920565    0.32152408  0.25383973  \n",
       "8   0.6090758  0.3724530  0.26735330    0.03584050  0.11835985  \n",
       "9  -0.5574353 -0.3583275 -1.35485482   -1.05801435 -0.85970426  \n",
       "10  0.7421322  0.5510580 -0.01244875    0.53640269  0.33144626  "
      ]
     },
     "metadata": {},
     "output_type": "display_data"
    },
    {
     "data": {
      "text/html": [
       "<dl class=dl-horizontal>\n",
       "\t<dt>pls.aug</dt>\n",
       "\t\t<dd>0.762951143447485</dd>\n",
       "\t<dt>svmLinear.aug</dt>\n",
       "\t\t<dd>0.797912868990397</dd>\n",
       "\t<dt>lasso.aug</dt>\n",
       "\t\t<dd>0.832701737332542</dd>\n",
       "\t<dt>OLS</dt>\n",
       "\t\t<dd>0.888498573947171</dd>\n",
       "\t<dt>svmRadial</dt>\n",
       "\t\t<dd>0.949728593187628</dd>\n",
       "\t<dt>pls</dt>\n",
       "\t\t<dd>0.984337636821213</dd>\n",
       "\t<dt>svmRadial.aug</dt>\n",
       "\t\t<dd>0.996512432112891</dd>\n",
       "\t<dt>enet</dt>\n",
       "\t\t<dd>1.00603535567756</dd>\n",
       "\t<dt>lasso</dt>\n",
       "\t\t<dd>1.00778440565219</dd>\n",
       "\t<dt>svmLinear</dt>\n",
       "\t\t<dd>1.09452607341616</dd>\n",
       "</dl>\n"
      ],
      "text/latex": [
       "\\begin{description*}\n",
       "\\item[pls.aug] 0.762951143447485\n",
       "\\item[svmLinear.aug] 0.797912868990397\n",
       "\\item[lasso.aug] 0.832701737332542\n",
       "\\item[OLS] 0.888498573947171\n",
       "\\item[svmRadial] 0.949728593187628\n",
       "\\item[pls] 0.984337636821213\n",
       "\\item[svmRadial.aug] 0.996512432112891\n",
       "\\item[enet] 1.00603535567756\n",
       "\\item[lasso] 1.00778440565219\n",
       "\\item[svmLinear] 1.09452607341616\n",
       "\\end{description*}\n"
      ],
      "text/markdown": [
       "pls.aug\n",
       ":   0.762951143447485svmLinear.aug\n",
       ":   0.797912868990397lasso.aug\n",
       ":   0.832701737332542OLS\n",
       ":   0.888498573947171svmRadial\n",
       ":   0.949728593187628pls\n",
       ":   0.984337636821213svmRadial.aug\n",
       ":   0.996512432112891enet\n",
       ":   1.00603535567756lasso\n",
       ":   1.00778440565219svmLinear\n",
       ":   1.09452607341616\n",
       "\n"
      ],
      "text/plain": [
       "      pls.aug svmLinear.aug     lasso.aug           OLS     svmRadial \n",
       "    0.7629511     0.7979129     0.8327017     0.8884986     0.9497286 \n",
       "          pls svmRadial.aug          enet         lasso     svmLinear \n",
       "    0.9843376     0.9965124     1.0060354     1.0077844     1.0945261 "
      ]
     },
     "metadata": {},
     "output_type": "display_data"
    }
   ],
   "source": [
    "newx<- powder.scaled.test[,predictors.index]\n",
    "newy<-powder.scaled.test$factor1\n",
    "RMSE.record<-c()\n",
    "yhat.record<-data.frame(id=1:10,ytrue=newy)\n",
    "yhat.record[\"OLS\"]<-predict(OLS$finalModel,newdata=newx)\n",
    "yhat.record[\"pls\"]<-predict(pls$finalModel,newdata=newx, ncomp = pls$finalModel$ncomp)\n",
    "yhat.record[\"pls.aug\"]<-predict(pls.aug$finalModel,newdata=powder.augmented.imputed.knn.test, ncomp = pls.aug$finalModel$ncomp)\n",
    "yhat.record[\"lasso\"]<-predict(lasso$finalModel,newx=newx,s=lasso$bestTune$fraction,mode=\"fraction\")$fit\n",
    "yhat.record[\"lasso.aug\"]<-predict(lasso.aug$finalModel,newx=powder.augmented.imputed.knn.test,s=lasso.aug$bestTune$fraction,mode=\"fraction\")$fit\n",
    "yhat.record[\"enet\"]<-predict(enet$finalModel,newx=newx,s=enet$bestTune$fraction,mode=\"fraction\")$fit\n",
    "yhat.record[\"svmLinear\"]<-predict(svmLinear$finalModel,newdata=newx)\n",
    "yhat.record[\"svmLinear.aug\"]<-predict(svmLinear.aug$finalModel,newdata=powder.augmented.imputed.knn.test)\n",
    "yhat.record[\"svmRadial\"]<-predict(svmRadial$finalModel,newdata=newx)\n",
    "yhat.record[\"svmRadial.aug\"]<-predict(svmRadial.aug$finalModel,newdata=powder.augmented.imputed.knn.test)\n",
    "\n",
    "#yhat.record[\"mean\"]<-rowMeans(yhat.record[,-c(1,2)])\n",
    "for (method in colnames(yhat.record)[-c(1,2)]){\n",
    "    RMSE.record[method]<-sqrt(mean((yhat.record[method]-newy)^2))\n",
    "}\n",
    "yhat.record\n",
    "RMSE.record[order(RMSE.record)]\n",
    "\n",
    "# for (method in colnames(yhat.record)[-c(1,2)]){\n",
    "#     RMSE.record[method]<-sqrt(mean((yhat.record[-8,method]-newy[-8])^2))\n",
    "# }\n",
    "# RMSE.record[order(RMSE.record)]"
   ]
  },
  {
   "cell_type": "code",
   "execution_count": 66,
   "metadata": {},
   "outputs": [
    {
     "data": {
      "image/png": "[encoded data removed]",
      "text/plain": [
       "plot without title"
      ]
     },
     "metadata": {},
     "output_type": "display_data"
    },
    {
     "data": {
      "text/html": [
       "0.575166310440729"
      ],
      "text/latex": [
       "0.575166310440729"
      ],
      "text/markdown": [
       "0.575166310440729"
      ],
      "text/plain": [
       "[1] 0.5751663"
      ]
     },
     "metadata": {},
     "output_type": "display_data"
    },
    {
     "data": {
      "text/html": [
       "0.791432608811714"
      ],
      "text/latex": [
       "0.791432608811714"
      ],
      "text/markdown": [
       "0.791432608811714"
      ],
      "text/plain": [
       "[1] 0.7914326"
      ]
     },
     "metadata": {},
     "output_type": "display_data"
    },
    {
     "data": {
      "image/png": "[encoded data removed]",
      "text/plain": [
       "plot without title"
      ]
     },
     "metadata": {},
     "output_type": "display_data"
    }
   ],
   "source": [
    "svmLinear.fitted<-predict(svmLinear,X)\n",
    "plot(svmLinear.fitted,y)\n",
    "abline(a = 0, b = 1)\n",
    "plot(svmLinear.fitted,y-svmLinear.fitted)\n",
    "sqrt(mean((y-svmLinear.fitted)^2))\n",
    "cor(svmLinear.fitted,y)"
   ]
  }
 ],
 "metadata": {
  "kernelspec": {
   "display_name": "R",
   "language": "R",
   "name": "ir"
  },
  "language_info": {
   "codemirror_mode": "r",
   "file_extension": ".r",
   "mimetype": "text/x-r-source",
   "name": "R",
   "pygments_lexer": "r",
   "version": "3.3.2"
  }
 },
 "nbformat": 4,
 "nbformat_minor": 2
}
